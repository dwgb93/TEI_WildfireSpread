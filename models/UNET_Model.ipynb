{
  "cells": [
    {
      "cell_type": "markdown",
      "metadata": {
        "id": "view-in-github",
        "colab_type": "text"
      },
      "source": [
        "<a href=\"https://colab.research.google.com/github/dwgb93/TEI_WildfireSpread/blob/main/models/UNET_Model.ipynb\" target=\"_parent\"><img src=\"https://colab.research.google.com/assets/colab-badge.svg\" alt=\"Open In Colab\"/></a>"
      ]
    },
    {
      "cell_type": "markdown",
      "metadata": {
        "id": "5xck4tfO6s0t"
      },
      "source": [
        "#The Erd&#337;s Institute Fall Boot Camp - Team Mahogany\n",
        "\n",
        "We're using data from [this paper](https://arxiv.org/pdf/2112.02447.pdf) to predict where wildfires spread based on 12 features including wind, temperature, humidity, vegetation, and elevation.\n",
        "\n",
        "This is a first code demo from [Google Research](https://github.com/google-research/google-research/tree/master/simulation_research/next_day_wildfire_spread) to visualize the data.\n",
        "\n",
        "Each .tfrecord file consists of 100 64km by 64km grids with 12 features, described below."
      ]
    },
    {
      "cell_type": "markdown",
      "metadata": {
        "id": "uPojRlNQPJub"
      },
      "source": [
        "Licensed under the Apache License, Version 2.0\n",
        "# Imports"
      ]
    },
    {
      "cell_type": "markdown",
      "metadata": {
        "id": "oOtnY2y8Om-1"
      },
      "source": [
        "Import the required libraries."
      ]
    },
    {
      "cell_type": "code",
      "execution_count": 1,
      "metadata": {
        "id": "1Mf4kbp8yOxd"
      },
      "outputs": [],
      "source": [
        "import re\n",
        "from typing import Dict, List, Optional, Text, Tuple\n",
        "%matplotlib inline\n",
        "import matplotlib.pyplot as plt\n",
        "from matplotlib import colors\n",
        "\n",
        "import tensorflow as tf\n",
        "import numpy as np\n",
        "import pandas as pd"
      ]
    },
    {
      "cell_type": "markdown",
      "metadata": {
        "id": "TXAnM2x_7p9z"
      },
      "source": [
        "Note: This links your Google Drive to Colab. Useful if the data is stored in Google Drive."
      ]
    },
    {
      "cell_type": "code",
      "execution_count": 2,
      "metadata": {
        "colab": {
          "base_uri": "https://localhost:8080/"
        },
        "id": "83ySLB31i3n-",
        "outputId": "37957e8f-9b0c-47b2-be28-9b9b7bb08e41"
      },
      "outputs": [
        {
          "output_type": "stream",
          "name": "stdout",
          "text": [
            "Mounted at /content/drive\n"
          ]
        }
      ],
      "source": [
        "from google.colab import drive\n",
        "drive.mount('/content/drive')"
      ]
    },
    {
      "cell_type": "markdown",
      "metadata": {
        "id": "aVb2hhOcgVwU"
      },
      "source": [
        "# Common functions (click to expand)"
      ]
    },
    {
      "cell_type": "markdown",
      "metadata": {
        "id": "OabUJMGqO9NE"
      },
      "source": [
        "Run the following three cells to define the required library functions for loading the data."
      ]
    },
    {
      "cell_type": "code",
      "execution_count": 3,
      "metadata": {
        "id": "GTTV3tjjCcdn"
      },
      "outputs": [],
      "source": [
        "# Constants for the data reader\n",
        "\n",
        "INPUT_FEATURES = ['elevation', 'th', 'vs',  'tmmn', 'tmmx', 'sph',\n",
        "                  'pr', 'pdsi', 'NDVI', 'population', 'erc', 'PrevFireMask']\n",
        "\n",
        "OUTPUT_FEATURES = ['FireMask']\n",
        "\n",
        "# Data statistics\n",
        "# For each variable, the statistics are ordered in the form:\n",
        "# (min_clip, max_clip, mean, std)\n",
        "# I recalculated the statistics based on the s\n",
        "DATA_STATS = {\n",
        "    # 0.1 percentile, 99.9 percentile\n",
        "    # Elevation\n",
        "    'elevation' : (0.0, 3536.0, 896.5714, 842.6101),\n",
        "    # Drought index - this claimed to be pressure, but it's Palmer Drought Severity Index\n",
        "    # https://en.wikipedia.org/wiki/Palmer_drought_index\n",
        "    # 0.1 percentile, 99.9 percentile\n",
        "    'pdsi' : (-6.0559, 6.7432, -0.7729, 2.4407),\n",
        "    # Normalized Difference Vegetation Index https://gisgeography.com/ndvi-normalized-difference-vegetation-index/\n",
        "    'NDVI' : (-3826.0, 9282.0, 5350.6865, 2185.2192),\n",
        "    # Precipitation in mm.\n",
        "    # Negative values make no sense, so min is set to 0.\n",
        "    # 0., 99.9 percentile\n",
        "    'pr': (0.0, 19.2422, 0.3234289, 1.5336641),\n",
        "    # Specific humidity ranges from 0 to 100%.\n",
        "    'sph': (0., 1., 0.0065263123, 0.003735537), #max changed to 1\n",
        "    # Wind direction - degrees clockwise from north.\n",
        "    # Thus min set to 0 and max set to 360.\n",
        "    'th' : (0.0, 360.0, 146.6468, 3435.0725),\n",
        "    # Min/max temperature in Kelvin.\n",
        "    # -20 degree C, 99.9 percentile\n",
        "    'tmmn' : (253.15, 299.6313, 281.85196, 18.4972), #min changed\n",
        "    # -20 degree C, 99.9 percentile\n",
        "    'tmmx' : (253.15, 317.3869, 297.71643, 19.4581), #min changed\n",
        "    # Wind speed.\n",
        "    # Negative values do not make sense, given there is a wind direction.\n",
        "    # 0., 99.9 percentile\n",
        "    'vs' : (0.0, 9.7368, 3.6278, 1.3092),\n",
        "    # NFDRS fire danger index energy release component expressed in BTU's per\n",
        "    # square foot.\n",
        "    # Negative values do not make sense. Thus min set to zero.\n",
        "    # 0., 99.9 percentile\n",
        "    'erc' : (0.0, 109.9254, 53.4690, 25.0980),\n",
        "    # Population\n",
        "    # min, 99.9 percentile\n",
        "    'population' : (0.0, 2935.7548828125, 30.4603, 214.20015),\n",
        "    # We don't want to normalize the FireMasks.\n",
        "    'PrevFireMask': (-1., 1., 0., 1.),\n",
        "    'FireMask': (-1., 1., 0., 1.)\n",
        "}"
      ]
    },
    {
      "cell_type": "code",
      "execution_count": 4,
      "metadata": {
        "id": "QqGYv21hD-2q"
      },
      "outputs": [],
      "source": [
        "\"\"\"Library of common functions used in deep learning neural networks.\n",
        "\"\"\"\n",
        "def random_crop_input_and_output_images(\n",
        "    input_img: tf.Tensor,\n",
        "    output_img: tf.Tensor,\n",
        "    sample_size: int,\n",
        "    num_in_channels: int,\n",
        "    num_out_channels: int,\n",
        ") -> Tuple[tf.Tensor, tf.Tensor]:\n",
        "  \"\"\"Randomly axis-align crop input and output image tensors.\n",
        "\n",
        "  Args:\n",
        "    input_img: Tensor with dimensions HWC.\n",
        "    output_img: Tensor with dimensions HWC.\n",
        "    sample_size: Side length (square) to crop to.\n",
        "    num_in_channels: Number of channels in `input_img`.\n",
        "    num_out_channels: Number of channels in `output_img`.\n",
        "  Returns:\n",
        "    input_img: Tensor with dimensions HWC.\n",
        "    output_img: Tensor with dimensions HWC.\n",
        "  \"\"\"\n",
        "  combined = tf.concat([input_img, output_img], axis=2)\n",
        "  combined = tf.image.random_crop(\n",
        "      combined,\n",
        "      [sample_size, sample_size, num_in_channels + num_out_channels])\n",
        "  input_img = combined[:, :, 0:num_in_channels]\n",
        "  output_img = combined[:, :, -num_out_channels:]\n",
        "  return input_img, output_img\n",
        "\n",
        "\n",
        "def center_crop_input_and_output_images(\n",
        "    input_img: tf.Tensor,\n",
        "    output_img: tf.Tensor,\n",
        "    sample_size: int,\n",
        ") -> Tuple[tf.Tensor, tf.Tensor]:\n",
        "  \"\"\"Calls `tf.image.central_crop` on input and output image tensors.\n",
        "\n",
        "  Args:\n",
        "    input_img: Tensor with dimensions HWC.\n",
        "    output_img: Tensor with dimensions HWC.\n",
        "    sample_size: Side length (square) to crop to.\n",
        "  Returns:\n",
        "    input_img: Tensor with dimensions HWC.\n",
        "    output_img: Tensor with dimensions HWC.\n",
        "  \"\"\"\n",
        "  central_fraction = sample_size / input_img.shape[0]\n",
        "  input_img = tf.image.central_crop(input_img, central_fraction)\n",
        "  output_img = tf.image.central_crop(output_img, central_fraction)\n",
        "  return input_img, output_img"
      ]
    },
    {
      "cell_type": "code",
      "execution_count": 5,
      "metadata": {
        "id": "VBvI9FuGEC09"
      },
      "outputs": [],
      "source": [
        "\"\"\"Dataset reader for Earth Engine data.\"\"\"\n",
        "\n",
        "def _get_base_key(key: Text) -> Text:\n",
        "  \"\"\"Extracts the base key from the provided key.\n",
        "\n",
        "  Earth Engine exports TFRecords containing each data variable with its\n",
        "  corresponding variable name. In the case of time sequences, the name of the\n",
        "  data variable is of the form 'variable_1', 'variable_2', ..., 'variable_n',\n",
        "  where 'variable' is the name of the variable, and n the number of elements\n",
        "  in the time sequence. Extracting the base key ensures that each step of the\n",
        "  time sequence goes through the same normalization steps.\n",
        "  The base key obeys the following naming pattern: '([a-zA-Z]+)'\n",
        "  For instance, for an input key 'variable_1', this function returns 'variable'.\n",
        "  For an input key 'variable', this function simply returns 'variable'.\n",
        "\n",
        "  Args:\n",
        "    key: Input key.\n",
        "\n",
        "  Returns:\n",
        "    The corresponding base key.\n",
        "\n",
        "  Raises:\n",
        "    ValueError when `key` does not match the expected pattern.\n",
        "  \"\"\"\n",
        "  match = re.match(r'([a-zA-Z]+)', key)\n",
        "  if match:\n",
        "    return match.group(1)\n",
        "  raise ValueError(\n",
        "      'The provided key does not match the expected pattern: {}'.format(key))\n",
        "\n",
        "\n",
        "def _clip_and_rescale(inputs: tf.Tensor, key: Text) -> tf.Tensor:\n",
        "  \"\"\"Clips and rescales inputs with the stats corresponding to `key`.\n",
        "\n",
        "  Args:\n",
        "    inputs: Inputs to clip and rescale.\n",
        "    key: Key describing the inputs.\n",
        "\n",
        "  Returns:\n",
        "    Clipped and rescaled input.\n",
        "\n",
        "  Raises:\n",
        "    ValueError if there are no data statistics available for `key`.\n",
        "  \"\"\"\n",
        "  base_key = _get_base_key(key)\n",
        "  if base_key not in DATA_STATS:\n",
        "    raise ValueError(\n",
        "        'No data statistics available for the requested key: {}.'.format(key))\n",
        "  min_val, max_val, _, _ = DATA_STATS[base_key]\n",
        "  inputs = tf.clip_by_value(inputs, min_val, max_val)\n",
        "  return tf.math.divide_no_nan((inputs - min_val), (max_val - min_val))\n",
        "\n",
        "\n",
        "def _clip_and_normalize(inputs: tf.Tensor, key: Text) -> tf.Tensor:\n",
        "  \"\"\"Clips and normalizes inputs with the stats corresponding to `key`.\n",
        "\n",
        "  Args:\n",
        "    inputs: Inputs to clip and normalize.\n",
        "    key: Key describing the inputs.\n",
        "\n",
        "  Returns:\n",
        "    Clipped and normalized input.\n",
        "\n",
        "  Raises:\n",
        "    ValueError if there are no data statistics available for `key`.\n",
        "  \"\"\"\n",
        "  base_key = _get_base_key(key)\n",
        "  if base_key not in DATA_STATS:\n",
        "    raise ValueError(\n",
        "        'No data statistics available for the requested key: {}.'.format(key))\n",
        "  min_val, max_val, mean, std = DATA_STATS[base_key]\n",
        "  inputs = tf.clip_by_value(inputs, min_val, max_val)\n",
        "  inputs = inputs - mean\n",
        "  return tf.math.divide_no_nan(inputs, std)\n",
        "\n",
        "def _get_features_dict(\n",
        "    sample_size: int,\n",
        "    features: List[Text],\n",
        ") -> Dict[Text, tf.io.FixedLenFeature]:\n",
        "  \"\"\"Creates a features dictionary for TensorFlow IO.\n",
        "\n",
        "  Args:\n",
        "    sample_size: Size of the input tiles (square).\n",
        "    features: List of feature names.\n",
        "\n",
        "  Returns:\n",
        "    A features dictionary for TensorFlow IO.\n",
        "  \"\"\"\n",
        "  sample_shape = [sample_size, sample_size]\n",
        "  features = set(features)\n",
        "  columns = [\n",
        "      tf.io.FixedLenFeature(shape=sample_shape, dtype=tf.float32)\n",
        "      for _ in features\n",
        "  ]\n",
        "  return dict(zip(features, columns))\n",
        "\n",
        "\n",
        "def _parse_fn(\n",
        "    example_proto: tf.train.Example, data_size: int, sample_size: int,\n",
        "    num_in_channels: int, clip_and_normalize: bool,\n",
        "    clip_and_rescale: bool, random_crop: bool, center_crop: bool,\n",
        ") -> Tuple[tf.Tensor, tf.Tensor, tf.Tensor]:\n",
        "  \"\"\"Reads a serialized example.\n",
        "\n",
        "  Args:\n",
        "    example_proto: A TensorFlow example protobuf.\n",
        "    data_size: Size of tiles (square) as read from input files.\n",
        "    sample_size: Size the tiles (square) when input into the model.\n",
        "    num_in_channels: Number of input channels.\n",
        "    clip_and_normalize: True if the data should be clipped and normalized.\n",
        "    clip_and_rescale: True if the data should be clipped and rescaled.\n",
        "    random_crop: True if the data should be randomly cropped.\n",
        "    center_crop: True if the data should be cropped in the center.\n",
        "\n",
        "  Returns:\n",
        "    (input_img, output_img) tuple of inputs and outputs to the ML model.\n",
        "  \"\"\"\n",
        "  if (random_crop and center_crop):\n",
        "    raise ValueError('Cannot have both random_crop and center_crop be True')\n",
        "  input_features, output_features = INPUT_FEATURES, OUTPUT_FEATURES\n",
        "  feature_names = input_features + output_features\n",
        "  features_dict = _get_features_dict(data_size, feature_names)\n",
        "  features = tf.io.parse_single_example(example_proto, features_dict)\n",
        "\n",
        "  if clip_and_normalize:\n",
        "    inputs_list = [\n",
        "        _clip_and_normalize(features.get(key), key) for key in input_features\n",
        "    ]\n",
        "  elif clip_and_rescale:\n",
        "    inputs_list = [\n",
        "        _clip_and_rescale(features.get(key), key) for key in input_features\n",
        "    ]\n",
        "  else:\n",
        "    inputs_list = [features.get(key) for key in input_features]\n",
        "  \n",
        "  inputs_stacked = tf.stack(inputs_list, axis=0)\n",
        "  input_img = tf.transpose(inputs_stacked, [1, 2, 0])\n",
        "\n",
        "  outputs_list = [features.get(key) for key in output_features]\n",
        "  assert outputs_list, 'outputs_list should not be empty'\n",
        "  outputs_stacked = tf.stack(outputs_list, axis=0)\n",
        "\n",
        "  outputs_stacked_shape = outputs_stacked.get_shape().as_list()\n",
        "  assert len(outputs_stacked.shape) == 3, ('outputs_stacked should be rank 3'\n",
        "                                            'but dimensions of outputs_stacked'\n",
        "                                            f' are {outputs_stacked_shape}')\n",
        "  output_img = tf.transpose(outputs_stacked, [1, 2, 0])\n",
        "\n",
        "  if random_crop:\n",
        "    input_img, output_img = random_crop_input_and_output_images(\n",
        "        input_img, output_img, sample_size, num_in_channels, 1)\n",
        "  if center_crop:\n",
        "    input_img, output_img = center_crop_input_and_output_images(\n",
        "        input_img, output_img, sample_size)\n",
        "    \n",
        "  weights = tf.cast(tf.greater_equal(output_img, tf.zeros_like(output_img)), tf.int32)\n",
        "\n",
        "  return input_img, output_img, weights\n",
        "\n",
        "\n",
        "def get_dataset(file_pattern: Text, data_size: int, sample_size: int,\n",
        "                batch_size: int, num_in_channels: int, compression_type: Text,\n",
        "                clip_and_normalize: bool, clip_and_rescale: bool,\n",
        "                random_crop: bool, center_crop: bool) -> tf.data.Dataset:\n",
        "  \"\"\"Gets the dataset from the file pattern.\n",
        "\n",
        "  Args:\n",
        "    file_pattern: Input file pattern.\n",
        "    data_size: Size of tiles (square) as read from input files.\n",
        "    sample_size: Size the tiles (square) when input into the model.\n",
        "    batch_size: Batch size.\n",
        "    num_in_channels: Number of input channels.\n",
        "    compression_type: Type of compression used for the input files.\n",
        "    clip_and_normalize: True if the data should be clipped and normalized, False\n",
        "      otherwise.\n",
        "    clip_and_rescale: True if the data should be clipped and rescaled, False\n",
        "      otherwise.\n",
        "    random_crop: True if the data should be randomly cropped.\n",
        "    center_crop: True if the data shoulde be cropped in the center.\n",
        "\n",
        "  Returns:\n",
        "    A TensorFlow dataset loaded from the input file pattern, with features\n",
        "    described in the constants, and with the shapes determined from the input\n",
        "    parameters to this function.\n",
        "  \"\"\"\n",
        "  if (clip_and_normalize and clip_and_rescale):\n",
        "    raise ValueError('Cannot have both normalize and rescale.')\n",
        "  dataset = tf.data.Dataset.list_files(file_pattern)\n",
        "  dataset = dataset.interleave(\n",
        "      lambda x: tf.data.TFRecordDataset(x, compression_type=compression_type),\n",
        "      num_parallel_calls=tf.data.experimental.AUTOTUNE)\n",
        "  dataset = dataset.prefetch(buffer_size=tf.data.experimental.AUTOTUNE)\n",
        "  dataset = dataset.map(\n",
        "      lambda x: _parse_fn(  # pylint: disable=g-long-lambda\n",
        "          x, data_size, sample_size, num_in_channels, clip_and_normalize,\n",
        "          clip_and_rescale, random_crop, center_crop),\n",
        "      num_parallel_calls=tf.data.experimental.AUTOTUNE)\n",
        "  dataset = dataset.batch(batch_size)\n",
        "  dataset = dataset.prefetch(buffer_size=tf.data.experimental.AUTOTUNE)\n",
        "  return dataset"
      ]
    },
    {
      "cell_type": "code",
      "execution_count": 6,
      "metadata": {
        "id": "5ZpHfcirYwTQ"
      },
      "outputs": [],
      "source": [
        "def get_metrics(precs, recs):\n",
        "  f1s = np.nan_to_num(2*np.nan_to_num(precs)*recs/(np.nan_to_num(precs) + recs))\n",
        "  return precs[np.argmax(f1s)], recs[np.argmax(f1s)]"
      ]
    },
    {
      "cell_type": "code",
      "execution_count": 7,
      "metadata": {
        "id": "bnG0_l_ChjUt"
      },
      "outputs": [],
      "source": [
        "TITLES = [\n",
        "  'Elevation',\n",
        "  'Wind\\ndirection',\n",
        "  'Wind\\nvelocity',\n",
        "  'Min\\ntemp',\n",
        "  'Max\\ntemp',\n",
        "  'Humidity',\n",
        "  'Precip',\n",
        "  'Drought',\n",
        "  'Vegetation',\n",
        "  'Population\\ndensity',\n",
        "  'Energy\\nrelease\\ncomponent',\n",
        "  'Previous\\nfire\\nmask',\n",
        "  'Fire\\nmask'\n",
        "]"
      ]
    },
    {
      "cell_type": "markdown",
      "metadata": {
        "id": "rdNDytnsPTVK"
      },
      "source": [
        "# Load the dataset."
      ]
    },
    {
      "cell_type": "markdown",
      "metadata": {
        "id": "awWJ00JeOyuO"
      },
      "source": [
        "Enter the file pattern of the dataset."
      ]
    },
    {
      "cell_type": "code",
      "execution_count": 8,
      "metadata": {
        "id": "fhHMUbBoOg0k"
      },
      "outputs": [],
      "source": [
        "file_pattern = '/content/drive/MyDrive/Colab Notebooks/Erdos Institute Boot Camp/Final Project - Mahogany/Data/next_day_wildfire_spread_train*'\n",
        "#Location within MY GDrive. Might not be the same for you. I don't know if you can link to my drive this way...\n",
        "val_file_pattern = '/content/drive/MyDrive/Colab Notebooks/Erdos Institute Boot Camp/Final Project - Mahogany/Data/next_day_wildfire_spread_eval*'\n",
        "\n",
        "test_file_pattern = '/content/drive/MyDrive/Colab Notebooks/Erdos Institute Boot Camp/Final Project - Mahogany/Data/next_day_wildfire_spread_test*'"
      ]
    },
    {
      "cell_type": "code",
      "execution_count": 9,
      "metadata": {
        "id": "X1jBBEinQbM0"
      },
      "outputs": [],
      "source": [
        "one_batch = get_dataset(\n",
        "      file_pattern,\n",
        "      data_size=64,\n",
        "      sample_size=32,\n",
        "      batch_size=32, #We don't go through the whole dataset at once. It takes 468 loops to do the whole thing.\n",
        "      num_in_channels=12,\n",
        "      compression_type=None,\n",
        "      clip_and_normalize=True,\n",
        "      clip_and_rescale=False,\n",
        "      random_crop=True,\n",
        "      center_crop=False)\n",
        "\n",
        "dataset = get_dataset(\n",
        "      file_pattern,\n",
        "      data_size=64,\n",
        "      sample_size=32,\n",
        "      batch_size=14979,\n",
        "      num_in_channels=12,\n",
        "      compression_type=None,\n",
        "      clip_and_normalize=True,\n",
        "      clip_and_rescale=False,\n",
        "      random_crop=True,\n",
        "      center_crop=False)\n",
        "\n",
        "valset = get_dataset(\n",
        "      val_file_pattern,\n",
        "      data_size=64,\n",
        "      sample_size=32,\n",
        "      batch_size=1877,\n",
        "      num_in_channels=12,\n",
        "      compression_type=None,\n",
        "      clip_and_normalize=True,\n",
        "      clip_and_rescale=False,\n",
        "      random_crop=False,\n",
        "      center_crop=True)\n",
        "\n",
        "testset = get_dataset(\n",
        "      test_file_pattern,\n",
        "      data_size=64,\n",
        "      sample_size=32,\n",
        "      batch_size=1877,\n",
        "      num_in_channels=12,\n",
        "      compression_type=None,\n",
        "      clip_and_normalize=True,\n",
        "      clip_and_rescale=False,\n",
        "      random_crop=False,\n",
        "      center_crop=True)"
      ]
    },
    {
      "cell_type": "markdown",
      "metadata": {
        "id": "J1qgH3TWKPBO"
      },
      "source": [
        "#UNET-Style Convolutional Neural Network\n"
      ]
    },
    {
      "cell_type": "code",
      "execution_count": 10,
      "metadata": {
        "id": "DKU_gxWMK2g0"
      },
      "outputs": [],
      "source": [
        "from tensorflow import keras\n",
        "from tensorflow.keras import layers\n",
        "from keras.layers import Input, Dense, Reshape, Flatten, Dropout, LeakyReLU\n",
        "from keras.layers import BatchNormalization, Activation, MaxPooling2D\n",
        "from keras.layers import UpSampling2D, Conv2D, Conv2DTranspose\n",
        "from keras.models import Sequential, Model\n",
        "from keras.optimizers import Adam\n",
        "from keras.callbacks import ModelCheckpoint, EarlyStopping\n",
        "import os"
      ]
    },
    {
      "cell_type": "code",
      "execution_count": 11,
      "metadata": {
        "id": "MLj2h_aY3NU7"
      },
      "outputs": [],
      "source": [
        "def conv_block(prev_output, filters, kernel):\n",
        "    x = Conv2D(filters, kernel, padding = \"same\")(prev_output) \n",
        "    x = layers.BatchNormalization()(x)\n",
        "    x = LeakyReLU()(x)\n",
        "    x = Conv2D(filters, kernel, padding = \"same\")(x)\n",
        "    x = layers.BatchNormalization()(x)\n",
        "    return LeakyReLU()(x)"
      ]
    },
    {
      "cell_type": "code",
      "execution_count": 12,
      "metadata": {
        "id": "ooc9Wf_xBkBQ"
      },
      "outputs": [],
      "source": [
        "def up_conv_block(prev_output, filters, kernel):\n",
        "    x = Conv2D(filters, kernel, padding = \"same\")(prev_output) \n",
        "    x = layers.BatchNormalization()(x)\n",
        "    x = LeakyReLU()(x)\n",
        "    x = Conv2D(filters//2, kernel, padding = \"same\")(x)\n",
        "    x = layers.BatchNormalization()(x)\n",
        "    return LeakyReLU()(x)"
      ]
    },
    {
      "cell_type": "code",
      "execution_count": 120,
      "metadata": {
        "colab": {
          "base_uri": "https://localhost:8080/",
          "height": 1000
        },
        "id": "ThMlFDi9KRR5",
        "outputId": "6d7e63b0-98af-4779-f609-90533cd52657"
      },
      "outputs": [
        {
          "output_type": "stream",
          "name": "stdout",
          "text": [
            "Model: \"model_8\"\n",
            "__________________________________________________________________________________________________\n",
            " Layer (type)                   Output Shape         Param #     Connected to                     \n",
            "==================================================================================================\n",
            " original_img (InputLayer)      [(None, 32, 32, 12)  0           []                               \n",
            "                                ]                                                                 \n",
            "                                                                                                  \n",
            " conv2d_146 (Conv2D)            (None, 32, 32, 32)   3488        ['original_img[0][0]']           \n",
            "                                                                                                  \n",
            " batch_normalization_162 (Batch  (None, 32, 32, 32)  128         ['conv2d_146[0][0]']             \n",
            " Normalization)                                                                                   \n",
            "                                                                                                  \n",
            " leaky_re_lu_138 (LeakyReLU)    (None, 32, 32, 32)   0           ['batch_normalization_162[0][0]']\n",
            "                                                                                                  \n",
            " conv2d_147 (Conv2D)            (None, 32, 32, 32)   9248        ['leaky_re_lu_138[0][0]']        \n",
            "                                                                                                  \n",
            " batch_normalization_163 (Batch  (None, 32, 32, 32)  128         ['conv2d_147[0][0]']             \n",
            " Normalization)                                                                                   \n",
            "                                                                                                  \n",
            " leaky_re_lu_139 (LeakyReLU)    (None, 32, 32, 32)   0           ['batch_normalization_163[0][0]']\n",
            "                                                                                                  \n",
            " max_pooling2d_33 (MaxPooling2D  (None, 16, 16, 32)  0           ['leaky_re_lu_139[0][0]']        \n",
            " )                                                                                                \n",
            "                                                                                                  \n",
            " conv2d_148 (Conv2D)            (None, 16, 16, 64)   18496       ['max_pooling2d_33[0][0]']       \n",
            "                                                                                                  \n",
            " batch_normalization_164 (Batch  (None, 16, 16, 64)  256         ['conv2d_148[0][0]']             \n",
            " Normalization)                                                                                   \n",
            "                                                                                                  \n",
            " leaky_re_lu_140 (LeakyReLU)    (None, 16, 16, 64)   0           ['batch_normalization_164[0][0]']\n",
            "                                                                                                  \n",
            " conv2d_149 (Conv2D)            (None, 16, 16, 64)   36928       ['leaky_re_lu_140[0][0]']        \n",
            "                                                                                                  \n",
            " batch_normalization_165 (Batch  (None, 16, 16, 64)  256         ['conv2d_149[0][0]']             \n",
            " Normalization)                                                                                   \n",
            "                                                                                                  \n",
            " leaky_re_lu_141 (LeakyReLU)    (None, 16, 16, 64)   0           ['batch_normalization_165[0][0]']\n",
            "                                                                                                  \n",
            " max_pooling2d_34 (MaxPooling2D  (None, 8, 8, 64)    0           ['leaky_re_lu_141[0][0]']        \n",
            " )                                                                                                \n",
            "                                                                                                  \n",
            " conv2d_150 (Conv2D)            (None, 8, 8, 128)    73856       ['max_pooling2d_34[0][0]']       \n",
            "                                                                                                  \n",
            " batch_normalization_166 (Batch  (None, 8, 8, 128)   512         ['conv2d_150[0][0]']             \n",
            " Normalization)                                                                                   \n",
            "                                                                                                  \n",
            " leaky_re_lu_142 (LeakyReLU)    (None, 8, 8, 128)    0           ['batch_normalization_166[0][0]']\n",
            "                                                                                                  \n",
            " conv2d_151 (Conv2D)            (None, 8, 8, 128)    147584      ['leaky_re_lu_142[0][0]']        \n",
            "                                                                                                  \n",
            " batch_normalization_167 (Batch  (None, 8, 8, 128)   512         ['conv2d_151[0][0]']             \n",
            " Normalization)                                                                                   \n",
            "                                                                                                  \n",
            " leaky_re_lu_143 (LeakyReLU)    (None, 8, 8, 128)    0           ['batch_normalization_167[0][0]']\n",
            "                                                                                                  \n",
            " max_pooling2d_35 (MaxPooling2D  (None, 4, 4, 128)   0           ['leaky_re_lu_143[0][0]']        \n",
            " )                                                                                                \n",
            "                                                                                                  \n",
            " conv2d_152 (Conv2D)            (None, 4, 4, 256)    295168      ['max_pooling2d_35[0][0]']       \n",
            "                                                                                                  \n",
            " batch_normalization_168 (Batch  (None, 4, 4, 256)   1024        ['conv2d_152[0][0]']             \n",
            " Normalization)                                                                                   \n",
            "                                                                                                  \n",
            " leaky_re_lu_144 (LeakyReLU)    (None, 4, 4, 256)    0           ['batch_normalization_168[0][0]']\n",
            "                                                                                                  \n",
            " conv2d_153 (Conv2D)            (None, 4, 4, 256)    590080      ['leaky_re_lu_144[0][0]']        \n",
            "                                                                                                  \n",
            " batch_normalization_169 (Batch  (None, 4, 4, 256)   1024        ['conv2d_153[0][0]']             \n",
            " Normalization)                                                                                   \n",
            "                                                                                                  \n",
            " leaky_re_lu_145 (LeakyReLU)    (None, 4, 4, 256)    0           ['batch_normalization_169[0][0]']\n",
            "                                                                                                  \n",
            " conv2d_transpose_24 (Conv2DTra  (None, 8, 8, 128)   295040      ['leaky_re_lu_145[0][0]']        \n",
            " nspose)                                                                                          \n",
            "                                                                                                  \n",
            " batch_normalization_170 (Batch  (None, 8, 8, 128)   512         ['conv2d_transpose_24[0][0]']    \n",
            " Normalization)                                                                                   \n",
            "                                                                                                  \n",
            " add_27 (Add)                   (None, 8, 8, 128)    0           ['leaky_re_lu_143[0][0]',        \n",
            "                                                                  'batch_normalization_170[0][0]']\n",
            "                                                                                                  \n",
            " conv2d_154 (Conv2D)            (None, 8, 8, 256)    295168      ['add_27[0][0]']                 \n",
            "                                                                                                  \n",
            " batch_normalization_171 (Batch  (None, 8, 8, 256)   1024        ['conv2d_154[0][0]']             \n",
            " Normalization)                                                                                   \n",
            "                                                                                                  \n",
            " leaky_re_lu_146 (LeakyReLU)    (None, 8, 8, 256)    0           ['batch_normalization_171[0][0]']\n",
            "                                                                                                  \n",
            " conv2d_155 (Conv2D)            (None, 8, 8, 128)    295040      ['leaky_re_lu_146[0][0]']        \n",
            "                                                                                                  \n",
            " batch_normalization_172 (Batch  (None, 8, 8, 128)   512         ['conv2d_155[0][0]']             \n",
            " Normalization)                                                                                   \n",
            "                                                                                                  \n",
            " leaky_re_lu_147 (LeakyReLU)    (None, 8, 8, 128)    0           ['batch_normalization_172[0][0]']\n",
            "                                                                                                  \n",
            " conv2d_transpose_25 (Conv2DTra  (None, 16, 16, 64)  73792       ['leaky_re_lu_147[0][0]']        \n",
            " nspose)                                                                                          \n",
            "                                                                                                  \n",
            " batch_normalization_173 (Batch  (None, 16, 16, 64)  256         ['conv2d_transpose_25[0][0]']    \n",
            " Normalization)                                                                                   \n",
            "                                                                                                  \n",
            " add_28 (Add)                   (None, 16, 16, 64)   0           ['leaky_re_lu_141[0][0]',        \n",
            "                                                                  'batch_normalization_173[0][0]']\n",
            "                                                                                                  \n",
            " conv2d_156 (Conv2D)            (None, 16, 16, 128)  73856       ['add_28[0][0]']                 \n",
            "                                                                                                  \n",
            " batch_normalization_174 (Batch  (None, 16, 16, 128)  512        ['conv2d_156[0][0]']             \n",
            " Normalization)                                                                                   \n",
            "                                                                                                  \n",
            " leaky_re_lu_148 (LeakyReLU)    (None, 16, 16, 128)  0           ['batch_normalization_174[0][0]']\n",
            "                                                                                                  \n",
            " conv2d_157 (Conv2D)            (None, 16, 16, 64)   73792       ['leaky_re_lu_148[0][0]']        \n",
            "                                                                                                  \n",
            " batch_normalization_175 (Batch  (None, 16, 16, 64)  256         ['conv2d_157[0][0]']             \n",
            " Normalization)                                                                                   \n",
            "                                                                                                  \n",
            " leaky_re_lu_149 (LeakyReLU)    (None, 16, 16, 64)   0           ['batch_normalization_175[0][0]']\n",
            "                                                                                                  \n",
            " conv2d_transpose_26 (Conv2DTra  (None, 32, 32, 32)  18464       ['leaky_re_lu_149[0][0]']        \n",
            " nspose)                                                                                          \n",
            "                                                                                                  \n",
            " batch_normalization_176 (Batch  (None, 32, 32, 32)  128         ['conv2d_transpose_26[0][0]']    \n",
            " Normalization)                                                                                   \n",
            "                                                                                                  \n",
            " add_29 (Add)                   (None, 32, 32, 32)   0           ['leaky_re_lu_139[0][0]',        \n",
            "                                                                  'batch_normalization_176[0][0]']\n",
            "                                                                                                  \n",
            " conv2d_158 (Conv2D)            (None, 32, 32, 64)   18496       ['add_29[0][0]']                 \n",
            "                                                                                                  \n",
            " batch_normalization_177 (Batch  (None, 32, 32, 64)  256         ['conv2d_158[0][0]']             \n",
            " Normalization)                                                                                   \n",
            "                                                                                                  \n",
            " leaky_re_lu_150 (LeakyReLU)    (None, 32, 32, 64)   0           ['batch_normalization_177[0][0]']\n",
            "                                                                                                  \n",
            " conv2d_159 (Conv2D)            (None, 32, 32, 32)   18464       ['leaky_re_lu_150[0][0]']        \n",
            "                                                                                                  \n",
            " batch_normalization_178 (Batch  (None, 32, 32, 32)  128         ['conv2d_159[0][0]']             \n",
            " Normalization)                                                                                   \n",
            "                                                                                                  \n",
            " leaky_re_lu_151 (LeakyReLU)    (None, 32, 32, 32)   0           ['batch_normalization_178[0][0]']\n",
            "                                                                                                  \n",
            " conv2d_160 (Conv2D)            (None, 32, 32, 1)    289         ['leaky_re_lu_151[0][0]']        \n",
            "                                                                                                  \n",
            "==================================================================================================\n",
            "Total params: 2,344,673\n",
            "Trainable params: 2,340,961\n",
            "Non-trainable params: 3,712\n",
            "__________________________________________________________________________________________________\n"
          ]
        },
        {
          "output_type": "error",
          "ename": "TypeError",
          "evalue": "ignored",
          "traceback": [
            "\u001b[0;31m---------------------------------------------------------------------------\u001b[0m",
            "\u001b[0;31mTypeError\u001b[0m                                 Traceback (most recent call last)",
            "\u001b[0;32m<ipython-input-120-995de0161379>\u001b[0m in \u001b[0;36m<module>\u001b[0;34m\u001b[0m\n\u001b[1;32m     42\u001b[0m \u001b[0;34m\u001b[0m\u001b[0m\n\u001b[1;32m     43\u001b[0m \u001b[0;31m# compile the model\u001b[0m\u001b[0;34m\u001b[0m\u001b[0;34m\u001b[0m\u001b[0;34m\u001b[0m\u001b[0m\n\u001b[0;32m---> 44\u001b[0;31m \u001b[0mmodel\u001b[0m\u001b[0;34m.\u001b[0m\u001b[0mcompile\u001b[0m\u001b[0;34m(\u001b[0m\u001b[0moptimizer\u001b[0m\u001b[0;34m=\u001b[0m\u001b[0;34m'adam'\u001b[0m\u001b[0;34m,\u001b[0m \u001b[0mloss\u001b[0m\u001b[0;34m=\u001b[0m\u001b[0;34m'binary_crossentropy'\u001b[0m\u001b[0;34m,\u001b[0m \u001b[0mmetrics\u001b[0m \u001b[0;34m=\u001b[0m \u001b[0;34m[\u001b[0m\u001b[0mtf\u001b[0m\u001b[0;34m.\u001b[0m\u001b[0mkeras\u001b[0m\u001b[0;34m.\u001b[0m\u001b[0mmetrics\u001b[0m\u001b[0;34m.\u001b[0m\u001b[0mAUC\u001b[0m\u001b[0;34m(\u001b[0m\u001b[0;34m)\u001b[0m\u001b[0;34m,\u001b[0m \u001b[0mtf\u001b[0m\u001b[0;34m.\u001b[0m\u001b[0mkeras\u001b[0m\u001b[0;34m.\u001b[0m\u001b[0mmetrics\u001b[0m\u001b[0;34m.\u001b[0m\u001b[0mMeanIoU\u001b[0m\u001b[0;34m(\u001b[0m\u001b[0mnum_classes\u001b[0m\u001b[0;34m=\u001b[0m\u001b[0;36m3\u001b[0m\u001b[0;34m,\u001b[0m \u001b[0mignore_class\u001b[0m \u001b[0;34m=\u001b[0m \u001b[0;34m[\u001b[0m\u001b[0;34m-\u001b[0m\u001b[0;36m1\u001b[0m\u001b[0;34m]\u001b[0m\u001b[0;34m)\u001b[0m\u001b[0;34m]\u001b[0m\u001b[0;34m)\u001b[0m \u001b[0;31m#tf.keras.metrics.AUC()])\u001b[0m\u001b[0;34m\u001b[0m\u001b[0;34m\u001b[0m\u001b[0m\n\u001b[0m\u001b[1;32m     45\u001b[0m \u001b[0;31m# optimizer changed to adam from rmsprop because it's spoopier\u001b[0m\u001b[0;34m\u001b[0m\u001b[0;34m\u001b[0m\u001b[0;34m\u001b[0m\u001b[0m\n\u001b[1;32m     46\u001b[0m \u001b[0;34m\u001b[0m\u001b[0m\n",
            "\u001b[0;32m/usr/local/lib/python3.8/dist-packages/keras/dtensor/utils.py\u001b[0m in \u001b[0;36m_wrap_function\u001b[0;34m(instance, *args, **kwargs)\u001b[0m\n\u001b[1;32m    139\u001b[0m     \u001b[0;32mif\u001b[0m \u001b[0mmesh\u001b[0m \u001b[0;32mis\u001b[0m \u001b[0;32mnot\u001b[0m \u001b[0;32mNone\u001b[0m\u001b[0;34m:\u001b[0m\u001b[0;34m\u001b[0m\u001b[0;34m\u001b[0m\u001b[0m\n\u001b[1;32m    140\u001b[0m       \u001b[0minstance\u001b[0m\u001b[0;34m.\u001b[0m\u001b[0m_mesh\u001b[0m \u001b[0;34m=\u001b[0m \u001b[0mmesh\u001b[0m  \u001b[0;31m# pylint: disable=protected-access\u001b[0m\u001b[0;34m\u001b[0m\u001b[0;34m\u001b[0m\u001b[0m\n\u001b[0;32m--> 141\u001b[0;31m     \u001b[0minit_method\u001b[0m\u001b[0;34m(\u001b[0m\u001b[0minstance\u001b[0m\u001b[0;34m,\u001b[0m \u001b[0;34m*\u001b[0m\u001b[0margs\u001b[0m\u001b[0;34m,\u001b[0m \u001b[0;34m**\u001b[0m\u001b[0mkwargs\u001b[0m\u001b[0;34m)\u001b[0m\u001b[0;34m\u001b[0m\u001b[0;34m\u001b[0m\u001b[0m\n\u001b[0m\u001b[1;32m    142\u001b[0m \u001b[0;34m\u001b[0m\u001b[0m\n\u001b[1;32m    143\u001b[0m   return tf.__internal__.decorator.make_decorator(\n",
            "\u001b[0;31mTypeError\u001b[0m: __init__() got an unexpected keyword argument 'ignore_class'"
          ]
        }
      ],
      "source": [
        "sample_size = dataset.element_spec[0].shape[1]\n",
        "\n",
        "# Create UNET style model - This first one is the same as the paper\n",
        "model_input = keras.Input(shape=(sample_size, sample_size, 12), name=\"original_img\") # input is 32*32\n",
        "\n",
        "#Downsample\n",
        "block_1_output = conv_block(model_input, 32, 3) \n",
        "x = MaxPooling2D(2)(block_1_output) #output is 16 * 16\n",
        "block_2_output = conv_block(x, 64, 3) \n",
        "x = MaxPooling2D(2)(block_2_output) #output is 8*8\n",
        "block_3_output = conv_block(x, 128, 3) \n",
        "x = MaxPooling2D(2)(block_3_output) #output is 4*4\n",
        "\n",
        "#bottom layer bottleneck\n",
        "x = conv_block(x, 256, 3) # still 4x4\n",
        "\n",
        "#upsample\n",
        "# x = UpSampling2D()(x) #Optional, but you have to change stride = 1 below\n",
        "x = Conv2DTranspose(128, 3, strides = 2, padding = \"same\")(x) # output is 8*8\n",
        "x = layers.BatchNormalization()(x)\n",
        "first_up_layer = layers.add([block_3_output, x]) \n",
        "x = up_conv_block(first_up_layer, 256, 3)\n",
        "# x = UpSampling2D()(x) #Optional, but you have to change stride = 1 below\n",
        "x = Conv2DTranspose(64, 3, strides = 2, padding = \"same\")(x) # output is 16*16\n",
        "x = layers.BatchNormalization()(x)\n",
        "second_up_layer = layers.add([block_2_output, x]) \n",
        "x = up_conv_block(second_up_layer, 128, 3)\n",
        "# x = UpSampling2D()(x) #Optional, but you have to change stride = 1 below\n",
        "x = Conv2DTranspose(32, 3, strides = 2, padding = \"same\")(x) # output is 32*32\n",
        "x = layers.BatchNormalization()(x)\n",
        "third_up_layer = layers.add([block_1_output, x]) \n",
        "x = up_conv_block(third_up_layer, 64, 3)\n",
        "\n",
        "predictions = Conv2D(1, 3, activation = \"sigmoid\", padding=\"same\")(x) #Force output to be 0,1\n",
        "\n",
        "# this is the model we will train\n",
        "model = Model(inputs=model_input, outputs=predictions)\n",
        "\n",
        "model.summary() # It's not as deep as Inception, but it'll do\n",
        "\n",
        "\n",
        "\n",
        "# compile the model \n",
        "model.compile(optimizer='adam', loss='binary_crossentropy', metrics = [tf.keras.metrics.AUC()])\n",
        "# optimizer changed to adam from rmsprop because it's spoopier\n",
        "\n",
        "# Save the best model.\n",
        "checkpoint = ModelCheckpoint('best_default_model.hdf5', monitor='val_loss', save_best_only=True, save_freq=1)\n",
        "\n",
        "# stop training if it's overfitting # may need to increase regularization\n",
        "early = EarlyStopping(monitor='val_loss', min_delta=0, patience=12, verbose=1, mode='auto')\n",
        "CALLBACKS=[checkpoint,early]\n"
      ]
    },
    {
      "cell_type": "code",
      "execution_count": 117,
      "metadata": {
        "id": "LN24jNfsK2i_"
      },
      "outputs": [],
      "source": [
        "# Uncomment and turn sideways to see the beautiful U-shaped architecture.\n",
        "# keras.utils.plot_model(model, \"mini_resnet.png\", show_shapes=True)"
      ]
    },
    {
      "cell_type": "code",
      "execution_count": 118,
      "metadata": {
        "colab": {
          "base_uri": "https://localhost:8080/",
          "height": 1000
        },
        "id": "2vzzT0M6LxqX",
        "outputId": "1eac949d-f4ac-4d8d-e721-dd822fd98323"
      },
      "outputs": [
        {
          "output_type": "stream",
          "name": "stdout",
          "text": [
            "Model has started training\n",
            "Epoch 1/10\n"
          ]
        },
        {
          "output_type": "error",
          "ename": "InvalidArgumentError",
          "evalue": "ignored",
          "traceback": [
            "\u001b[0;31m---------------------------------------------------------------------------\u001b[0m",
            "\u001b[0;31mInvalidArgumentError\u001b[0m                      Traceback (most recent call last)",
            "\u001b[0;32m<ipython-input-118-d3405db31dbf>\u001b[0m in \u001b[0;36m<module>\u001b[0;34m\u001b[0m\n\u001b[1;32m     17\u001b[0m \u001b[0;31m# It shows a lot more data to the model, improving performance\u001b[0m\u001b[0;34m\u001b[0m\u001b[0;34m\u001b[0m\u001b[0;34m\u001b[0m\u001b[0m\n\u001b[1;32m     18\u001b[0m \u001b[0;31m# Alternatively, you can just use the same 15,000 fires over and over again without random cropping running the above code\u001b[0m\u001b[0;34m\u001b[0m\u001b[0;34m\u001b[0m\u001b[0;34m\u001b[0m\u001b[0m\n\u001b[0;32m---> 19\u001b[0;31m history = model.fit(one_batch, #tf.data.dataset takes full advantage of the data generator above\n\u001b[0m\u001b[1;32m     20\u001b[0m           \u001b[0mepochs\u001b[0m \u001b[0;34m=\u001b[0m \u001b[0mEPOCHS\u001b[0m\u001b[0;34m,\u001b[0m\u001b[0;34m\u001b[0m\u001b[0;34m\u001b[0m\u001b[0m\n\u001b[1;32m     21\u001b[0m           \u001b[0mvalidation_data\u001b[0m \u001b[0;34m=\u001b[0m \u001b[0mvalset\u001b[0m\u001b[0;34m,\u001b[0m\u001b[0;34m\u001b[0m\u001b[0;34m\u001b[0m\u001b[0m\n",
            "\u001b[0;32m/usr/local/lib/python3.8/dist-packages/keras/utils/traceback_utils.py\u001b[0m in \u001b[0;36merror_handler\u001b[0;34m(*args, **kwargs)\u001b[0m\n\u001b[1;32m     65\u001b[0m     \u001b[0;32mexcept\u001b[0m \u001b[0mException\u001b[0m \u001b[0;32mas\u001b[0m \u001b[0me\u001b[0m\u001b[0;34m:\u001b[0m  \u001b[0;31m# pylint: disable=broad-except\u001b[0m\u001b[0;34m\u001b[0m\u001b[0;34m\u001b[0m\u001b[0m\n\u001b[1;32m     66\u001b[0m       \u001b[0mfiltered_tb\u001b[0m \u001b[0;34m=\u001b[0m \u001b[0m_process_traceback_frames\u001b[0m\u001b[0;34m(\u001b[0m\u001b[0me\u001b[0m\u001b[0;34m.\u001b[0m\u001b[0m__traceback__\u001b[0m\u001b[0;34m)\u001b[0m\u001b[0;34m\u001b[0m\u001b[0;34m\u001b[0m\u001b[0m\n\u001b[0;32m---> 67\u001b[0;31m       \u001b[0;32mraise\u001b[0m \u001b[0me\u001b[0m\u001b[0;34m.\u001b[0m\u001b[0mwith_traceback\u001b[0m\u001b[0;34m(\u001b[0m\u001b[0mfiltered_tb\u001b[0m\u001b[0;34m)\u001b[0m \u001b[0;32mfrom\u001b[0m \u001b[0;32mNone\u001b[0m\u001b[0;34m\u001b[0m\u001b[0;34m\u001b[0m\u001b[0m\n\u001b[0m\u001b[1;32m     68\u001b[0m     \u001b[0;32mfinally\u001b[0m\u001b[0;34m:\u001b[0m\u001b[0;34m\u001b[0m\u001b[0;34m\u001b[0m\u001b[0m\n\u001b[1;32m     69\u001b[0m       \u001b[0;32mdel\u001b[0m \u001b[0mfiltered_tb\u001b[0m\u001b[0;34m\u001b[0m\u001b[0;34m\u001b[0m\u001b[0m\n",
            "\u001b[0;32m/usr/local/lib/python3.8/dist-packages/tensorflow/python/eager/execute.py\u001b[0m in \u001b[0;36mquick_execute\u001b[0;34m(op_name, num_outputs, inputs, attrs, ctx, name)\u001b[0m\n\u001b[1;32m     52\u001b[0m   \u001b[0;32mtry\u001b[0m\u001b[0;34m:\u001b[0m\u001b[0;34m\u001b[0m\u001b[0;34m\u001b[0m\u001b[0m\n\u001b[1;32m     53\u001b[0m     \u001b[0mctx\u001b[0m\u001b[0;34m.\u001b[0m\u001b[0mensure_initialized\u001b[0m\u001b[0;34m(\u001b[0m\u001b[0;34m)\u001b[0m\u001b[0;34m\u001b[0m\u001b[0;34m\u001b[0m\u001b[0m\n\u001b[0;32m---> 54\u001b[0;31m     tensors = pywrap_tfe.TFE_Py_Execute(ctx._handle, device_name, op_name,\n\u001b[0m\u001b[1;32m     55\u001b[0m                                         inputs, attrs, num_outputs)\n\u001b[1;32m     56\u001b[0m   \u001b[0;32mexcept\u001b[0m \u001b[0mcore\u001b[0m\u001b[0;34m.\u001b[0m\u001b[0m_NotOkStatusException\u001b[0m \u001b[0;32mas\u001b[0m \u001b[0me\u001b[0m\u001b[0;34m:\u001b[0m\u001b[0;34m\u001b[0m\u001b[0;34m\u001b[0m\u001b[0m\n",
            "\u001b[0;31mInvalidArgumentError\u001b[0m: Graph execution error:\n\nDetected at node 'confusion_matrix/assert_non_negative/assert_less_equal/Assert/AssertGuard/Assert' defined at (most recent call last):\n    File \"/usr/lib/python3.8/runpy.py\", line 194, in _run_module_as_main\n      return _run_code(code, main_globals, None,\n    File \"/usr/lib/python3.8/runpy.py\", line 87, in _run_code\n      exec(code, run_globals)\n    File \"/usr/local/lib/python3.8/dist-packages/ipykernel_launcher.py\", line 16, in <module>\n      app.launch_new_instance()\n    File \"/usr/local/lib/python3.8/dist-packages/traitlets/config/application.py\", line 985, in launch_instance\n      app.start()\n    File \"/usr/local/lib/python3.8/dist-packages/ipykernel/kernelapp.py\", line 612, in start\n      self.io_loop.start()\n    File \"/usr/local/lib/python3.8/dist-packages/tornado/platform/asyncio.py\", line 149, in start\n      self.asyncio_loop.run_forever()\n    File \"/usr/lib/python3.8/asyncio/base_events.py\", line 570, in run_forever\n      self._run_once()\n    File \"/usr/lib/python3.8/asyncio/base_events.py\", line 1859, in _run_once\n      handle._run()\n    File \"/usr/lib/python3.8/asyncio/events.py\", line 81, in _run\n      self._context.run(self._callback, *self._args)\n    File \"/usr/local/lib/python3.8/dist-packages/tornado/ioloop.py\", line 690, in <lambda>\n      lambda f: self._run_callback(functools.partial(callback, future))\n    File \"/usr/local/lib/python3.8/dist-packages/tornado/ioloop.py\", line 743, in _run_callback\n      ret = callback()\n    File \"/usr/local/lib/python3.8/dist-packages/tornado/gen.py\", line 787, in inner\n      self.run()\n    File \"/usr/local/lib/python3.8/dist-packages/tornado/gen.py\", line 748, in run\n      yielded = self.gen.send(value)\n    File \"/usr/local/lib/python3.8/dist-packages/ipykernel/kernelbase.py\", line 365, in process_one\n      yield gen.maybe_future(dispatch(*args))\n    File \"/usr/local/lib/python3.8/dist-packages/tornado/gen.py\", line 209, in wrapper\n      yielded = next(result)\n    File \"/usr/local/lib/python3.8/dist-packages/ipykernel/kernelbase.py\", line 268, in dispatch_shell\n      yield gen.maybe_future(handler(stream, idents, msg))\n    File \"/usr/local/lib/python3.8/dist-packages/tornado/gen.py\", line 209, in wrapper\n      yielded = next(result)\n    File \"/usr/local/lib/python3.8/dist-packages/ipykernel/kernelbase.py\", line 543, in execute_request\n      self.do_execute(\n    File \"/usr/local/lib/python3.8/dist-packages/tornado/gen.py\", line 209, in wrapper\n      yielded = next(result)\n    File \"/usr/local/lib/python3.8/dist-packages/ipykernel/ipkernel.py\", line 306, in do_execute\n      res = shell.run_cell(code, store_history=store_history, silent=silent)\n    File \"/usr/local/lib/python3.8/dist-packages/ipykernel/zmqshell.py\", line 536, in run_cell\n      return super(ZMQInteractiveShell, self).run_cell(*args, **kwargs)\n    File \"/usr/local/lib/python3.8/dist-packages/IPython/core/interactiveshell.py\", line 2854, in run_cell\n      result = self._run_cell(\n    File \"/usr/local/lib/python3.8/dist-packages/IPython/core/interactiveshell.py\", line 2881, in _run_cell\n      return runner(coro)\n    File \"/usr/local/lib/python3.8/dist-packages/IPython/core/async_helpers.py\", line 68, in _pseudo_sync_runner\n      coro.send(None)\n    File \"/usr/local/lib/python3.8/dist-packages/IPython/core/interactiveshell.py\", line 3057, in run_cell_async\n      has_raised = await self.run_ast_nodes(code_ast.body, cell_name,\n    File \"/usr/local/lib/python3.8/dist-packages/IPython/core/interactiveshell.py\", line 3249, in run_ast_nodes\n      if (await self.run_code(code, result,  async_=asy)):\n    File \"/usr/local/lib/python3.8/dist-packages/IPython/core/interactiveshell.py\", line 3326, in run_code\n      exec(code_obj, self.user_global_ns, self.user_ns)\n    File \"<ipython-input-118-d3405db31dbf>\", line 19, in <module>\n      history = model.fit(one_batch, #tf.data.dataset takes full advantage of the data generator above\n    File \"/usr/local/lib/python3.8/dist-packages/keras/utils/traceback_utils.py\", line 64, in error_handler\n      return fn(*args, **kwargs)\n    File \"/usr/local/lib/python3.8/dist-packages/keras/engine/training.py\", line 1409, in fit\n      tmp_logs = self.train_function(iterator)\n    File \"/usr/local/lib/python3.8/dist-packages/keras/engine/training.py\", line 1051, in train_function\n      return step_function(self, iterator)\n    File \"/usr/local/lib/python3.8/dist-packages/keras/engine/training.py\", line 1040, in step_function\n      outputs = model.distribute_strategy.run(run_step, args=(data,))\n    File \"/usr/local/lib/python3.8/dist-packages/keras/engine/training.py\", line 1030, in run_step\n      outputs = model.train_step(data)\n    File \"/usr/local/lib/python3.8/dist-packages/keras/engine/training.py\", line 894, in train_step\n      return self.compute_metrics(x, y, y_pred, sample_weight)\n    File \"/usr/local/lib/python3.8/dist-packages/keras/engine/training.py\", line 987, in compute_metrics\n      self.compiled_metrics.update_state(y, y_pred, sample_weight)\n    File \"/usr/local/lib/python3.8/dist-packages/keras/engine/compile_utils.py\", line 501, in update_state\n      metric_obj.update_state(y_t, y_p, sample_weight=mask)\n    File \"/usr/local/lib/python3.8/dist-packages/keras/utils/metrics_utils.py\", line 70, in decorated\n      update_op = update_state_fn(*args, **kwargs)\n    File \"/usr/local/lib/python3.8/dist-packages/keras/metrics/base_metric.py\", line 140, in update_state_fn\n      return ag_update_state(*args, **kwargs)\n    File \"/usr/local/lib/python3.8/dist-packages/keras/metrics/metrics.py\", line 2494, in update_state\n      current_cm = tf.math.confusion_matrix(\nNode: 'confusion_matrix/assert_non_negative/assert_less_equal/Assert/AssertGuard/Assert'\nDetected at node 'confusion_matrix/assert_non_negative/assert_less_equal/Assert/AssertGuard/Assert' defined at (most recent call last):\n    File \"/usr/lib/python3.8/runpy.py\", line 194, in _run_module_as_main\n      return _run_code(code, main_globals, None,\n    File \"/usr/lib/python3.8/runpy.py\", line 87, in _run_code\n      exec(code, run_globals)\n    File \"/usr/local/lib/python3.8/dist-packages/ipykernel_launcher.py\", line 16, in <module>\n      app.launch_new_instance()\n    File \"/usr/local/lib/python3.8/dist-packages/traitlets/config/application.py\", line 985, in launch_instance\n      app.start()\n    File \"/usr/local/lib/python3.8/dist-packages/ipykernel/kernelapp.py\", line 612, in start\n      self.io_loop.start()\n    File \"/usr/local/lib/python3.8/dist-packages/tornado/platform/asyncio.py\", line 149, in start\n      self.asyncio_loop.run_forever()\n    File \"/usr/lib/python3.8/asyncio/base_events.py\", line 570, in run_forever\n      self._run_once()\n    File \"/usr/lib/python3.8/asyncio/base_events.py\", line 1859, in _run_once\n      handle._run()\n    File \"/usr/lib/python3.8/asyncio/events.py\", line 81, in _run\n      self._context.run(self._callback, *self._args)\n    File \"/usr/local/lib/python3.8/dist-packages/tornado/ioloop.py\", line 690, in <lambda>\n      lambda f: self._run_callback(functools.partial(callback, future))\n    File \"/usr/local/lib/python3.8/dist-packages/tornado/ioloop.py\", line 743, in _run_callback\n      ret = callback()\n    File \"/usr/local/lib/python3.8/dist-packages/tornado/gen.py\", line 787, in inner\n      self.run()\n    File \"/usr/local/lib/python3.8/dist-packages/tornado/gen.py\", line 748, in run\n      yielded = self.gen.send(value)\n    File \"/usr/local/lib/python3.8/dist-packages/ipykernel/kernelbase.py\", line 365, in process_one\n      yield gen.maybe_future(dispatch(*args))\n    File \"/usr/local/lib/python3.8/dist-packages/tornado/gen.py\", line 209, in wrapper\n      yielded = next(result)\n    File \"/usr/local/lib/python3.8/dist-packages/ipykernel/kernelbase.py\", line 268, in dispatch_shell\n      yield gen.maybe_future(handler(stream, idents, msg))\n    File \"/usr/local/lib/python3.8/dist-packages/tornado/gen.py\", line 209, in wrapper\n      yielded = next(result)\n    File \"/usr/local/lib/python3.8/dist-packages/ipykernel/kernelbase.py\", line 543, in execute_request\n      self.do_execute(\n    File \"/usr/local/lib/python3.8/dist-packages/tornado/gen.py\", line 209, in wrapper\n      yielded = next(result)\n    File \"/usr/local/lib/python3.8/dist-packages/ipykernel/ipkernel.py\", line 306, in do_execute\n      res = shell.run_cell(code, store_history=store_history, silent=silent)\n    File \"/usr/local/lib/python3.8/dist-packages/ipykernel/zmqshell.py\", line 536, in run_cell\n      return super(ZMQInteractiveShell, self).run_cell(*args, **kwargs)\n    File \"/usr/local/lib/python3.8/dist-packages/IPython/core/interactiveshell.py\", line 2854, in run_cell\n      result = self._run_cell(\n    File \"/usr/local/lib/python3.8/dist-packages/IPython/core/interactiveshell.py\", line 2881, in _run_cell\n      return runner(coro)\n    File \"/usr/local/lib/python3.8/dist-packages/IPython/core/async_helpers.py\", line 68, in _pseudo_sync_runner\n      coro.send(None)\n    File \"/usr/local/lib/python3.8/dist-packages/IPython/core/interactiveshell.py\", line 3057, in run_cell_async\n      has_raised = await self.run_ast_nodes(code_ast.body, cell_name,\n    File \"/usr/local/lib/python3.8/dist-packages/IPython/core/interactiveshell.py\", line 3249, in run_ast_nodes\n      if (await self.run_code(code, result,  async_=asy)):\n    File \"/usr/local/lib/python3.8/dist-packages/IPython/core/interactiveshell.py\", line 3326, in run_code\n      exec(code_obj, self.user_global_ns, self.user_ns)\n    File \"<ipython-input-118-d3405db31dbf>\", line 19, in <module>\n      history = model.fit(one_batch, #tf.data.dataset takes full advantage of the data generator above\n    File \"/usr/local/lib/python3.8/dist-packages/keras/utils/traceback_utils.py\", line 64, in error_handler\n      return fn(*args, **kwargs)\n    File \"/usr/local/lib/python3.8/dist-packages/keras/engine/training.py\", line 1409, in fit\n      tmp_logs = self.train_function(iterator)\n    File \"/usr/local/lib/python3.8/dist-packages/keras/engine/training.py\", line 1051, in train_function\n      return step_function(self, iterator)\n    File \"/usr/local/lib/python3.8/dist-packages/keras/engine/training.py\", line 1040, in step_function\n      outputs = model.distribute_strategy.run(run_step, args=(data,))\n    File \"/usr/local/lib/python3.8/dist-packages/keras/engine/training.py\", line 1030, in run_step\n      outputs = model.train_step(data)\n    File \"/usr/local/lib/python3.8/dist-packages/keras/engine/training.py\", line 894, in train_step\n      return self.compute_metrics(x, y, y_pred, sample_weight)\n    File \"/usr/local/lib/python3.8/dist-packages/keras/engine/training.py\", line 987, in compute_metrics\n      self.compiled_metrics.update_state(y, y_pred, sample_weight)\n    File \"/usr/local/lib/python3.8/dist-packages/keras/engine/compile_utils.py\", line 501, in update_state\n      metric_obj.update_state(y_t, y_p, sample_weight=mask)\n    File \"/usr/local/lib/python3.8/dist-packages/keras/utils/metrics_utils.py\", line 70, in decorated\n      update_op = update_state_fn(*args, **kwargs)\n    File \"/usr/local/lib/python3.8/dist-packages/keras/metrics/base_metric.py\", line 140, in update_state_fn\n      return ag_update_state(*args, **kwargs)\n    File \"/usr/local/lib/python3.8/dist-packages/keras/metrics/metrics.py\", line 2494, in update_state\n      current_cm = tf.math.confusion_matrix(\nNode: 'confusion_matrix/assert_non_negative/assert_less_equal/Assert/AssertGuard/Assert'\n2 root error(s) found.\n  (0) INVALID_ARGUMENT:  assertion failed: [`labels` contains negative values.  ] [Condition x >= 0 did not hold element-wise:] [x (confusion_matrix/Cast_1:0) = ] [0 0 0...]\n\t [[{{node confusion_matrix/assert_non_negative/assert_less_equal/Assert/AssertGuard/Assert}}]]\n\t [[confusion_matrix/assert_less/Assert/AssertGuard/pivot_f/_41/_101]]\n  (1) INVALID_ARGUMENT:  assertion failed: [`labels` contains negative values.  ] [Condition x >= 0 did not hold element-wise:] [x (confusion_matrix/Cast_1:0) = ] [0 0 0...]\n\t [[{{node confusion_matrix/assert_non_negative/assert_less_equal/Assert/AssertGuard/Assert}}]]\n0 successful operations.\n0 derived errors ignored. [Op:__inference_train_function_151371]"
          ]
        }
      ],
      "source": [
        "# train the model on the new data for a few epochs\n",
        "print(\"Model has started training\")\n",
        "EPOCHS = 10\n",
        "\n",
        "# history = model.fit(inputs, labels, \n",
        "#                     sample_weight = sample_weight,\n",
        "#                     epochs = EPOCHS,\n",
        "#                     batch_size = 64,\n",
        "#                     validation_data = (inputs_val, labels_val))\n",
        "\n",
        "\n",
        "  #This randomly crops new 32*32 squares from the data and runs 1 epoch. Then it does it again.\n",
        "  # I *think* doing this with epochs = EPOCHS just reuses the same data over and over, which isn't what we want.\n",
        "  # inputs, labels = next(iter(dataset))\n",
        "\n",
        "# Sometimes this doesn't run; to fix, restart kernel and run fresh\n",
        "# It shows a lot more data to the model, improving performance\n",
        "# Alternatively, you can just use the same 15,000 fires over and over again without random cropping running the above code\n",
        "history = model.fit(one_batch, #tf.data.dataset takes full advantage of the data generator above\n",
        "          epochs = EPOCHS,\n",
        "          validation_data = valset,\n",
        "          callbacks = CALLBACKS)"
      ]
    },
    {
      "cell_type": "code",
      "execution_count": 78,
      "metadata": {
        "colab": {
          "base_uri": "https://localhost:8080/"
        },
        "id": "5FQit3Vwb00s",
        "outputId": "406e0c7d-23b8-4e0f-a3a1-241c9ea2576f"
      },
      "outputs": [
        {
          "output_type": "stream",
          "name": "stderr",
          "text": [
            "WARNING:absl:Found untraced functions such as _jit_compiled_convolution_op, _jit_compiled_convolution_op, _jit_compiled_convolution_op, _jit_compiled_convolution_op, _jit_compiled_convolution_op while saving (showing 5 of 18). These functions will not be directly callable after loading.\n"
          ]
        }
      ],
      "source": [
        "model.save('/content/drive/MyDrive/Colab Notebooks/Erdos Institute Boot Camp/Final Project - Mahogany/Models/UNET_upsample.model')\n"
      ]
    },
    {
      "cell_type": "code",
      "source": [
        "history_dict = history.history\n",
        "print(history_dict.keys())"
      ],
      "metadata": {
        "colab": {
          "base_uri": "https://localhost:8080/"
        },
        "id": "cTcgFvtWxWBQ",
        "outputId": "c0e01cd8-18ef-4f11-cd6c-47fa69ef811e"
      },
      "execution_count": 79,
      "outputs": [
        {
          "output_type": "stream",
          "name": "stdout",
          "text": [
            "dict_keys(['loss', 'auc_7', 'val_loss', 'val_auc_7'])\n"
          ]
        }
      ]
    },
    {
      "cell_type": "code",
      "source": [
        "plt.figure(figsize = (14,6))\n",
        "\n",
        "plt.scatter(range(1,EPOCHS+1), history_dict['auc'], label = \"Training AUC\")\n",
        "plt.scatter(range(1,EPOCHS+1), history_dict['val_auc'], marker='v', label = \"Validation Set AUC\")\n",
        "\n",
        "plt.xlabel(\"Epoch\", fontsize=18)\n",
        "plt.ylabel(\"Area Under Curve (PR)\", fontsize=18)\n",
        "\n",
        "plt.xticks(fontsize=16)\n",
        "plt.yticks(fontsize=16)\n",
        "\n",
        "plt.legend(fontsize=18)\n",
        "\n",
        "plt.show()\n",
        "\n",
        "\n",
        "plt.figure(figsize = (14,6))\n",
        "\n",
        "plt.scatter(range(1,EPOCHS+1), history_dict['loss'], label = \"Training Loss\")\n",
        "plt.scatter(range(1,EPOCHS+1), history_dict['val_loss'], marker='v', label = \"Validation Set Loss\")\n",
        "\n",
        "plt.xlabel(\"Epoch\", fontsize=18)\n",
        "plt.ylabel(\"Loss Function Value\", fontsize=18)\n",
        "\n",
        "plt.xticks(fontsize=16)\n",
        "plt.yticks(fontsize=16)\n",
        "\n",
        "plt.legend(fontsize=18)\n",
        "\n",
        "plt.show()"
      ],
      "metadata": {
        "colab": {
          "base_uri": "https://localhost:8080/",
          "height": 785
        },
        "id": "Y5ZGUGgAxbj0",
        "outputId": "6d90ca7c-c8c7-4750-c40b-3f2c751756cc"
      },
      "execution_count": 82,
      "outputs": [
        {
          "output_type": "display_data",
          "data": {
            "text/plain": [
              "<Figure size 1008x432 with 1 Axes>"
            ],
            "image/png": "[encoded data removed]"
          },
          "metadata": {
            "needs_background": "light"
          }
        },
        {
          "output_type": "display_data",
          "data": {
            "text/plain": [
              "<Figure size 1008x432 with 1 Axes>"
            ],
            "image/png": "[encoded data removed]"
          },
          "metadata": {
            "needs_background": "light"
          }
        }
      ]
    },
    {
      "cell_type": "markdown",
      "metadata": {
        "id": "kzAiew6uLH79"
      },
      "source": [
        "# Metrics: Precision, Recall, F1, AUC (PR)"
      ]
    },
    {
      "cell_type": "code",
      "execution_count": 83,
      "metadata": {
        "id": "FzLIBZ7EwFuZ"
      },
      "outputs": [],
      "source": [
        "## now we can import the confusion matrix\n",
        "from sklearn.metrics import confusion_matrix"
      ]
    },
    {
      "cell_type": "markdown",
      "metadata": {
        "id": "Ca8USco0PdG3"
      },
      "source": [
        "TF Datasets are loaded lazily, so materialize the first batch of inputs and labels."
      ]
    },
    {
      "cell_type": "code",
      "execution_count": 84,
      "metadata": {
        "id": "Ml7Rg8aCQiTT"
      },
      "outputs": [],
      "source": [
        "inputs, labels, weights = next(iter(dataset))\n",
        "\n",
        "inputs_val, labels_val, _ = next(iter(valset))\n",
        "\n",
        "inputs_test, labels_test, _ = next(iter(testset))"
      ]
    },
    {
      "cell_type": "code",
      "execution_count": 85,
      "metadata": {
        "id": "ASUI0ab6liMY"
      },
      "outputs": [],
      "source": [
        "X = inputs\n",
        "y = tf.reshape(labels, [-1]).numpy() #len(labels)*32*32\n",
        "\n",
        "y_val = tf.reshape(labels_val, [-1]).numpy() \n",
        "\n",
        "y_test = tf.reshape(labels_test, [-1]).numpy() "
      ]
    },
    {
      "cell_type": "code",
      "execution_count": 105,
      "metadata": {
        "colab": {
          "base_uri": "https://localhost:8080/"
        },
        "id": "eLuxBcWGK5op",
        "outputId": "a2e5fb3f-3cfd-4161-8884-4f54de53ac37"
      },
      "outputs": [
        {
          "output_type": "stream",
          "name": "stdout",
          "text": [
            "53/53 [==============================] - 1s 11ms/step\n"
          ]
        }
      ],
      "source": [
        "#Leave these commented if you want the training accuracy\n",
        "#Uncomment one or the other if you want the val/test data\n",
        "# X, y = inputs_val, y_val\n",
        "# X, y = inputs_test, y_test\n",
        "\n",
        "#Don't bother learning where no-data is during training.\n",
        "#makes training quicker and binary (thank fuck)\n",
        "y_pred = model.predict(X).reshape(-1)\n",
        "y_pred = y_pred[np.where(y >= 0)]\n",
        "y = y[np.where(y >= 0)]"
      ]
    },
    {
      "cell_type": "code",
      "execution_count": 106,
      "metadata": {
        "colab": {
          "base_uri": "https://localhost:8080/"
        },
        "id": "s-_00VLPPjW7",
        "outputId": "f4dea858-35ae-4452-cc91-f7e380a7b075"
      },
      "outputs": [
        {
          "output_type": "execute_result",
          "data": {
            "text/plain": [
              "array([[1617102,    5830],\n",
              "       [  53148,    6555]])"
            ]
          },
          "metadata": {},
          "execution_count": 106
        }
      ],
      "source": [
        "## just like mse, actual then prediction\n",
        "cum = confusion_matrix(y, np.round(y_pred))\n",
        "cum"
      ]
    },
    {
      "cell_type": "code",
      "execution_count": 107,
      "metadata": {
        "id": "SVaeaEl1PjSV"
      },
      "outputs": [],
      "source": [
        "## Calculate the confusion matrix here\n",
        "\n",
        "TN = cum[0,0] #these are nomally 0's and ones\n",
        "FP = cum[0,1] #+ cum[0,2] # acounting for incorrectly predicting [-1] # no longer need to do these -> taken care of above\n",
        "FN = cum[1,0] #+ cum[2,0] # accounting for incorrectly predicitng [-1]\n",
        "TP = cum[1,1]"
      ]
    },
    {
      "cell_type": "code",
      "execution_count": 108,
      "metadata": {
        "colab": {
          "base_uri": "https://localhost:8080/"
        },
        "id": "OrhTO9_WPjUo",
        "outputId": "91cb35a7-2a49-4060-ac81-478d821bc693"
      },
      "outputs": [
        {
          "output_type": "stream",
          "name": "stdout",
          "text": [
            "The baseline precision is 0.5293\n",
            "The baseline recall is 0.1098\n"
          ]
        }
      ],
      "source": [
        "## calculate recall and precision here\n",
        "print(\"The baseline precision is\", \n",
        "         np.round(TP/(FP + TP), 4))\n",
        "\n",
        "print(\"The baseline recall is\", \n",
        "         np.round(TP/(FN + TP), 4))"
      ]
    },
    {
      "cell_type": "code",
      "execution_count": 109,
      "metadata": {
        "colab": {
          "base_uri": "https://localhost:8080/"
        },
        "id": "yeLkD0ao8Ktf",
        "outputId": "4305535b-cd96-432a-c808-fe2c04afafeb"
      },
      "outputs": [
        {
          "output_type": "stream",
          "name": "stderr",
          "text": [
            "<ipython-input-109-5bbb3b50798d>:11: RuntimeWarning: invalid value encountered in long_scalars\n",
            "  precs.append(TP/PP)\n"
          ]
        }
      ],
      "source": [
        " ## Now plot how the accuracy (sensitivity/specificity) changes with the cutoff\n",
        "cutoffs = np.arange(0.001,.975,.001)\n",
        "precs = []\n",
        "recs = []\n",
        "y = y.astype(int)\n",
        "\n",
        "for cutoff in cutoffs:\n",
        "    TP = (1*(y_pred >= cutoff) & y).sum()\n",
        "    PP = 1*(y_pred >= cutoff).sum() #predicted positives = # Denominator for precision\n",
        "    AP = y.sum() #Actual positives # Denominator for recall\n",
        "    precs.append(TP/PP)\n",
        "    recs.append(TP/AP)"
      ]
    },
    {
      "cell_type": "code",
      "execution_count": 110,
      "metadata": {
        "colab": {
          "base_uri": "https://localhost:8080/"
        },
        "id": "qON_Xu5XOJsP",
        "outputId": "9d581b3e-ae86-4310-bbe3-d7f8a91bd975"
      },
      "outputs": [
        {
          "output_type": "stream",
          "name": "stdout",
          "text": [
            "The best precision is 0.3346448319863888\n",
            "The best recall is 0.42168735239435207\n",
            "The auc is 0.28756556\n"
          ]
        },
        {
          "output_type": "stream",
          "name": "stderr",
          "text": [
            "<ipython-input-6-37b4cf7522e5>:2: RuntimeWarning: invalid value encountered in true_divide\n",
            "  f1s = np.nan_to_num(2*np.nan_to_num(precs)*recs/(np.nan_to_num(precs) + recs))\n"
          ]
        }
      ],
      "source": [
        "prec, rec = get_metrics(precs, recs)\n",
        "\n",
        "auc = tf.keras.metrics.AUC(curve = 'PR')\n",
        "auc.update_state(y, y_pred)\n",
        "\n",
        "print(\"The best precision is\", prec)\n",
        "print(\"The best recall is\", rec)\n",
        "print(\"The auc is\", auc.result().numpy())"
      ]
    },
    {
      "cell_type": "markdown",
      "metadata": {
        "id": "ikZ1Th_MOKIx"
      },
      "source": [
        "# Plot of Precision/Recall curves"
      ]
    },
    {
      "cell_type": "code",
      "execution_count": 26,
      "metadata": {
        "colab": {
          "base_uri": "https://localhost:8080/",
          "height": 502
        },
        "id": "XIl-u9qmS78d",
        "outputId": "aaac1ce8-2bf8-4878-f018-b01b7f5e1763"
      },
      "outputs": [
        {
          "output_type": "display_data",
          "data": {
            "text/plain": [
              "<Figure size 864x576 with 1 Axes>"
            ],
            "image/png": "[encoded data removed]"
          },
          "metadata": {
            "needs_background": "light"
          }
        }
      ],
      "source": [
        "plt.figure(figsize=(12,8))\n",
        "\n",
        "plt.scatter(cutoffs,precs)\n",
        "\n",
        "plt.xlabel(\"Cutoff\",fontsize=16)\n",
        "plt.ylabel(\"Training Precision\",fontsize=16)\n",
        "\n",
        "plt.show()"
      ]
    },
    {
      "cell_type": "code",
      "execution_count": 27,
      "metadata": {
        "colab": {
          "base_uri": "https://localhost:8080/",
          "height": 502
        },
        "id": "rwc2sIJTS7-3",
        "outputId": "5e22e89a-c8b2-4496-c654-2cd9126fb5d6"
      },
      "outputs": [
        {
          "output_type": "display_data",
          "data": {
            "text/plain": [
              "<Figure size 864x576 with 1 Axes>"
            ],
            "image/png": "[encoded data removed]"
          },
          "metadata": {
            "needs_background": "light"
          }
        }
      ],
      "source": [
        "plt.figure(figsize=(12,8))\n",
        "\n",
        "plt.scatter(cutoffs,recs)\n",
        "\n",
        "plt.xlabel(\"Cutoff\",fontsize=16)\n",
        "plt.ylabel(\"Training Recall\",fontsize=16)\n",
        "\n",
        "plt.show()"
      ]
    },
    {
      "cell_type": "code",
      "execution_count": 28,
      "metadata": {
        "colab": {
          "base_uri": "https://localhost:8080/",
          "height": 506
        },
        "id": "ATyN2L0YMLaZ",
        "outputId": "8e2dc45a-c337-4769-b924-d5f305d61e34"
      },
      "outputs": [
        {
          "output_type": "display_data",
          "data": {
            "text/plain": [
              "<Figure size 720x576 with 1 Axes>"
            ],
            "image/png": "[encoded data removed]"
          },
          "metadata": {
            "needs_background": "light"
          }
        }
      ],
      "source": [
        "plt.figure(figsize=(10,8))\n",
        "\n",
        "plt.plot(recs, precs)\n",
        "\n",
        "plt.xlabel(\"Recall\", fontsize=16)\n",
        "plt.ylabel(\"Precision\", fontsize=16)\n",
        "\n",
        "plt.xticks(fontsize=14)\n",
        "plt.yticks(fontsize=14)\n",
        "\n",
        "plt.show()"
      ]
    },
    {
      "cell_type": "code",
      "execution_count": 29,
      "metadata": {
        "colab": {
          "base_uri": "https://localhost:8080/",
          "height": 537
        },
        "id": "2ULrRMSOM1UQ",
        "outputId": "a3530f0f-7870-497c-c1cc-686d77ae2b97"
      },
      "outputs": [
        {
          "output_type": "stream",
          "name": "stderr",
          "text": [
            "<ipython-input-29-6bd9b1a1fe46>:3: RuntimeWarning: invalid value encountered in true_divide\n",
            "  f1s = np.nan_to_num(2*np.nan_to_num(precs)*recs/(np.nan_to_num(precs) + recs))\n"
          ]
        },
        {
          "output_type": "display_data",
          "data": {
            "text/plain": [
              "<Figure size 864x576 with 1 Axes>"
            ],
            "image/png": "[encoded data removed]"
          },
          "metadata": {
            "needs_background": "light"
          }
        }
      ],
      "source": [
        "plt.figure(figsize=(12,8))\n",
        "\n",
        "f1s = np.nan_to_num(2*np.nan_to_num(precs)*recs/(np.nan_to_num(precs) + recs))\n",
        "plt.scatter(cutoffs,f1s)\n",
        "\n",
        "plt.xlabel(\"Cutoff\",fontsize=16)\n",
        "plt.ylabel(\"F1-Score\",fontsize=16)\n",
        "\n",
        "plt.show()"
      ]
    },
    {
      "cell_type": "markdown",
      "metadata": {
        "id": "bzCgCoxtgP-f"
      },
      "source": [
        "# Plotting function"
      ]
    },
    {
      "cell_type": "code",
      "execution_count": 30,
      "metadata": {
        "id": "G0E6lWR9beD0"
      },
      "outputs": [],
      "source": [
        "n_rows = 10\n",
        "n_features = inputs.shape[3]\n",
        "CMAP = colors.ListedColormap(['black', 'silver', 'orangered'])\n",
        "BOUNDS = [-1, -0.1, 0.001, 1]\n",
        "NORM = colors.BoundaryNorm(BOUNDS, CMAP.N)\n",
        "keys = INPUT_FEATURES"
      ]
    },
    {
      "cell_type": "code",
      "execution_count": 70,
      "metadata": {
        "colab": {
          "base_uri": "https://localhost:8080/",
          "height": 301
        },
        "id": "TfTUT4UWMLVS",
        "outputId": "5cbf1219-c9dd-4795-f408-d3d8ecd92e62"
      },
      "outputs": [
        {
          "output_type": "stream",
          "name": "stdout",
          "text": [
            "53/53 [==============================] - 0s 8ms/step\n"
          ]
        },
        {
          "output_type": "execute_result",
          "data": {
            "text/plain": [
              "<matplotlib.image.AxesImage at 0x7f05002994c0>"
            ]
          },
          "metadata": {},
          "execution_count": 70
        },
        {
          "output_type": "display_data",
          "data": {
            "text/plain": [
              "<Figure size 432x288 with 1 Axes>"
            ],
            "image/png": "[encoded data removed]"
          },
          "metadata": {
            "needs_background": "light"
          }
        }
      ],
      "source": [
        "pred = model.predict(inputs_test).reshape((len(inputs_test),32,32))\n",
        "plt.imshow(pred[0], cmap='plasma') "
      ]
    },
    {
      "cell_type": "code",
      "execution_count": 121,
      "metadata": {
        "colab": {
          "base_uri": "https://localhost:8080/",
          "height": 1000
        },
        "id": "63MC_lvOMLYM",
        "outputId": "57d424e3-c7cd-4430-ab03-7d7740d49071"
      },
      "outputs": [
        {
          "output_type": "display_data",
          "data": {
            "text/plain": [
              "<Figure size 648x1440 with 32 Axes>"
            ],
            "image/png": "[encoded data removed]"
          },
          "metadata": {
            "needs_background": "light"
          }
        }
      ],
      "source": [
        "fig = plt.figure(figsize=(9,20))\n",
        "n_rows = 8\n",
        "\n",
        "for i in range(n_rows):\n",
        "  fire_index = i +1000\n",
        "  plt.subplot(n_rows,3, 3*i + 1)\n",
        "  plt.title(\"Last fire\", fontsize=13)\n",
        "  plt.imshow(inputs_test[fire_index, :, :, -1], cmap=CMAP, norm=NORM)\n",
        "  plt.axis('off')\n",
        "  plt.subplot(n_rows,3, 3*i + 2)\n",
        "  plt.title(\"Actual fire\", fontsize=13)\n",
        "  plt.imshow(labels_test[fire_index, :, :, 0], cmap=CMAP, norm=NORM)\n",
        "  plt.axis('off')\n",
        "  plt.subplot(n_rows,3, 3*i + 3)\n",
        "  plt.title(\"Prediction\", fontsize=13)\n",
        "  plt.imshow(pred[fire_index], cmap='plasma') \n",
        "  plt.colorbar()\n",
        "  plt.axis('off')\n",
        "plt.tight_layout()"
      ]
    },
    {
      "cell_type": "code",
      "execution_count": 32,
      "metadata": {
        "id": "a28B0KcVuGzm"
      },
      "outputs": [],
      "source": []
    }
  ],
  "metadata": {
    "accelerator": "GPU",
    "colab": {
      "provenance": [],
      "include_colab_link": true
    },
    "gpuClass": "standard",
    "kernelspec": {
      "display_name": "Python 3",
      "language": "python",
      "name": "python3"
    },
    "language_info": {
      "codemirror_mode": {
        "name": "ipython",
        "version": 3
      },
      "file_extension": ".py",
      "mimetype": "text/x-python",
      "name": "python",
      "nbconvert_exporter": "python",
      "pygments_lexer": "ipython3",
      "version": "3.6.4"
    }
  },
  "nbformat": 4,
  "nbformat_minor": 0
}