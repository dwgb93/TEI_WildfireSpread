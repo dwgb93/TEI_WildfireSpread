{
  "cells": [
    {
      "cell_type": "markdown",
      "metadata": {
        "id": "view-in-github",
        "colab_type": "text"
      },
      "source": [
        "<a href=\"https://colab.research.google.com/github/dwgb93/TEI_WildfireSpread/blob/main/notebooks/Wildfire_EDA.ipynb\" target=\"_parent\"><img src=\"https://colab.research.google.com/assets/colab-badge.svg\" alt=\"Open In Colab\"/></a>"
      ]
    },
    {
      "cell_type": "markdown",
      "source": [
        "#The Erd&#337;s Institute Fall Boot Camp - Team Mahogany\n",
        "\n",
        "We're using data from [this paper](https://arxiv.org/pdf/2112.02447.pdf) to predict where wildfires spread based on 12 features including wind, temperature, humidity, vegetation, and elevation.\n",
        "\n",
        "This is a first code demo from [Google Research](https://github.com/google-research/google-research/tree/master/simulation_research/next_day_wildfire_spread) to visualize the data.\n",
        "\n",
        "Each .tfrecord file consists of 100 64km by 64km grids with 12 features, described below.\n",
        "\n",
        "For training, we will randomly sample a 32 by 32km grid to feed into logistic regerssion/neural network/etc. For testing we will either centre crop or just downsample the entire region."
      ],
      "metadata": {
        "id": "5xck4tfO6s0t"
      }
    },
    {
      "cell_type": "markdown",
      "metadata": {
        "id": "uPojRlNQPJub"
      },
      "source": [
        "Licensed under the Apache License, Version 2.0\n",
        "# Imports"
      ]
    },
    {
      "cell_type": "markdown",
      "metadata": {
        "id": "oOtnY2y8Om-1"
      },
      "source": [
        "Import the required libraries."
      ]
    },
    {
      "cell_type": "code",
      "execution_count": 1,
      "metadata": {
        "execution": {
          "iopub.execute_input": "2021-12-04T23:21:56.11266Z",
          "iopub.status.busy": "2021-12-04T23:21:56.111768Z",
          "iopub.status.idle": "2021-12-04T23:21:56.119068Z",
          "shell.execute_reply": "2021-12-04T23:21:56.117706Z",
          "shell.execute_reply.started": "2021-12-04T23:21:56.112602Z"
        },
        "id": "1Mf4kbp8yOxd",
        "trusted": true
      },
      "outputs": [],
      "source": [
        "import re\n",
        "from typing import Dict, List, Optional, Text, Tuple\n",
        "import matplotlib.pyplot as plt\n",
        "from matplotlib import colors\n",
        "\n",
        "import tensorflow as tf\n",
        "import numpy as np"
      ]
    },
    {
      "cell_type": "markdown",
      "source": [
        "Note: This links your Google Drive to Colab. Useful if the data is stored in Google Drive."
      ],
      "metadata": {
        "id": "TXAnM2x_7p9z"
      }
    },
    {
      "cell_type": "code",
      "source": [
        "from google.colab import drive\n",
        "drive.mount('/content/drive')"
      ],
      "metadata": {
        "id": "83ySLB31i3n-",
        "colab": {
          "base_uri": "https://localhost:8080/"
        },
        "outputId": "feeaffb8-6233-457d-b628-bdfa211043db"
      },
      "execution_count": 2,
      "outputs": [
        {
          "output_type": "stream",
          "name": "stdout",
          "text": [
            "Mounted at /content/drive\n"
          ]
        }
      ]
    },
    {
      "cell_type": "markdown",
      "metadata": {
        "id": "aVb2hhOcgVwU"
      },
      "source": [
        "# Common Functions (click to expand)"
      ]
    },
    {
      "cell_type": "markdown",
      "metadata": {
        "id": "OabUJMGqO9NE"
      },
      "source": [
        "Run the following three cells to define the required library functions for loading the data."
      ]
    },
    {
      "cell_type": "code",
      "execution_count": 3,
      "metadata": {
        "execution": {
          "iopub.execute_input": "2021-12-04T23:21:58.421589Z",
          "iopub.status.busy": "2021-12-04T23:21:58.421087Z",
          "iopub.status.idle": "2021-12-04T23:21:58.434217Z",
          "shell.execute_reply": "2021-12-04T23:21:58.433505Z",
          "shell.execute_reply.started": "2021-12-04T23:21:58.421551Z"
        },
        "id": "GTTV3tjjCcdn",
        "trusted": true
      },
      "outputs": [],
      "source": [
        "# Constants for the data reader\n",
        "\n",
        "INPUT_FEATURES = ['elevation', 'th', 'vs',  'tmmn', 'tmmx', 'sph',\n",
        "                  'pr', 'pdsi', 'NDVI', 'population', 'erc', 'PrevFireMask']\n",
        "\n",
        "OUTPUT_FEATURES = ['FireMask', ]\n",
        "\n",
        "# Data statistics\n",
        "# For each variable, the statistics are ordered in the form:\n",
        "# (min_clip, max_clip, mean, std)\n",
        "# I recalculated the statistics based on the s\n",
        "DATA_STATS = {\n",
        "    # 0.1 percentile, 99.9 percentile\n",
        "    # Elevation\n",
        "    'elevation' : (0.0, 3536.0, 896.5714, 842.6101),\n",
        "    # Drought index - this claimed to be pressure, but it's Palmer Drought Severity Index\n",
        "    # https://en.wikipedia.org/wiki/Palmer_drought_index\n",
        "    # 0.1 percentile, 99.9 percentile\n",
        "    'pdsi' : (-6.0559, 6.7432, -0.7729, 2.4407),\n",
        "    # Normalized Difference Vegetation Index https://gisgeography.com/ndvi-normalized-difference-vegetation-index/\n",
        "    'NDVI' : (-3826.0, 9282.0, 5350.6865, 2185.2192),\n",
        "    # Precipitation in mm.\n",
        "    # Negative values make no sense, so min is set to 0.\n",
        "    # 0., 99.9 percentile\n",
        "    'pr': (0.0, 19.2422, 0.3234289, 1.5336641),\n",
        "    # Specific humidity ranges from 0 to 100%.\n",
        "    'sph': (0., 1., 0.0065263123, 0.003735537), #max changed to 1\n",
        "    # Wind direction - degrees clockwise from north.\n",
        "    # Thus min set to 0 and max set to 360.\n",
        "    'th' : (0.0, 360.0, 146.6468, 3435.0725),\n",
        "    # Min/max temperature in Kelvin.\n",
        "    # -20 degree C, 99.9 percentile\n",
        "    'tmmn' : (253.15, 299.6313, 281.85196, 18.4972), #min changed\n",
        "    # -20 degree C, 99.9 percentile\n",
        "    'tmmx' : (253.15, 317.3869, 297.71643, 19.4581), #min changed\n",
        "    # Wind speed.\n",
        "    # Negative values do not make sense, given there is a wind direction.\n",
        "    # 0., 99.9 percentile\n",
        "    'vs' : (0.0, 9.7368, 3.6278, 1.3092),\n",
        "    # NFDRS fire danger index energy release component expressed in BTU's per\n",
        "    # square foot.\n",
        "    # Negative values do not make sense. Thus min set to zero.\n",
        "    # 0., 99.9 percentile\n",
        "    'erc' : (0.0, 109.9254, 53.4690, 25.0980),\n",
        "    # Population\n",
        "    # min, 99.9 percentile\n",
        "    'population' : (0.0, 2935.7548828125, 30.4603, 214.20015),\n",
        "    # We don't want to normalize the FireMasks.\n",
        "    'PrevFireMask': (-1., 1., 0., 1.),\n",
        "    'FireMask': (-1., 1., 0., 1.)\n",
        "}"
      ]
    },
    {
      "cell_type": "code",
      "source": [
        "DATA_STATS # Could use more readable names. Also, these are in a different order than below???"
      ],
      "metadata": {
        "colab": {
          "base_uri": "https://localhost:8080/"
        },
        "id": "RuGAflYe7p1L",
        "outputId": "844e6470-4299-40b1-bdeb-b4a706ab31a0"
      },
      "execution_count": 4,
      "outputs": [
        {
          "output_type": "execute_result",
          "data": {
            "text/plain": [
              "{'elevation': (0.0, 3536.0, 896.5714, 842.6101),\n",
              " 'pdsi': (-6.0559, 6.7432, -0.7729, 2.4407),\n",
              " 'NDVI': (-3826.0, 9282.0, 5350.6865, 2185.2192),\n",
              " 'pr': (0.0, 19.2422, 0.3234289, 1.5336641),\n",
              " 'sph': (0.0, 1.0, 0.0065263123, 0.003735537),\n",
              " 'th': (0.0, 360.0, 146.6468, 3435.0725),\n",
              " 'tmmn': (253.15, 299.6313, 281.85196, 18.4972),\n",
              " 'tmmx': (253.15, 317.3869, 297.71643, 19.4581),\n",
              " 'vs': (0.0, 9.7368, 3.6278, 1.3092),\n",
              " 'erc': (0.0, 109.9254, 53.469, 25.098),\n",
              " 'population': (0.0, 2935.7548828125, 30.4603, 214.20015),\n",
              " 'PrevFireMask': (-1.0, 1.0, 0.0, 1.0),\n",
              " 'FireMask': (-1.0, 1.0, 0.0, 1.0)}"
            ]
          },
          "metadata": {},
          "execution_count": 4
        }
      ]
    },
    {
      "cell_type": "markdown",
      "source": [
        "Functions to crop randomly or from the centre.\n",
        "I'd lean towards random cropping during training and centre cropping (or even downsampling) for testing."
      ],
      "metadata": {
        "id": "qCIZfBFeX55u"
      }
    },
    {
      "cell_type": "code",
      "execution_count": 5,
      "metadata": {
        "execution": {
          "iopub.execute_input": "2021-12-04T23:21:58.898032Z",
          "iopub.status.busy": "2021-12-04T23:21:58.897564Z",
          "iopub.status.idle": "2021-12-04T23:21:58.907504Z",
          "shell.execute_reply": "2021-12-04T23:21:58.9067Z",
          "shell.execute_reply.started": "2021-12-04T23:21:58.897995Z"
        },
        "id": "QqGYv21hD-2q",
        "trusted": true
      },
      "outputs": [],
      "source": [
        "\"\"\"Library of common functions used in deep learning neural networks.\n",
        "\"\"\"\n",
        "def random_crop_input_and_output_images(\n",
        "    input_img: tf.Tensor,\n",
        "    output_img: tf.Tensor,\n",
        "    sample_size: int,\n",
        "    num_in_channels: int,\n",
        "    num_out_channels: int,\n",
        ") -> Tuple[tf.Tensor, tf.Tensor]:\n",
        "  \"\"\"Randomly axis-align crop input and output image tensors.\n",
        "\n",
        "  Args:\n",
        "    input_img: Tensor with dimensions HWC.\n",
        "    output_img: Tensor with dimensions HWC.\n",
        "    sample_size: Side length (square) to crop to.\n",
        "    num_in_channels: Number of channels in `input_img`.\n",
        "    num_out_channels: Number of channels in `output_img`.\n",
        "  Returns:\n",
        "    input_img: Tensor with dimensions HWC.\n",
        "    output_img: Tensor with dimensions HWC.\n",
        "  \"\"\"\n",
        "  combined = tf.concat([input_img, output_img], axis=2)\n",
        "  combined = tf.image.random_crop(\n",
        "      combined,\n",
        "      [sample_size, sample_size, num_in_channels + num_out_channels])\n",
        "  input_img = combined[:, :, 0:num_in_channels]\n",
        "  output_img = combined[:, :, -num_out_channels:]\n",
        "  return input_img, output_img\n",
        "\n",
        "\n",
        "def center_crop_input_and_output_images(\n",
        "    input_img: tf.Tensor,\n",
        "    output_img: tf.Tensor,\n",
        "    sample_size: int,\n",
        ") -> Tuple[tf.Tensor, tf.Tensor]:\n",
        "  \"\"\"Calls `tf.image.central_crop` on input and output image tensors.\n",
        "\n",
        "  Args:\n",
        "    input_img: Tensor with dimensions HWC.\n",
        "    output_img: Tensor with dimensions HWC.\n",
        "    sample_size: Side length (square) to crop to.\n",
        "  Returns:\n",
        "    input_img: Tensor with dimensions HWC.\n",
        "    output_img: Tensor with dimensions HWC.\n",
        "  \"\"\"\n",
        "  central_fraction = sample_size / input_img.shape[0]\n",
        "  input_img = tf.image.central_crop(input_img, central_fraction)\n",
        "  output_img = tf.image.central_crop(output_img, central_fraction)\n",
        "  return input_img, output_img"
      ]
    },
    {
      "cell_type": "code",
      "execution_count": 6,
      "metadata": {
        "execution": {
          "iopub.execute_input": "2021-12-04T23:21:59.359837Z",
          "iopub.status.busy": "2021-12-04T23:21:59.359068Z",
          "iopub.status.idle": "2021-12-04T23:21:59.392567Z",
          "shell.execute_reply": "2021-12-04T23:21:59.391623Z",
          "shell.execute_reply.started": "2021-12-04T23:21:59.359778Z"
        },
        "id": "VBvI9FuGEC09",
        "trusted": true
      },
      "outputs": [],
      "source": [
        "\"\"\"Dataset reader for Earth Engine data.\"\"\"\n",
        "\n",
        "def _get_base_key(key: Text) -> Text:\n",
        "  \"\"\"Extracts the base key from the provided key.\n",
        "\n",
        "  Earth Engine exports TFRecords containing each data variable with its\n",
        "  corresponding variable name. In the case of time sequences, the name of the\n",
        "  data variable is of the form 'variable_1', 'variable_2', ..., 'variable_n',\n",
        "  where 'variable' is the name of the variable, and n the number of elements\n",
        "  in the time sequence. Extracting the base key ensures that each step of the\n",
        "  time sequence goes through the same normalization steps.\n",
        "  The base key obeys the following naming pattern: '[a-zA-Z]+'\n",
        "  For instance, for an input key 'variable_1', this function returns 'variable'.\n",
        "  For an input key 'variable', this function simply returns 'variable'.\n",
        "\n",
        "  Args:\n",
        "    key: Input key.\n",
        "\n",
        "  Returns:\n",
        "    The corresponding base key.\n",
        "\n",
        "  Raises:\n",
        "    ValueError when `key` does not match the expected pattern.\n",
        "  \"\"\"\n",
        "  match = re.match(r'[a-zA-Z]+', key)\n",
        "  if match:\n",
        "    return match.group(1)\n",
        "  raise ValueError('The provided key does not match the expected pattern: {key}')\n",
        "\n",
        "\n",
        "def _clip_and_rescale(inputs: tf.Tensor, key: Text) -> tf.Tensor:\n",
        "  \"\"\"Clips and rescales inputs with the stats corresponding to `key`.\n",
        "\n",
        "  Args:\n",
        "    inputs: Inputs to clip and rescale.\n",
        "    key: Key describing the inputs.\n",
        "\n",
        "  Returns:\n",
        "    Clipped and rescaled input.\n",
        "\n",
        "  Raises:\n",
        "    ValueError if there are no data statistics available for `key`.\n",
        "  \"\"\"\n",
        "  base_key = _get_base_key(key)\n",
        "  if base_key not in DATA_STATS:\n",
        "    raise ValueError(\n",
        "        'No data statistics available for the requested key: {}.'.format(key))\n",
        "  min_val, max_val, _, _ = DATA_STATS[base_key]\n",
        "  inputs = tf.clip_by_value(inputs, min_val, max_val)\n",
        "  return tf.math.divide_no_nan((inputs - min_val), (max_val - min_val))\n",
        "\n",
        "\n",
        "def _clip_and_normalize(inputs: tf.Tensor, key: Text) -> tf.Tensor:\n",
        "  \"\"\"Clips and normalizes inputs with the stats corresponding to `key`.\n",
        "\n",
        "  Args:\n",
        "    inputs: Inputs to clip and normalize.\n",
        "    key: Key describing the inputs.\n",
        "\n",
        "  Returns:\n",
        "    Clipped and normalized input.\n",
        "\n",
        "  Raises:\n",
        "    ValueError if there are no data statistics available for `key`.\n",
        "  \"\"\"\n",
        "  base_key = _get_base_key(key)\n",
        "  if base_key not in DATA_STATS:\n",
        "    raise ValueError(\n",
        "        'No data statistics available for the requested key: {}.'.format(key))\n",
        "  min_val, max_val, mean, std = DATA_STATS[base_key]\n",
        "  inputs = tf.clip_by_value(inputs, min_val, max_val)\n",
        "  inputs = inputs - mean\n",
        "  return tf.math.divide_no_nan(inputs, std)\n",
        "\n",
        "def _get_features_dict(\n",
        "    sample_size: int,\n",
        "    features: List[Text],\n",
        ") -> Dict[Text, tf.io.FixedLenFeature]:\n",
        "  \"\"\"Creates a features dictionary for TensorFlow IO.\n",
        "\n",
        "  Args:\n",
        "    sample_size: Size of the input tiles (square).\n",
        "    features: List of feature names.\n",
        "\n",
        "  Returns:\n",
        "    A features dictionary for TensorFlow IO.\n",
        "  \"\"\"\n",
        "  sample_shape = [sample_size, sample_size]\n",
        "  features = set(features)\n",
        "  columns = [\n",
        "      tf.io.FixedLenFeature(shape=sample_shape, dtype=tf.float32)\n",
        "      for _ in features\n",
        "  ]\n",
        "  return dict(zip(features, columns))\n",
        "\n",
        "\n",
        "def _parse_fn(\n",
        "    example_proto: tf.train.Example, data_size: int, sample_size: int,\n",
        "    num_in_channels: int, clip_and_normalize: bool,\n",
        "    clip_and_rescale: bool, random_crop: bool, center_crop: bool,\n",
        ") -> Tuple[tf.Tensor, tf.Tensor]:\n",
        "  \"\"\"Reads a serialized example.\n",
        "\n",
        "  Args:\n",
        "    example_proto: A TensorFlow example protobuf.\n",
        "    data_size: Size of tiles (square) as read from input files.\n",
        "    sample_size: Size the tiles (square) when input into the model.\n",
        "    num_in_channels: Number of input channels.\n",
        "    clip_and_normalize: True if the data should be clipped and normalized.\n",
        "    clip_and_rescale: True if the data should be clipped and rescaled.\n",
        "    random_crop: True if the data should be randomly cropped.\n",
        "    center_crop: True if the data should be cropped in the center.\n",
        "\n",
        "  Returns:\n",
        "    (input_img, output_img) tuple of inputs and outputs to the ML model.\n",
        "  \"\"\"\n",
        "  if (random_crop and center_crop):\n",
        "    raise ValueError('Cannot have both random_crop and center_crop be True')\n",
        "  input_features, output_features = INPUT_FEATURES, OUTPUT_FEATURES\n",
        "  feature_names = input_features + output_features\n",
        "  features_dict = _get_features_dict(data_size, feature_names)\n",
        "  features = tf.io.parse_single_example(example_proto, features_dict)\n",
        "\n",
        "  if clip_and_normalize:\n",
        "    inputs_list = [\n",
        "        _clip_and_normalize(features.get(key), key) for key in input_features\n",
        "    ]\n",
        "  elif clip_and_rescale:\n",
        "    inputs_list = [\n",
        "        _clip_and_rescale(features.get(key), key) for key in input_features\n",
        "    ]\n",
        "  else:\n",
        "    inputs_list = [features.get(key) for key in input_features]\n",
        "\n",
        "  inputs_stacked = tf.stack(inputs_list, axis=0)\n",
        "  input_img = tf.transpose(inputs_stacked, [1, 2, 0])\n",
        "\n",
        "  outputs_list = [features.get(key) for key in output_features]\n",
        "  assert outputs_list, 'outputs_list should not be empty'\n",
        "  outputs_stacked = tf.stack(outputs_list, axis=0)\n",
        "\n",
        "  outputs_stacked_shape = outputs_stacked.get_shape().as_list()\n",
        "  assert len(outputs_stacked.shape) == 3, ('outputs_stacked should be rank 3'\n",
        "                                            'but dimensions of outputs_stacked'\n",
        "                                            f' are {outputs_stacked_shape}')\n",
        "  output_img = tf.transpose(outputs_stacked, [1, 2, 0])\n",
        "\n",
        "  if random_crop:\n",
        "    input_img, output_img = random_crop_input_and_output_images(\n",
        "        input_img, output_img, sample_size, num_in_channels, 1)\n",
        "  if center_crop:\n",
        "    input_img, output_img = center_crop_input_and_output_images(\n",
        "        input_img, output_img, sample_size)\n",
        "  return input_img, output_img\n",
        "\n",
        "\n",
        "def get_dataset(file_pattern: Text, data_size: int, sample_size: int,\n",
        "                batch_size: int, num_in_channels: int, compression_type: Text,\n",
        "                clip_and_normalize: bool, clip_and_rescale: bool,\n",
        "                random_crop: bool, center_crop: bool) -> tf.data.Dataset:\n",
        "  \"\"\"Gets the dataset from the file pattern.\n",
        "\n",
        "  Args:\n",
        "    file_pattern: Input file pattern.\n",
        "    data_size: Size of tiles (square) as read from input files.\n",
        "    sample_size: Size the tiles (square) when input into the model.\n",
        "    batch_size: Batch size.\n",
        "    num_in_channels: Number of input channels.\n",
        "    compression_type: Type of compression used for the input files.\n",
        "    clip_and_normalize: True if the data should be clipped and normalized, False\n",
        "      otherwise.\n",
        "    clip_and_rescale: True if the data should be clipped and rescaled, False\n",
        "      otherwise.\n",
        "    random_crop: True if the data should be randomly cropped.\n",
        "    center_crop: True if the data shoulde be cropped in the center.\n",
        "\n",
        "  Returns:\n",
        "    A TensorFlow dataset loaded from the input file pattern, with features\n",
        "    described in the constants, and with the shapes determined from the input\n",
        "    parameters to this function.\n",
        "  \"\"\"\n",
        "  if (clip_and_normalize and clip_and_rescale):\n",
        "    raise ValueError('Cannot have both normalize and rescale.')\n",
        "  dataset = tf.data.Dataset.list_files(file_pattern)\n",
        "  dataset = dataset.interleave(\n",
        "      lambda x: tf.data.TFRecordDataset(x, compression_type=compression_type),\n",
        "      num_parallel_calls=tf.data.experimental.AUTOTUNE)\n",
        "  dataset = dataset.prefetch(buffer_size=tf.data.experimental.AUTOTUNE)\n",
        "  dataset = dataset.map(\n",
        "      lambda x: _parse_fn(  # pylint: disable=g-long-lambda\n",
        "          x, data_size, sample_size, num_in_channels, clip_and_normalize,\n",
        "          clip_and_rescale, random_crop, center_crop),\n",
        "      num_parallel_calls=tf.data.experimental.AUTOTUNE)\n",
        "  dataset = dataset.batch(batch_size)\n",
        "  dataset = dataset.prefetch(buffer_size=tf.data.experimental.AUTOTUNE)\n",
        "  return dataset"
      ]
    },
    {
      "cell_type": "code",
      "execution_count": 7,
      "metadata": {
        "execution": {
          "iopub.execute_input": "2021-12-04T23:22:02.409458Z",
          "iopub.status.busy": "2021-12-04T23:22:02.4082Z",
          "iopub.status.idle": "2021-12-04T23:22:02.41446Z",
          "shell.execute_reply": "2021-12-04T23:22:02.413495Z",
          "shell.execute_reply.started": "2021-12-04T23:22:02.409372Z"
        },
        "id": "bnG0_l_ChjUt",
        "trusted": true
      },
      "outputs": [],
      "source": [
        "TITLES = [\n",
        "  'Elevation',\n",
        "  'Wind\\ndirection',\n",
        "  'Wind\\nvelocity',\n",
        "  'Min\\ntemp',\n",
        "  'Max\\ntemp',\n",
        "  'Humidity',\n",
        "  'Precip',\n",
        "  'Drought',\n",
        "  'Vegetation',\n",
        "  'Population\\ndensity',\n",
        "  'Energy\\nrelease\\ncomponent',\n",
        "  'Previous\\nfire\\nmask',\n",
        "  'Fire\\nmask'\n",
        "]"
      ]
    },
    {
      "cell_type": "markdown",
      "metadata": {
        "id": "rdNDytnsPTVK"
      },
      "source": [
        "# Load the dataset."
      ]
    },
    {
      "cell_type": "code",
      "source": [
        "file_pattern = '/content/drive/MyDrive/Colab Notebooks/Erdos Institute Boot Camp/Final Project - Mahogany/Data/next_day_wildfire_spread_train*'\n",
        "#Location within MY GDrive. Might not be the same for you. I don't know if you can link to my drive this way..."
      ],
      "metadata": {
        "id": "Wb0owKLJOXCu"
      },
      "execution_count": 8,
      "outputs": []
    },
    {
      "cell_type": "code",
      "execution_count": 9,
      "metadata": {
        "execution": {
          "iopub.execute_input": "2021-12-04T23:22:00.260248Z",
          "iopub.status.busy": "2021-12-04T23:22:00.25974Z",
          "iopub.status.idle": "2021-12-04T23:22:00.852967Z",
          "shell.execute_reply": "2021-12-04T23:22:00.851977Z",
          "shell.execute_reply.started": "2021-12-04T23:22:00.260208Z"
        },
        "id": "X1jBBEinQbM0",
        "trusted": true
      },
      "outputs": [],
      "source": [
        "dataset = get_dataset(\n",
        "      file_pattern,\n",
        "      data_size=64,\n",
        "      sample_size=64, #32 for training\n",
        "      batch_size=14979, #14979 total\n",
        "      num_in_channels=12,\n",
        "      compression_type=None,\n",
        "      clip_and_normalize=False,\n",
        "      clip_and_rescale=False,\n",
        "      random_crop=False,\n",
        "      center_crop=False)"
      ]
    },
    {
      "cell_type": "markdown",
      "metadata": {
        "id": "Ca8USco0PdG3"
      },
      "source": [
        "TF Datasets are loaded lazily, so materialize the first batch of inputs and labels."
      ]
    },
    {
      "cell_type": "code",
      "execution_count": 10,
      "metadata": {
        "execution": {
          "iopub.execute_input": "2021-12-04T23:22:01.317784Z",
          "iopub.status.busy": "2021-12-04T23:22:01.317477Z",
          "iopub.status.idle": "2021-12-04T23:22:01.591395Z",
          "shell.execute_reply": "2021-12-04T23:22:01.590278Z",
          "shell.execute_reply.started": "2021-12-04T23:22:01.317751Z"
        },
        "id": "Ml7Rg8aCQiTT",
        "trusted": true
      },
      "outputs": [],
      "source": [
        "inputs, labels = next(iter(dataset))"
      ]
    },
    {
      "cell_type": "code",
      "source": [
        "inputs[0] # Apaprently this changes each time we run iter"
      ],
      "metadata": {
        "id": "j_XkjEnyTiFx"
      },
      "execution_count": null,
      "outputs": []
    },
    {
      "cell_type": "code",
      "source": [
        "# To get the total dataset, load train, set inputs train, load val, concat, load test, concat again\n",
        "inputstrain = inputs\n",
        "#inputsval = inputs\n",
        "#inputstest = inputs\n",
        "#inputtemp= tf.concat([inputstrain, inputsval], axis = 0)\n",
        "#total_dataset= tf.concat([inputtemp, inputstest], axis = 0)"
      ],
      "metadata": {
        "id": "IaLOT7BUzFyt",
        "colab": {
          "base_uri": "https://localhost:8080/",
          "height": 201
        },
        "outputId": "4dfdc9ad-e0ca-4958-9a36-9da6aa2a45fd"
      },
      "execution_count": null,
      "outputs": [
        {
          "output_type": "error",
          "ename": "NameError",
          "evalue": "ignored",
          "traceback": [
            "\u001b[0;31m---------------------------------------------------------------------------\u001b[0m",
            "\u001b[0;31mNameError\u001b[0m                                 Traceback (most recent call last)",
            "\u001b[0;32m<ipython-input-10-6982f6c3caa1>\u001b[0m in \u001b[0;36m<module>\u001b[0;34m\u001b[0m\n\u001b[1;32m      2\u001b[0m \u001b[0;31m#inputsval = inputs\u001b[0m\u001b[0;34m\u001b[0m\u001b[0;34m\u001b[0m\u001b[0;34m\u001b[0m\u001b[0m\n\u001b[1;32m      3\u001b[0m \u001b[0minputstest\u001b[0m \u001b[0;34m=\u001b[0m \u001b[0minputs\u001b[0m\u001b[0;34m\u001b[0m\u001b[0;34m\u001b[0m\u001b[0m\n\u001b[0;32m----> 4\u001b[0;31m \u001b[0mtotal_dataset\u001b[0m\u001b[0;34m=\u001b[0m \u001b[0mtf\u001b[0m\u001b[0;34m.\u001b[0m\u001b[0mconcat\u001b[0m\u001b[0;34m(\u001b[0m\u001b[0;34m[\u001b[0m\u001b[0minputtemp\u001b[0m\u001b[0;34m,\u001b[0m \u001b[0minputstest\u001b[0m\u001b[0;34m]\u001b[0m\u001b[0;34m,\u001b[0m \u001b[0maxis\u001b[0m \u001b[0;34m=\u001b[0m \u001b[0;36m0\u001b[0m\u001b[0;34m)\u001b[0m\u001b[0;31m#1877 is validation #1689\u001b[0m\u001b[0;34m\u001b[0m\u001b[0;34m\u001b[0m\u001b[0m\n\u001b[0m",
            "\u001b[0;31mNameError\u001b[0m: name 'inputtemp' is not defined"
          ]
        }
      ]
    },
    {
      "cell_type": "code",
      "source": [
        "inputtemp= tf.concat([inputstrain, inputsval], axis = 0)"
      ],
      "metadata": {
        "id": "yT545pox0X28"
      },
      "execution_count": null,
      "outputs": []
    },
    {
      "cell_type": "code",
      "source": [
        "inputstest.shape #1877 is validation #1689 is test"
      ],
      "metadata": {
        "id": "KbYRYytBjsSE"
      },
      "execution_count": null,
      "outputs": []
    },
    {
      "cell_type": "code",
      "source": [
        "total_dataset.shape #18545"
      ],
      "metadata": {
        "id": "1PO3SOTOjkYl"
      },
      "execution_count": null,
      "outputs": []
    },
    {
      "cell_type": "markdown",
      "metadata": {
        "id": "bzCgCoxtgP-f"
      },
      "source": [
        "# Plotting function"
      ]
    },
    {
      "cell_type": "code",
      "execution_count": 11,
      "metadata": {
        "execution": {
          "iopub.execute_input": "2021-12-04T23:22:03.029066Z",
          "iopub.status.busy": "2021-12-04T23:22:03.028554Z",
          "iopub.status.idle": "2021-12-04T23:22:03.037678Z",
          "shell.execute_reply": "2021-12-04T23:22:03.036364Z",
          "shell.execute_reply.started": "2021-12-04T23:22:03.02903Z"
        },
        "id": "G0E6lWR9beD0",
        "trusted": true
      },
      "outputs": [],
      "source": [
        "n_rows = 10\n",
        "n_features = inputs.shape[3]\n",
        "CMAP = colors.ListedColormap(['black', 'silver', 'orangered'])\n",
        "BOUNDS = [-1, -0.1, 0.001, 1]\n",
        "NORM = colors.BoundaryNorm(BOUNDS, CMAP.N)\n",
        "keys = INPUT_FEATURES"
      ]
    },
    {
      "cell_type": "code",
      "execution_count": null,
      "metadata": {
        "execution": {
          "iopub.execute_input": "2021-12-04T23:22:03.73577Z",
          "iopub.status.busy": "2021-12-04T23:22:03.734649Z",
          "iopub.status.idle": "2021-12-04T23:22:07.29126Z",
          "shell.execute_reply": "2021-12-04T23:22:07.290443Z",
          "shell.execute_reply.started": "2021-12-04T23:22:03.735694Z"
        },
        "id": "sPtKQzQv71J_",
        "trusted": true,
        "colab": {
          "base_uri": "https://localhost:8080/",
          "height": 477
        },
        "outputId": "3a467245-6fac-48d5-b1ba-d26ae3d0bf07"
      },
      "outputs": [
        {
          "output_type": "display_data",
          "data": {
            "text/plain": [
              "<Figure size 1080x468 with 130 Axes>"
            ],
            "image/png": "[encoded data removed]"
          },
          "metadata": {
            "needs_background": "light"
          }
        }
      ],
      "source": [
        "fig = plt.figure(figsize=(15,6.5))\n",
        "\n",
        "for i in range(n_rows):\n",
        "  for j in range(n_features + 1):\n",
        "    plt.subplot(n_rows, n_features + 1, i * (n_features + 1) + j + 1)\n",
        "    if i == 0:\n",
        "      plt.title(TITLES[j], fontsize=13)\n",
        "    if j < n_features - 1:\n",
        "      plt.imshow(inputs[i, :, :, j], cmap='viridis')\n",
        "    if j == n_features - 1:\n",
        "      plt.imshow(inputs[i, :, :, -1], cmap=CMAP, norm=NORM)\n",
        "    if j == n_features:\n",
        "      plt.imshow(labels[i, :, :, 0], cmap=CMAP, norm=NORM) \n",
        "    plt.axis('off')\n",
        "plt.tight_layout()"
      ]
    },
    {
      "cell_type": "markdown",
      "source": [
        "# Exploratory Data Analysis"
      ],
      "metadata": {
        "id": "OY3xpIQPPIyo"
      }
    },
    {
      "cell_type": "code",
      "source": [
        "for i in range(n_features):\n",
        "    print(TITLES[i],\"min:\", np.min(inputs[:,:,:,i]))\n",
        "    print(TITLES[i],\"max:\", np.max(inputs[:,:,:,i]))\n",
        "    print(TITLES[i],\"0.1%:\", np.percentile(inputs[:,:,:,i], 0.1))\n",
        "    print(TITLES[i],\"99.9%:\", np.percentile(inputs[:,:,:,i], 99.9))\n",
        "    print(TITLES[i],\"mean:\", np.mean(inputs[:,:,:,i]))\n",
        "    print(TITLES[i],\"std:\", np.std(inputs[:,:,:,i]))\n",
        "\n",
        "#Numbers are close, but slightly different from the reported values above... data values calculated from entire dataset instead of just training set?\n",
        "#That would be called data leakage, and is baaaad"
      ],
      "metadata": {
        "colab": {
          "base_uri": "https://localhost:8080/"
        },
        "id": "X3M8F1i58MDN",
        "outputId": "24d1b044-4b39-493c-eb26-c1ec594add9d"
      },
      "execution_count": null,
      "outputs": [
        {
          "output_type": "stream",
          "name": "stdout",
          "text": [
            "Elevation min: -45.0\n",
            "Elevation max: 4193.0\n",
            "Elevation 0.1%: 0.0\n",
            "Elevation 99.9%: 3536.0\n",
            "Elevation mean: 896.56946\n",
            "Elevation std: 842.6096\n",
            "Wind\n",
            "direction min: -505870.06\n",
            "Wind\n",
            "direction max: 37735.63\n",
            "Wind\n",
            "direction 0.1%: 0.0\n",
            "Wind\n",
            "direction 99.9%: 366.8275451660156\n",
            "Wind\n",
            "direction mean: 146.64648\n",
            "Wind\n",
            "direction std: 3435.0676\n",
            "Wind\n",
            "velocity min: -82.6531\n",
            "Wind\n",
            "velocity max: 103.2201\n",
            "Wind\n",
            "velocity 0.1%: 0.0\n",
            "Wind\n",
            "velocity 99.9%: 9.736795587539717\n",
            "Wind\n",
            "velocity mean: 3.6278431\n",
            "Wind\n",
            "velocity std: 1.3092144\n",
            "Min\n",
            "temp min: -444.69302\n",
            "Min\n",
            "temp max: 716.6276\n",
            "Min\n",
            "temp 0.1%: 0.0\n",
            "Min\n",
            "temp 99.9%: 299.6313171386719\n",
            "Min\n",
            "temp mean: 281.85226\n",
            "Min\n",
            "temp std: 18.49716\n",
            "Max\n",
            "temp min: 0.0\n",
            "Max\n",
            "temp max: 1229.8488\n",
            "Max\n",
            "temp 0.1%: 0.0\n",
            "Max\n",
            "temp 99.9%: 317.3868713378906\n",
            "Max\n",
            "temp mean: 297.71667\n",
            "Max\n",
            "temp std: 19.458052\n",
            "Humidity min: -0.1289879\n",
            "Humidity max: 0.08553028\n",
            "Humidity 0.1%: 0.0\n",
            "Humidity 99.9%: 0.019478965550661087\n",
            "Humidity mean: 0.006526322\n",
            "Humidity std: 0.0037355388\n",
            "Precip min: -167.4483\n",
            "Precip max: 56.21477\n",
            "Precip 0.1%: -0.12988853585720062\n",
            "Precip 99.9%: 19.242182199478265\n",
            "Precip mean: 0.3234287\n",
            "Precip std: 1.5336617\n",
            "Drought min: -125.71088\n",
            "Drought max: 52.268967\n",
            "Drought 0.1%: -6.055873533248901\n",
            "Drought 99.9%: 6.743183135986328\n",
            "Drought mean: -0.7728712\n",
            "Drought std: 2.4407184\n",
            "Vegetation min: -9567.0\n",
            "Vegetation max: 9966.0\n",
            "Vegetation 0.1%: -3826.0\n",
            "Vegetation 99.9%: 9282.0\n",
            "Vegetation mean: 5350.6753\n",
            "Vegetation std: 2185.2192\n",
            "Population\n",
            "density min: 0.0\n",
            "Population\n",
            "density max: 27103.605\n",
            "Population\n",
            "density 0.1%: 0.0\n",
            "Population\n",
            "density 99.9%: 2935.7548828125\n",
            "Population\n",
            "density mean: 30.460266\n",
            "Population\n",
            "density std: 214.20052\n",
            "Energy\n",
            "release\n",
            "component min: -1196.0886\n",
            "Energy\n",
            "release\n",
            "component max: 2470.8823\n",
            "Energy\n",
            "release\n",
            "component 0.1%: 0.0\n",
            "Energy\n",
            "release\n",
            "component 99.9%: 109.92542266845703\n",
            "Energy\n",
            "release\n",
            "component mean: 53.46917\n",
            "Energy\n",
            "release\n",
            "component std: 25.097977\n",
            "Previous\n",
            "fire\n",
            "mask min: -1.0\n",
            "Previous\n",
            "fire\n",
            "mask max: 1.0\n",
            "Previous\n",
            "fire\n",
            "mask 0.1%: -1.0\n",
            "Previous\n",
            "fire\n",
            "mask 99.9%: 1.0\n",
            "Previous\n",
            "fire\n",
            "mask mean: -0.002722855\n",
            "Previous\n",
            "fire\n",
            "mask std: 0.13831188\n"
          ]
        }
      ]
    },
    {
      "cell_type": "code",
      "source": [
        "# Print 4 number summary (min, max, mean, std) of the entire dataset for easy copypasta-ing\n",
        "for i in range(n_features):\n",
        "    print(TITLES[i])\n",
        "    print(\"'\",INPUT_FEATURES[i],\"' : (\",np.percentile(inputs[:,:,:,i], 0.1), \", \",np.percentile(inputs[:,:,:,i], 99.9),\", \",np.mean(inputs[:,:,:,i]),\", \",np.std(inputs[:,:,:,i]),\"),\",sep='')\n",
        "\n",
        "#Numbers are close, but slightly different from the reported values above... data values calculated from entire dataset instead of just training set?\n",
        "#That would be called data leakage, and is baaaad"
      ],
      "metadata": {
        "colab": {
          "base_uri": "https://localhost:8080/"
        },
        "id": "fnk-ArD1l2cC",
        "outputId": "95a4a57d-f478-4505-fc5a-9338d9e99ffa"
      },
      "execution_count": null,
      "outputs": [
        {
          "output_type": "stream",
          "name": "stdout",
          "text": [
            "Elevation\n",
            "'elevation' : (0.0, 3536.0, 896.56946, 842.6096),\n",
            "Wind\n",
            "direction\n",
            "'th' : (0.0, 366.8275451660156, 146.64648, 3435.0676),\n",
            "Wind\n",
            "velocity\n",
            "'vs' : (0.0, 9.736795587539717, 3.6278431, 1.3092144),\n",
            "Min\n",
            "temp\n",
            "'tmmn' : (0.0, 299.6313171386719, 281.85226, 18.49716),\n",
            "Max\n",
            "temp\n",
            "'tmmx' : (0.0, 317.3868713378906, 297.71667, 19.458052),\n",
            "Humidity\n",
            "'sph' : (0.0, 0.019478965550661087, 0.006526322, 0.0037355388),\n",
            "Precip\n",
            "'pr' : (-0.12988853585720062, 19.242182199478265, 0.3234287, 1.5336617),\n",
            "Drought\n",
            "'pdsi' : (-6.055873533248901, 6.743183135986328, -0.7728712, 2.4407184),\n",
            "Vegetation\n",
            "'NDVI' : (-3826.0, 9282.0, 5350.6753, 2185.2192),\n",
            "Population\n",
            "density\n",
            "'population' : (0.0, 2935.7548828125, 30.460266, 214.20052),\n",
            "Energy\n",
            "release\n",
            "component\n",
            "'erc' : (0.0, 109.92542266845703, 53.46917, 25.097977),\n",
            "Previous\n",
            "fire\n",
            "mask\n",
            "'PrevFireMask' : (-1.0, 1.0, -0.002722855, 0.13831188),\n"
          ]
        }
      ]
    },
    {
      "cell_type": "markdown",
      "source": [
        "# Data Counts\n",
        "\n",
        "We want to figure out how much fire vs no fire vs no data we have\n"
      ],
      "metadata": {
        "id": "E1hGTbfaV_XD"
      }
    },
    {
      "cell_type": "code",
      "source": [
        "y, idx, count = tf.unique_with_counts(tf.reshape(inputs[:,:,:,11],[len(inputs)*64*64]))\n",
        "print(y)\n",
        "print(count)"
      ],
      "metadata": {
        "colab": {
          "base_uri": "https://localhost:8080/"
        },
        "id": "gqXLf6WXWAmj",
        "outputId": "5c1282fd-d7bd-47d1-ae6c-adfc4ec08b6f"
      },
      "execution_count": null,
      "outputs": [
        {
          "output_type": "stream",
          "name": "stdout",
          "text": [
            "tf.Tensor([ 0.  1. -1.], shape=(3,), dtype=float32)\n",
            "tf.Tensor([60179816   503555   670613], shape=(3,), dtype=int32)\n"
          ]
        }
      ]
    },
    {
      "cell_type": "code",
      "source": [
        "print(\"No Fire:\", count[0]/sum(count))\n",
        "print(\"Fire:\", count[1]/sum(count))\n",
        "print(\"No Data:\", count[2]/sum(count))"
      ],
      "metadata": {
        "colab": {
          "base_uri": "https://localhost:8080/"
        },
        "id": "8J7g0bIoWApl",
        "outputId": "c41b49c8-8dec-4df6-decd-295e53e801b5"
      },
      "execution_count": null,
      "outputs": [
        {
          "output_type": "stream",
          "name": "stdout",
          "text": [
            "No Fire: tf.Tensor(0.9808624000684292, shape=(), dtype=float64)\n",
            "Fire: tf.Tensor(0.008207372482934442, shape=(), dtype=float64)\n",
            "No Data: tf.Tensor(0.010930227448636424, shape=(), dtype=float64)\n"
          ]
        }
      ]
    },
    {
      "cell_type": "markdown",
      "source": [
        "Compare to next day:"
      ],
      "metadata": {
        "id": "5Bw3MJHVXPvz"
      }
    },
    {
      "cell_type": "code",
      "source": [
        "y_label, idx_label, count_label = tf.unique_with_counts(tf.reshape(labels,[len(labels)*64*64]))\n",
        "print(y_label)\n",
        "print(count_label)"
      ],
      "metadata": {
        "colab": {
          "base_uri": "https://localhost:8080/"
        },
        "id": "1jtvgtouWAtX",
        "outputId": "48cd6428-4de8-4130-eba2-d371e439e658"
      },
      "execution_count": null,
      "outputs": [
        {
          "output_type": "stream",
          "name": "stdout",
          "text": [
            "tf.Tensor([ 0.  1. -1.], shape=(3,), dtype=float32)\n",
            "tf.Tensor([59254803   658270  1440911], shape=(3,), dtype=int32)\n"
          ]
        }
      ]
    },
    {
      "cell_type": "code",
      "source": [
        "print(\"No Fire:\", count_label[0]/sum(count_label))\n",
        "print(\"Fire:\", count_label[1]/sum(count_label))\n",
        "print(\"No Data:\", count_label[2]/sum(count_label))"
      ],
      "metadata": {
        "colab": {
          "base_uri": "https://localhost:8080/"
        },
        "id": "17a6xdtyWAwE",
        "outputId": "2d6d81ec-5c65-41f7-8a3c-3ebc9d80c9bb"
      },
      "execution_count": null,
      "outputs": [
        {
          "output_type": "stream",
          "name": "stdout",
          "text": [
            "No Fire: tf.Tensor(0.9657857426177899, shape=(), dtype=float64)\n",
            "Fire: tf.Tensor(0.010729050618782963, shape=(), dtype=float64)\n",
            "No Data: tf.Tensor(0.023485206763427132, shape=(), dtype=float64)\n"
          ]
        }
      ]
    },
    {
      "cell_type": "markdown",
      "source": [
        "Notably, the amount of fire grows from one day to the next (not surpsising, it's fire)\n",
        "\n",
        "The amount of missing data also grows (probably due to smoke cover)"
      ],
      "metadata": {
        "id": "xzGBlc1NXyp_"
      }
    },
    {
      "cell_type": "code",
      "source": [
        "(count_label - count)/count"
      ],
      "metadata": {
        "colab": {
          "base_uri": "https://localhost:8080/"
        },
        "id": "gib_bdi0YAo0",
        "outputId": "5492b2c1-cb18-4f79-ba5b-27ca8ce98e53"
      },
      "execution_count": null,
      "outputs": [
        {
          "output_type": "execute_result",
          "data": {
            "text/plain": [
              "<tf.Tensor: shape=(3,), dtype=float64, numpy=array([-0.01537082,  0.30724548,  1.14864758])>"
            ]
          },
          "metadata": {},
          "execution_count": 28
        }
      ]
    },
    {
      "cell_type": "markdown",
      "source": [
        "Fire grows by 30+%, missing data more than doubles, regular region shrinks by 1.5%\n",
        "\n",
        "---\n",
        "\n"
      ],
      "metadata": {
        "id": "Mp5hGxROYKw2"
      }
    },
    {
      "cell_type": "markdown",
      "source": [
        "# Establishing a Baseline\n",
        "\n",
        "Based on the numbers above, we can achieve a 96.6% accuracy (94.8% on 32*32 data) by just claiming every pixel is No fire. Obviously, this isn't what we want to do. We're going to calculate precision and recall (and probably AUC).\n",
        "\n",
        "\n",
        "To this end, let's start by setting a baseline of prediction = yesterday's fire."
      ],
      "metadata": {
        "id": "bxIoxQ2dYdha"
      }
    },
    {
      "cell_type": "code",
      "source": [
        "## now we can import the confusion matrix\n",
        "from sklearn.metrics import confusion_matrix"
      ],
      "metadata": {
        "id": "2cBfkEEYZpxl"
      },
      "execution_count": null,
      "outputs": []
    },
    {
      "cell_type": "code",
      "source": [
        "# Baseline = yesterday prediction\n",
        "preds = tf.reshape(inputs[:,:,:,11],[len(inputs)*64*64])\n",
        "\n",
        "# Baseline = No fire at all\n",
        "#preds = tf.zeros(len(inputs)*64*64)\n",
        "\n",
        "# Baseline = The world is burning\n",
        "#preds = tf.ones(len(inputs)*64*64)"
      ],
      "metadata": {
        "id": "WPk_LxXCZiCD"
      },
      "execution_count": null,
      "outputs": []
    },
    {
      "cell_type": "code",
      "source": [
        "## just like mse, actual then prediction\n",
        "cum = confusion_matrix(tf.reshape(labels,[len(inputs)*64*64]), preds)"
      ],
      "metadata": {
        "id": "aELkNXkDZiFC"
      },
      "execution_count": null,
      "outputs": []
    },
    {
      "cell_type": "code",
      "source": [
        "cum"
      ],
      "metadata": {
        "colab": {
          "base_uri": "https://localhost:8080/"
        },
        "id": "nc62X5zYbHMk",
        "outputId": "8d97edb4-8993-4e9e-f5e2-6850cc18fde6"
      },
      "execution_count": null,
      "outputs": [
        {
          "output_type": "execute_result",
          "data": {
            "text/plain": [
              "array([[       0,  1440911,        0],\n",
              "       [       0, 59254803,        0],\n",
              "       [       0,   658270,        0]])"
            ]
          },
          "metadata": {},
          "execution_count": 76
        }
      ]
    },
    {
      "cell_type": "code",
      "source": [
        "## Calculate the confusion matrix here\n",
        "\n",
        "TN = cum[1,1]\n",
        "FP = cum[1,2]\n",
        "FN = cum[2,1]\n",
        "TP = cum[2,2]"
      ],
      "metadata": {
        "id": "Wh0KWrMEZiRT"
      },
      "execution_count": null,
      "outputs": []
    },
    {
      "cell_type": "code",
      "source": [
        "## calculate recall and precision here\n",
        "print(\"The baseline precision is\", \n",
        "         np.round(TP/(FP + TP), 4))\n",
        "\n",
        "print(\"The baseline recall is\", \n",
        "         np.round(TP/(FN + TP), 4))\n",
        "\n",
        "print(\"The baseline accuracy (fire v no fire only) is\", \n",
        "         np.round((TP + TN)/(TN + FN + FP + TP), 4))"
      ],
      "metadata": {
        "colab": {
          "base_uri": "https://localhost:8080/"
        },
        "id": "Xtz0Yre8bTNd",
        "outputId": "5c0172d1-7ceb-458c-b518-e7255e6dbcb5"
      },
      "execution_count": null,
      "outputs": [
        {
          "output_type": "stream",
          "name": "stdout",
          "text": [
            "The baseline precision is nan\n",
            "The baseline recall is 0.0\n",
            "The baseline accuracy (fire v no fire only) is 0.989\n"
          ]
        },
        {
          "output_type": "stream",
          "name": "stderr",
          "text": [
            "/usr/local/lib/python3.7/dist-packages/ipykernel_launcher.py:3: RuntimeWarning: invalid value encountered in long_scalars\n",
            "  This is separate from the ipykernel package so we can avoid doing imports until\n"
          ]
        }
      ]
    },
    {
      "cell_type": "markdown",
      "source": [
        "There's an idea of a 3-way precision/recalls score that I'm not totally on board with.\n",
        "\n",
        "We're not ever *trying* to predict \"no data\" so it shouldn't count as a success when we get it right.\n",
        "\n",
        "We can either assume \"no data\" = no fire, and go from there, or predict just fire vs no fire, and if we don't know, ignore that particular data point (as calculated above)."
      ],
      "metadata": {
        "id": "AKnQ6DQAiyg9"
      }
    },
    {
      "cell_type": "code",
      "source": [
        "from sklearn.metrics import precision_score, recall_score\n",
        "## print the precision and recall here\n",
        "print(\"The training precision is\",\n",
        "         np.round(precision_score(tf.reshape(labels,[len(inputs)*64*64]), preds, average = None),4))\n",
        "\n",
        "print(\"The training recall is\",\n",
        "         np.round(recall_score(tf.reshape(labels,[len(inputs)*64*64]), preds, average = None),4))"
      ],
      "metadata": {
        "colab": {
          "base_uri": "https://localhost:8080/"
        },
        "id": "V-z_4n4DcPJT",
        "outputId": "b8802ec2-8cdc-44cf-870d-87762d1db22b"
      },
      "execution_count": null,
      "outputs": [
        {
          "output_type": "stream",
          "name": "stderr",
          "text": [
            "/usr/local/lib/python3.7/dist-packages/sklearn/metrics/_classification.py:1318: UndefinedMetricWarning: Precision is ill-defined and being set to 0.0 in labels with no predicted samples. Use `zero_division` parameter to control this behavior.\n",
            "  _warn_prf(average, modifier, msg_start, len(result))\n"
          ]
        },
        {
          "output_type": "stream",
          "name": "stdout",
          "text": [
            "The training precision is [0.     0.9658 0.    ]\n",
            "The training recall is [0. 1. 0.]\n"
          ]
        }
      ]
    },
    {
      "cell_type": "markdown",
      "source": [
        "Can I make a table of values?\n",
        "\n",
        "Baselines: \n",
        "\n",
        "1.   Default = yesterday's guess\n",
        "    *   Precision: .3462\n",
        "    *   Recall: 0.2636\n",
        "    *   \"Accuracy\" = 0.9864\n",
        "2.   No Fire\n",
        "    *   Precision: NaN\n",
        "    *   Recall: 0\n",
        "    *   \"Accuracy\" = 0.989\n",
        "3.   All Fire\n",
        "    *   Precision: 0.011\n",
        "    *   Recall: 1.0 WOO!\n",
        "    *   \"Accuracy\" = 0.011\n",
        "\n",
        "\n"
      ],
      "metadata": {
        "id": "nhH2NIloef-J"
      }
    },
    {
      "cell_type": "markdown",
      "source": [
        "# More EDA"
      ],
      "metadata": {
        "id": "mVIfOU9Db1jN"
      }
    },
    {
      "cell_type": "code",
      "source": [
        "n_features = 12\n",
        "# X = tf.reshape(inputs, [len(inputs)*64*64,n_features]).numpy()\n",
        "X = inputs.numpy().reshape([len(inputs)*64*64,n_features])"
      ],
      "metadata": {
        "id": "pm15A9v1u67f"
      },
      "execution_count": 12,
      "outputs": []
    },
    {
      "cell_type": "code",
      "source": [
        "corr = np.corrcoef(X.T)"
      ],
      "metadata": {
        "id": "I72lSZPLEfr8"
      },
      "execution_count": null,
      "outputs": []
    },
    {
      "cell_type": "code",
      "source": [
        "corr #I made this a pretty picture in Sheets"
      ],
      "metadata": {
        "colab": {
          "base_uri": "https://localhost:8080/"
        },
        "id": "XxbG5U-CG5R5",
        "outputId": "755886ac-2dd1-4be2-b99c-2065e0b58ad4"
      },
      "execution_count": null,
      "outputs": [
        {
          "output_type": "execute_result",
          "data": {
            "text/plain": [
              "array([[ 1.00000000e+00,  8.95204117e-03,  4.16158162e-02,\n",
              "        -4.91206846e-02,  3.83518943e-03, -4.53742269e-01,\n",
              "        -9.69577595e-02, -2.14973558e-01, -1.83327236e-01,\n",
              "        -1.10397952e-01,  6.31103648e-01,  1.46194745e-02],\n",
              "       [ 8.95204117e-03,  1.00000000e+00,  5.67104146e-03,\n",
              "        -1.77020466e-03, -4.25939415e-04, -1.63066750e-02,\n",
              "        -1.46111917e-02, -1.91747904e-03, -6.54134915e-03,\n",
              "         9.17179610e-04,  1.01825472e-02,  2.90504675e-03],\n",
              "       [ 4.16158162e-02,  5.67104146e-03,  1.00000000e+00,\n",
              "         5.65282480e-02,  5.48344452e-02, -1.94125222e-01,\n",
              "         3.86950813e-02, -8.02998691e-02, -1.31672077e-01,\n",
              "        -6.56712562e-03,  1.37506083e-03, -2.26329815e-02],\n",
              "       [-4.91206846e-02, -1.77020466e-03,  5.65282480e-02,\n",
              "         1.00000000e+00,  9.84119775e-01,  3.76634443e-01,\n",
              "         4.10925264e-02,  2.40477411e-03,  1.85137600e-01,\n",
              "         2.30260928e-02,  1.75619827e-01,  5.97513381e-02],\n",
              "       [ 3.83518943e-03, -4.25939415e-04,  5.48344452e-02,\n",
              "         9.84119775e-01,  1.00000000e+00,  2.97499087e-01,\n",
              "         1.86528973e-03, -3.01760455e-02,  1.53659813e-01,\n",
              "         8.64997542e-03,  2.50709537e-01,  7.10428689e-02],\n",
              "       [-4.53742269e-01, -1.63066750e-02, -1.94125222e-01,\n",
              "         3.76634443e-01,  2.97499087e-01,  1.00000000e+00,\n",
              "         2.14239014e-01,  2.61088659e-01,  3.67738538e-01,\n",
              "         5.58416752e-02, -4.45119409e-01, -3.73427480e-04],\n",
              "       [-9.69577595e-02, -1.46111917e-02,  3.86950813e-02,\n",
              "         4.10925264e-02,  1.86528973e-03,  2.14239014e-01,\n",
              "         1.00000000e+00,  5.92884611e-02,  7.37254665e-02,\n",
              "         2.40794843e-02, -2.35503712e-01, -7.06877831e-02],\n",
              "       [-2.14973558e-01, -1.91747904e-03, -8.02998691e-02,\n",
              "         2.40477411e-03, -3.01760455e-02,  2.61088659e-01,\n",
              "         5.92884611e-02,  1.00000000e+00,  1.00995561e-01,\n",
              "         3.96172068e-02, -3.62917855e-01, -2.74308458e-02],\n",
              "       [-1.83327236e-01, -6.54134915e-03, -1.31672077e-01,\n",
              "         1.85137600e-01,  1.53659813e-01,  3.67738538e-01,\n",
              "         7.37254665e-02,  1.00995561e-01,  1.00000000e+00,\n",
              "        -2.58859944e-02, -2.46690994e-01,  2.43625392e-02],\n",
              "       [-1.10397952e-01,  9.17179610e-04, -6.56712562e-03,\n",
              "         2.30260928e-02,  8.64997542e-03,  5.58416752e-02,\n",
              "         2.40794843e-02,  3.96172068e-02, -2.58859944e-02,\n",
              "         1.00000000e+00, -6.91308642e-02, -4.55624036e-03],\n",
              "       [ 6.31103648e-01,  1.01825472e-02,  1.37506083e-03,\n",
              "         1.75619827e-01,  2.50709537e-01, -4.45119409e-01,\n",
              "        -2.35503712e-01, -3.62917855e-01, -2.46690994e-01,\n",
              "        -6.91308642e-02,  1.00000000e+00,  9.16713554e-02],\n",
              "       [ 1.46194745e-02,  2.90504675e-03, -2.26329815e-02,\n",
              "         5.97513381e-02,  7.10428689e-02, -3.73427480e-04,\n",
              "        -7.06877831e-02, -2.74308458e-02,  2.43625392e-02,\n",
              "        -4.55624036e-03,  9.16713554e-02,  1.00000000e+00]])"
            ]
          },
          "metadata": {},
          "execution_count": 19
        }
      ]
    },
    {
      "cell_type": "code",
      "source": [
        "y = labels.numpy().reshape([len(labels)*64*64])"
      ],
      "metadata": {
        "id": "y0IOpRPQwgtP"
      },
      "execution_count": 13,
      "outputs": []
    },
    {
      "cell_type": "code",
      "source": [
        "X[:,0].shape"
      ],
      "metadata": {
        "colab": {
          "base_uri": "https://localhost:8080/"
        },
        "id": "oClss3Ezc4Z8",
        "outputId": "5e421077-1bb6-494f-f2d8-3d97b52943f4"
      },
      "execution_count": 16,
      "outputs": [
        {
          "output_type": "execute_result",
          "data": {
            "text/plain": [
              "(61353984,)"
            ]
          },
          "metadata": {},
          "execution_count": 16
        }
      ]
    },
    {
      "cell_type": "code",
      "source": [
        "# correlation of each feature with the output label\n",
        "# Unsurprisingly, previous fire mask has the highest correlation, with ERC also being high, then temperature\n",
        "# Similarly, precipitation is most negatively correlated. Go figure.\n",
        "\n",
        "for i in range(n_features):\n",
        "  print(TITLES[i],\"correlation\")\n",
        "  print(np.corrcoef(X[:,i],y)[0,1])"
      ],
      "metadata": {
        "colab": {
          "base_uri": "https://localhost:8080/"
        },
        "id": "RFxFrTsol_ox",
        "outputId": "5947ba06-89aa-4417-9507-bec3ebff9dfa"
      },
      "execution_count": 18,
      "outputs": [
        {
          "output_type": "stream",
          "name": "stdout",
          "text": [
            "Elevation correlation\n",
            "0.028568062019845446\n",
            "Wind\n",
            "direction correlation\n",
            "0.0003219819269452545\n",
            "Wind\n",
            "velocity correlation\n",
            "-0.021916698304398744\n",
            "Min\n",
            "temp correlation\n",
            "0.062038396070440094\n",
            "Max\n",
            "temp correlation\n",
            "0.0721865397949106\n",
            "Humidity correlation\n",
            "0.017075443623510798\n",
            "Precip correlation\n",
            "-0.10273612830279936\n",
            "Drought correlation\n",
            "-0.042421955357049144\n",
            "Vegetation correlation\n",
            "0.03244042399383913\n",
            "Population\n",
            "density correlation\n",
            "-0.0009890656273104912\n",
            "Energy\n",
            "release\n",
            "component correlation\n",
            "0.1210209095489826\n",
            "Previous\n",
            "fire\n",
            "mask correlation\n",
            "0.18589915512068467\n"
          ]
        }
      ]
    },
    {
      "cell_type": "markdown",
      "source": [
        "TO DO:\n",
        "visualize predictions\n",
        "maybe only predict fire/no fire and avoid missing data predictions (how to do this? How to measure accuracy/error?\n",
        "\n",
        "Correlation coefficients\n",
        "linear regression should theoretically work - give this a shot\n",
        "\n",
        "we need to write up some of this - stakeholders and such"
      ],
      "metadata": {
        "id": "7aXJy8pn7CpD"
      }
    },
    {
      "cell_type": "markdown",
      "source": [
        "#Histograms?"
      ],
      "metadata": {
        "id": "2ycvZI8cPiT3"
      }
    },
    {
      "cell_type": "code",
      "source": [],
      "metadata": {
        "id": "eQ79BIMUPkR3"
      },
      "execution_count": null,
      "outputs": []
    },
    {
      "cell_type": "code",
      "source": [],
      "metadata": {
        "id": "a8Vs9evRPkUX"
      },
      "execution_count": null,
      "outputs": []
    },
    {
      "cell_type": "code",
      "source": [],
      "metadata": {
        "id": "PusCZhFEPkW7"
      },
      "execution_count": null,
      "outputs": []
    },
    {
      "cell_type": "code",
      "source": [],
      "metadata": {
        "id": "QFuQCipbPkZo"
      },
      "execution_count": null,
      "outputs": []
    }
  ],
  "metadata": {
    "colab": {
      "provenance": [],
      "include_colab_link": true
    },
    "kernelspec": {
      "display_name": "Python 3",
      "language": "python",
      "name": "python3"
    },
    "language_info": {
      "codemirror_mode": {
        "name": "ipython",
        "version": 3
      },
      "file_extension": ".py",
      "mimetype": "text/x-python",
      "name": "python",
      "nbconvert_exporter": "python",
      "pygments_lexer": "ipython3",
      "version": "3.6.4"
    },
    "gpuClass": "standard"
  },
  "nbformat": 4,
  "nbformat_minor": 0
}