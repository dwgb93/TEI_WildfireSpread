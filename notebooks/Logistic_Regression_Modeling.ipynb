{
  "cells": [
    {
      "cell_type": "markdown",
      "metadata": {
        "id": "view-in-github",
        "colab_type": "text"
      },
      "source": [
        "<a href=\"https://colab.research.google.com/github/dwgb93/TEI_WildfireSpread/blob/main/notebooks/Logistic_Regression_Modeling.ipynb\" target=\"_parent\"><img src=\"https://colab.research.google.com/assets/colab-badge.svg\" alt=\"Open In Colab\"/></a>"
      ]
    },
    {
      "cell_type": "markdown",
      "source": [
        "#The Erd&#337;s Institute Fall Boot Camp - Team Mahogany\n",
        "\n",
        "We're using data from [this paper](https://arxiv.org/pdf/2112.02447.pdf) to predict where wildfires spread based on 12 features including wind, temperature, humidity, vegetation, and elevation.\n",
        "\n",
        "This is a first code demo from [Google Research](https://github.com/google-research/google-research/tree/master/simulation_research/next_day_wildfire_spread) to visualize the data.\n",
        "\n",
        "Each .tfrecord file consists of 100 64km by 64km grids with 12 features, described below."
      ],
      "metadata": {
        "id": "5xck4tfO6s0t"
      }
    },
    {
      "cell_type": "markdown",
      "metadata": {
        "id": "uPojRlNQPJub"
      },
      "source": [
        "Licensed under the Apache License, Version 2.0\n",
        "# Imports"
      ]
    },
    {
      "cell_type": "markdown",
      "metadata": {
        "id": "oOtnY2y8Om-1"
      },
      "source": [
        "Import the required libraries."
      ]
    },
    {
      "cell_type": "code",
      "execution_count": 3,
      "metadata": {
        "execution": {
          "iopub.execute_input": "2021-12-04T23:21:56.11266Z",
          "iopub.status.busy": "2021-12-04T23:21:56.111768Z",
          "iopub.status.idle": "2021-12-04T23:21:56.119068Z",
          "shell.execute_reply": "2021-12-04T23:21:56.117706Z",
          "shell.execute_reply.started": "2021-12-04T23:21:56.112602Z"
        },
        "id": "1Mf4kbp8yOxd",
        "trusted": true
      },
      "outputs": [],
      "source": [
        "import re\n",
        "from typing import Dict, List, Optional, Text, Tuple\n",
        "import matplotlib.pyplot as plt\n",
        "from matplotlib import colors\n",
        "\n",
        "import tensorflow as tf\n",
        "import numpy as np"
      ]
    },
    {
      "cell_type": "markdown",
      "source": [
        "Note: This links your Google Drive to Colab. Useful if the data is stored in Google Drive."
      ],
      "metadata": {
        "id": "TXAnM2x_7p9z"
      }
    },
    {
      "cell_type": "code",
      "source": [
        "from google.colab import drive\n",
        "drive.mount('/content/drive')"
      ],
      "metadata": {
        "id": "83ySLB31i3n-",
        "colab": {
          "base_uri": "https://localhost:8080/"
        },
        "outputId": "18c21332-7e8d-45bc-b33d-fb5fd1ba6ea2"
      },
      "execution_count": 4,
      "outputs": [
        {
          "output_type": "stream",
          "name": "stdout",
          "text": [
            "Drive already mounted at /content/drive; to attempt to forcibly remount, call drive.mount(\"/content/drive\", force_remount=True).\n"
          ]
        }
      ]
    },
    {
      "cell_type": "markdown",
      "metadata": {
        "id": "aVb2hhOcgVwU"
      },
      "source": [
        "# Common functions (click to expand)"
      ]
    },
    {
      "cell_type": "markdown",
      "metadata": {
        "id": "OabUJMGqO9NE"
      },
      "source": [
        "Run the following three cells to define the required library functions for loading the data."
      ]
    },
    {
      "cell_type": "code",
      "execution_count": 5,
      "metadata": {
        "execution": {
          "iopub.execute_input": "2021-12-04T23:21:58.421589Z",
          "iopub.status.busy": "2021-12-04T23:21:58.421087Z",
          "iopub.status.idle": "2021-12-04T23:21:58.434217Z",
          "shell.execute_reply": "2021-12-04T23:21:58.433505Z",
          "shell.execute_reply.started": "2021-12-04T23:21:58.421551Z"
        },
        "id": "GTTV3tjjCcdn",
        "trusted": true
      },
      "outputs": [],
      "source": [
        "# Constants for the data reader\n",
        "\n",
        "INPUT_FEATURES = ['elevation', 'th', 'vs',  'tmmn', 'tmmx', 'sph',\n",
        "                  'pr', 'pdsi', 'NDVI', 'population', 'erc', 'PrevFireMask']\n",
        "\n",
        "OUTPUT_FEATURES = ['FireMask', ]\n",
        "\n",
        "# Data statistics\n",
        "# For each variable, the statistics are ordered in the form:\n",
        "# (min_clip, max_clip, mean, std)\n",
        "# I recalculated the statistics based on the s\n",
        "DATA_STATS = {\n",
        "    # 0.1 percentile, 99.9 percentile\n",
        "    # Elevation\n",
        "    'elevation' : (0.0, 3536.0, 896.5714, 842.6101),\n",
        "    # Drought index - this claimed to be pressure, but it's Palmer Drought Severity Index\n",
        "    # https://en.wikipedia.org/wiki/Palmer_drought_index\n",
        "    # 0.1 percentile, 99.9 percentile\n",
        "    'pdsi' : (-6.0559, 6.7432, -0.7729, 2.4407),\n",
        "    # Normalized Difference Vegetation Index https://gisgeography.com/ndvi-normalized-difference-vegetation-index/\n",
        "    'NDVI' : (-3826.0, 9282.0, 5350.6865, 2185.2192),\n",
        "    # Precipitation in mm.\n",
        "    # Negative values make no sense, so min is set to 0.\n",
        "    # 0., 99.9 percentile\n",
        "    'pr': (0.0, 19.2422, 0.3234289, 1.5336641),\n",
        "    # Specific humidity ranges from 0 to 100%.\n",
        "    'sph': (0., 1., 0.0065263123, 0.003735537), #max changed to 1\n",
        "    # Wind direction - degrees clockwise from north.\n",
        "    # Thus min set to 0 and max set to 360.\n",
        "    'th' : (0.0, 360.0, 146.6468, 3435.0725),\n",
        "    # Min/max temperature in Kelvin.\n",
        "    # -20 degree C, 99.9 percentile\n",
        "    'tmmn' : (253.15, 299.6313, 281.85196, 18.4972), #min changed\n",
        "    # -20 degree C, 99.9 percentile\n",
        "    'tmmx' : (253.15, 317.3869, 297.71643, 19.4581), #min changed\n",
        "    # Wind speed.\n",
        "    # Negative values do not make sense, given there is a wind direction.\n",
        "    # 0., 99.9 percentile\n",
        "    'vs' : (0.0, 9.7368, 3.6278, 1.3092),\n",
        "    # NFDRS fire danger index energy release component expressed in BTU's per\n",
        "    # square foot.\n",
        "    # Negative values do not make sense. Thus min set to zero.\n",
        "    # 0., 99.9 percentile\n",
        "    'erc' : (0.0, 109.9254, 53.4690, 25.0980),\n",
        "    # Population\n",
        "    # min, 99.9 percentile\n",
        "    'population' : (0.0, 2935.7548828125, 30.4603, 214.20015),\n",
        "    # We don't want to normalize the FireMasks.\n",
        "    'PrevFireMask': (-1., 1., 0., 1.),\n",
        "    'FireMask': (-1., 1., 0., 1.)\n",
        "}"
      ]
    },
    {
      "cell_type": "code",
      "execution_count": 6,
      "metadata": {
        "execution": {
          "iopub.execute_input": "2021-12-04T23:21:58.898032Z",
          "iopub.status.busy": "2021-12-04T23:21:58.897564Z",
          "iopub.status.idle": "2021-12-04T23:21:58.907504Z",
          "shell.execute_reply": "2021-12-04T23:21:58.9067Z",
          "shell.execute_reply.started": "2021-12-04T23:21:58.897995Z"
        },
        "id": "QqGYv21hD-2q",
        "trusted": true
      },
      "outputs": [],
      "source": [
        "\"\"\"Library of common functions used in deep learning neural networks.\n",
        "\"\"\"\n",
        "def random_crop_input_and_output_images(\n",
        "    input_img: tf.Tensor,\n",
        "    output_img: tf.Tensor,\n",
        "    sample_size: int,\n",
        "    num_in_channels: int,\n",
        "    num_out_channels: int,\n",
        ") -> Tuple[tf.Tensor, tf.Tensor]:\n",
        "  \"\"\"Randomly axis-align crop input and output image tensors.\n",
        "\n",
        "  Args:\n",
        "    input_img: Tensor with dimensions HWC.\n",
        "    output_img: Tensor with dimensions HWC.\n",
        "    sample_size: Side length (square) to crop to.\n",
        "    num_in_channels: Number of channels in `input_img`.\n",
        "    num_out_channels: Number of channels in `output_img`.\n",
        "  Returns:\n",
        "    input_img: Tensor with dimensions HWC.\n",
        "    output_img: Tensor with dimensions HWC.\n",
        "  \"\"\"\n",
        "  combined = tf.concat([input_img, output_img], axis=2)\n",
        "  combined = tf.image.random_crop(\n",
        "      combined,\n",
        "      [sample_size, sample_size, num_in_channels + num_out_channels])\n",
        "  input_img = combined[:, :, 0:num_in_channels]\n",
        "  output_img = combined[:, :, -num_out_channels:]\n",
        "  return input_img, output_img\n",
        "\n",
        "\n",
        "def center_crop_input_and_output_images(\n",
        "    input_img: tf.Tensor,\n",
        "    output_img: tf.Tensor,\n",
        "    sample_size: int,\n",
        ") -> Tuple[tf.Tensor, tf.Tensor]:\n",
        "  \"\"\"Calls `tf.image.central_crop` on input and output image tensors.\n",
        "\n",
        "  Args:\n",
        "    input_img: Tensor with dimensions HWC.\n",
        "    output_img: Tensor with dimensions HWC.\n",
        "    sample_size: Side length (square) to crop to.\n",
        "  Returns:\n",
        "    input_img: Tensor with dimensions HWC.\n",
        "    output_img: Tensor with dimensions HWC.\n",
        "  \"\"\"\n",
        "  central_fraction = sample_size / input_img.shape[0]\n",
        "  input_img = tf.image.central_crop(input_img, central_fraction)\n",
        "  output_img = tf.image.central_crop(output_img, central_fraction)\n",
        "  return input_img, output_img"
      ]
    },
    {
      "cell_type": "code",
      "execution_count": 7,
      "metadata": {
        "execution": {
          "iopub.execute_input": "2021-12-04T23:21:59.359837Z",
          "iopub.status.busy": "2021-12-04T23:21:59.359068Z",
          "iopub.status.idle": "2021-12-04T23:21:59.392567Z",
          "shell.execute_reply": "2021-12-04T23:21:59.391623Z",
          "shell.execute_reply.started": "2021-12-04T23:21:59.359778Z"
        },
        "id": "VBvI9FuGEC09",
        "trusted": true
      },
      "outputs": [],
      "source": [
        "\"\"\"Dataset reader for Earth Engine data.\"\"\"\n",
        "\n",
        "def _get_base_key(key: Text) -> Text:\n",
        "  \"\"\"Extracts the base key from the provided key.\n",
        "\n",
        "  Earth Engine exports TFRecords containing each data variable with its\n",
        "  corresponding variable name. In the case of time sequences, the name of the\n",
        "  data variable is of the form 'variable_1', 'variable_2', ..., 'variable_n',\n",
        "  where 'variable' is the name of the variable, and n the number of elements\n",
        "  in the time sequence. Extracting the base key ensures that each step of the\n",
        "  time sequence goes through the same normalization steps.\n",
        "  The base key obeys the following naming pattern: '[a-zA-Z]+'\n",
        "  For instance, for an input key 'variable_1', this function returns 'variable'.\n",
        "  For an input key 'variable', this function simply returns 'variable'.\n",
        "\n",
        "  Args:\n",
        "    key: Input key.\n",
        "\n",
        "  Returns:\n",
        "    The corresponding base key.\n",
        "\n",
        "  Raises:\n",
        "    ValueError when `key` does not match the expected pattern.\n",
        "  \"\"\"\n",
        "  match = re.match(r'[a-zA-Z]+', key)\n",
        "  if match:\n",
        "    return match.group(1)\n",
        "  raise ValueError('The provided key does not match the expected pattern: {key}')\n",
        "\n",
        "\n",
        "def _clip_and_rescale(inputs: tf.Tensor, key: Text) -> tf.Tensor:\n",
        "  \"\"\"Clips and rescales inputs with the stats corresponding to `key`.\n",
        "\n",
        "  Args:\n",
        "    inputs: Inputs to clip and rescale.\n",
        "    key: Key describing the inputs.\n",
        "\n",
        "  Returns:\n",
        "    Clipped and rescaled input.\n",
        "\n",
        "  Raises:\n",
        "    ValueError if there are no data statistics available for `key`.\n",
        "  \"\"\"\n",
        "  base_key = _get_base_key(key)\n",
        "  if base_key not in DATA_STATS:\n",
        "    raise ValueError(\n",
        "        'No data statistics available for the requested key: {}.'.format(key))\n",
        "  min_val, max_val, _, _ = DATA_STATS[base_key]\n",
        "  inputs = tf.clip_by_value(inputs, min_val, max_val)\n",
        "  return tf.math.divide_no_nan((inputs - min_val), (max_val - min_val))\n",
        "\n",
        "\n",
        "def _clip_and_normalize(inputs: tf.Tensor, key: Text) -> tf.Tensor:\n",
        "  \"\"\"Clips and normalizes inputs with the stats corresponding to `key`.\n",
        "\n",
        "  Args:\n",
        "    inputs: Inputs to clip and normalize.\n",
        "    key: Key describing the inputs.\n",
        "\n",
        "  Returns:\n",
        "    Clipped and normalized input.\n",
        "\n",
        "  Raises:\n",
        "    ValueError if there are no data statistics available for `key`.\n",
        "  \"\"\"\n",
        "  base_key = _get_base_key(key)\n",
        "  if base_key not in DATA_STATS:\n",
        "    raise ValueError(\n",
        "        'No data statistics available for the requested key: {}.'.format(key))\n",
        "  min_val, max_val, mean, std = DATA_STATS[base_key]\n",
        "  inputs = tf.clip_by_value(inputs, min_val, max_val)\n",
        "  inputs = inputs - mean\n",
        "  return tf.math.divide_no_nan(inputs, std)\n",
        "\n",
        "def _get_features_dict(\n",
        "    sample_size: int,\n",
        "    features: List[Text],\n",
        ") -> Dict[Text, tf.io.FixedLenFeature]:\n",
        "  \"\"\"Creates a features dictionary for TensorFlow IO.\n",
        "\n",
        "  Args:\n",
        "    sample_size: Size of the input tiles (square).\n",
        "    features: List of feature names.\n",
        "\n",
        "  Returns:\n",
        "    A features dictionary for TensorFlow IO.\n",
        "  \"\"\"\n",
        "  sample_shape = [sample_size, sample_size]\n",
        "  features = set(features)\n",
        "  columns = [\n",
        "      tf.io.FixedLenFeature(shape=sample_shape, dtype=tf.float32)\n",
        "      for _ in features\n",
        "  ]\n",
        "  return dict(zip(features, columns))\n",
        "\n",
        "\n",
        "def _parse_fn(\n",
        "    example_proto: tf.train.Example, data_size: int, sample_size: int,\n",
        "    num_in_channels: int, clip_and_normalize: bool,\n",
        "    clip_and_rescale: bool, random_crop: bool, center_crop: bool,\n",
        ") -> Tuple[tf.Tensor, tf.Tensor]:\n",
        "  \"\"\"Reads a serialized example.\n",
        "\n",
        "  Args:\n",
        "    example_proto: A TensorFlow example protobuf.\n",
        "    data_size: Size of tiles (square) as read from input files.\n",
        "    sample_size: Size the tiles (square) when input into the model.\n",
        "    num_in_channels: Number of input channels.\n",
        "    clip_and_normalize: True if the data should be clipped and normalized.\n",
        "    clip_and_rescale: True if the data should be clipped and rescaled.\n",
        "    random_crop: True if the data should be randomly cropped.\n",
        "    center_crop: True if the data should be cropped in the center.\n",
        "\n",
        "  Returns:\n",
        "    (input_img, output_img) tuple of inputs and outputs to the ML model.\n",
        "  \"\"\"\n",
        "  if (random_crop and center_crop):\n",
        "    raise ValueError('Cannot have both random_crop and center_crop be True')\n",
        "  input_features, output_features = INPUT_FEATURES, OUTPUT_FEATURES\n",
        "  feature_names = input_features + output_features\n",
        "  features_dict = _get_features_dict(data_size, feature_names)\n",
        "  features = tf.io.parse_single_example(example_proto, features_dict)\n",
        "\n",
        "  if clip_and_normalize:\n",
        "    inputs_list = [\n",
        "        _clip_and_normalize(features.get(key), key) for key in input_features\n",
        "    ]\n",
        "  elif clip_and_rescale:\n",
        "    inputs_list = [\n",
        "        _clip_and_rescale(features.get(key), key) for key in input_features\n",
        "    ]\n",
        "  else:\n",
        "    inputs_list = [features.get(key) for key in input_features]\n",
        "\n",
        "  inputs_stacked = tf.stack(inputs_list, axis=0)\n",
        "  input_img = tf.transpose(inputs_stacked, [1, 2, 0])\n",
        "\n",
        "  outputs_list = [features.get(key) for key in output_features]\n",
        "  assert outputs_list, 'outputs_list should not be empty'\n",
        "  outputs_stacked = tf.stack(outputs_list, axis=0)\n",
        "\n",
        "  outputs_stacked_shape = outputs_stacked.get_shape().as_list()\n",
        "  assert len(outputs_stacked.shape) == 3, ('outputs_stacked should be rank 3'\n",
        "                                            'but dimensions of outputs_stacked'\n",
        "                                            f' are {outputs_stacked_shape}')\n",
        "  output_img = tf.transpose(outputs_stacked, [1, 2, 0])\n",
        "\n",
        "  if random_crop:\n",
        "    input_img, output_img = random_crop_input_and_output_images(\n",
        "        input_img, output_img, sample_size, num_in_channels, 1)\n",
        "  if center_crop:\n",
        "    input_img, output_img = center_crop_input_and_output_images(\n",
        "        input_img, output_img, sample_size)\n",
        "  return input_img, output_img\n",
        "\n",
        "\n",
        "def get_dataset(file_pattern: Text, data_size: int, sample_size: int,\n",
        "                batch_size: int, num_in_channels: int, compression_type: Text,\n",
        "                clip_and_normalize: bool, clip_and_rescale: bool,\n",
        "                random_crop: bool, center_crop: bool) -> tf.data.Dataset:\n",
        "  \"\"\"Gets the dataset from the file pattern.\n",
        "\n",
        "  Args:\n",
        "    file_pattern: Input file pattern.\n",
        "    data_size: Size of tiles (square) as read from input files.\n",
        "    sample_size: Size the tiles (square) when input into the model.\n",
        "    batch_size: Batch size.\n",
        "    num_in_channels: Number of input channels.\n",
        "    compression_type: Type of compression used for the input files.\n",
        "    clip_and_normalize: True if the data should be clipped and normalized, False\n",
        "      otherwise.\n",
        "    clip_and_rescale: True if the data should be clipped and rescaled, False\n",
        "      otherwise.\n",
        "    random_crop: True if the data should be randomly cropped.\n",
        "    center_crop: True if the data shoulde be cropped in the center.\n",
        "\n",
        "  Returns:\n",
        "    A TensorFlow dataset loaded from the input file pattern, with features\n",
        "    described in the constants, and with the shapes determined from the input\n",
        "    parameters to this function.\n",
        "  \"\"\"\n",
        "  if (clip_and_normalize and clip_and_rescale):\n",
        "    raise ValueError('Cannot have both normalize and rescale.')\n",
        "  dataset = tf.data.Dataset.list_files(file_pattern)\n",
        "  dataset = dataset.interleave(\n",
        "      lambda x: tf.data.TFRecordDataset(x, compression_type=compression_type),\n",
        "      num_parallel_calls=tf.data.experimental.AUTOTUNE)\n",
        "  dataset = dataset.prefetch(buffer_size=tf.data.experimental.AUTOTUNE)\n",
        "  dataset = dataset.map(\n",
        "      lambda x: _parse_fn(  # pylint: disable=g-long-lambda\n",
        "          x, data_size, sample_size, num_in_channels, clip_and_normalize,\n",
        "          clip_and_rescale, random_crop, center_crop),\n",
        "      num_parallel_calls=tf.data.experimental.AUTOTUNE)\n",
        "  dataset = dataset.batch(batch_size)\n",
        "  dataset = dataset.prefetch(buffer_size=tf.data.experimental.AUTOTUNE)\n",
        "  return dataset"
      ]
    },
    {
      "cell_type": "markdown",
      "metadata": {
        "id": "rdNDytnsPTVK"
      },
      "source": [
        "# Load the dataset."
      ]
    },
    {
      "cell_type": "markdown",
      "metadata": {
        "id": "awWJ00JeOyuO"
      },
      "source": [
        "Enter the file pattern of the dataset."
      ]
    },
    {
      "cell_type": "code",
      "execution_count": 8,
      "metadata": {
        "execution": {
          "iopub.execute_input": "2021-12-04T23:21:57.461966Z",
          "iopub.status.busy": "2021-12-04T23:21:57.461167Z",
          "iopub.status.idle": "2021-12-04T23:21:57.466727Z",
          "shell.execute_reply": "2021-12-04T23:21:57.465849Z",
          "shell.execute_reply.started": "2021-12-04T23:21:57.461917Z"
        },
        "id": "fhHMUbBoOg0k",
        "trusted": true
      },
      "outputs": [],
      "source": [
        "file_pattern = '/content/drive/MyDrive/Colab Notebooks/Erdos Institute Boot Camp/Final Project - Mahogany/Data/next_day_wildfire_spread_train*'\n",
        "#Location within MY GDrive. Might not be the same for you. I don't know if you can link to my drive this way..."
      ]
    },
    {
      "cell_type": "code",
      "execution_count": 9,
      "metadata": {
        "execution": {
          "iopub.execute_input": "2021-12-04T23:22:00.260248Z",
          "iopub.status.busy": "2021-12-04T23:22:00.25974Z",
          "iopub.status.idle": "2021-12-04T23:22:00.852967Z",
          "shell.execute_reply": "2021-12-04T23:22:00.851977Z",
          "shell.execute_reply.started": "2021-12-04T23:22:00.260208Z"
        },
        "id": "X1jBBEinQbM0",
        "trusted": true
      },
      "outputs": [],
      "source": [
        "dataset = get_dataset(\n",
        "      file_pattern,\n",
        "      data_size=64,\n",
        "      sample_size=32,\n",
        "      batch_size=14979,\n",
        "      num_in_channels=12,\n",
        "      compression_type=None,\n",
        "      clip_and_normalize=False,\n",
        "      clip_and_rescale=False,\n",
        "      random_crop=False,\n",
        "      center_crop=True)"
      ]
    },
    {
      "cell_type": "markdown",
      "metadata": {
        "id": "Ca8USco0PdG3"
      },
      "source": [
        "TF Datasets are loaded lazily, so materialize the first batch of inputs and labels."
      ]
    },
    {
      "cell_type": "code",
      "execution_count": 10,
      "metadata": {
        "execution": {
          "iopub.execute_input": "2021-12-04T23:22:01.317784Z",
          "iopub.status.busy": "2021-12-04T23:22:01.317477Z",
          "iopub.status.idle": "2021-12-04T23:22:01.591395Z",
          "shell.execute_reply": "2021-12-04T23:22:01.590278Z",
          "shell.execute_reply.started": "2021-12-04T23:22:01.317751Z"
        },
        "id": "Ml7Rg8aCQiTT",
        "trusted": true
      },
      "outputs": [],
      "source": [
        "inputs, labels = next(iter(dataset))"
      ]
    },
    {
      "cell_type": "code",
      "source": [
        "inputs.shape"
      ],
      "metadata": {
        "id": "KbYRYytBjsSE",
        "colab": {
          "base_uri": "https://localhost:8080/"
        },
        "outputId": "9f95ef13-e7eb-4cd7-f25d-5265dde12068"
      },
      "execution_count": null,
      "outputs": [
        {
          "output_type": "execute_result",
          "data": {
            "text/plain": [
              "TensorShape([14979, 32, 32, 12])"
            ]
          },
          "metadata": {},
          "execution_count": 10
        }
      ]
    },
    {
      "cell_type": "code",
      "source": [
        "labels.shape"
      ],
      "metadata": {
        "id": "1PO3SOTOjkYl",
        "colab": {
          "base_uri": "https://localhost:8080/"
        },
        "outputId": "3ad7006f-1e58-4d96-9fba-315842f63680"
      },
      "execution_count": null,
      "outputs": [
        {
          "output_type": "execute_result",
          "data": {
            "text/plain": [
              "TensorShape([14979, 32, 32, 1])"
            ]
          },
          "metadata": {},
          "execution_count": 11
        }
      ]
    },
    {
      "cell_type": "markdown",
      "source": [
        "#Logistic Regression\n"
      ],
      "metadata": {
        "id": "J1qgH3TWKPBO"
      }
    },
    {
      "cell_type": "code",
      "source": [
        "## import LogisticRegression\n",
        "from sklearn.linear_model import LogisticRegression"
      ],
      "metadata": {
        "id": "DKU_gxWMK2g0"
      },
      "execution_count": 11,
      "outputs": []
    },
    {
      "cell_type": "code",
      "source": [
        "X = tf.reshape(inputs, [len(inputs)*32*32,12]).numpy()\n",
        "y = tf.reshape(labels, [len(labels)*32*32]).numpy()"
      ],
      "metadata": {
        "id": "ThMlFDi9KRR5"
      },
      "execution_count": 12,
      "outputs": []
    },
    {
      "cell_type": "code",
      "source": [
        "X.shape"
      ],
      "metadata": {
        "colab": {
          "base_uri": "https://localhost:8080/"
        },
        "id": "ONgo-_O3KRUJ",
        "outputId": "dc84e53b-c9ab-48da-800a-50bd8dddb95b"
      },
      "execution_count": 72,
      "outputs": [
        {
          "output_type": "execute_result",
          "data": {
            "text/plain": [
              "(2, 7)"
            ]
          },
          "metadata": {},
          "execution_count": 72
        }
      ]
    },
    {
      "cell_type": "code",
      "source": [
        "y.shape"
      ],
      "metadata": {
        "id": "fLJnvPMyKRWx"
      },
      "execution_count": 69,
      "outputs": []
    },
    {
      "cell_type": "code",
      "source": [
        "log_reg = LogisticRegression(penalty = 'none')\n",
        "\n",
        "log_reg.fit(X,y)"
      ],
      "metadata": {
        "colab": {
          "base_uri": "https://localhost:8080/"
        },
        "id": "LN24jNfsK2i_",
        "outputId": "dc8874e0-8a39-4562-9017-8051f9222526"
      },
      "execution_count": 13,
      "outputs": [
        {
          "output_type": "stream",
          "name": "stderr",
          "text": [
            "/usr/local/lib/python3.7/dist-packages/sklearn/linear_model/_logistic.py:818: ConvergenceWarning: lbfgs failed to converge (status=1):\n",
            "STOP: TOTAL NO. of ITERATIONS REACHED LIMIT.\n",
            "\n",
            "Increase the number of iterations (max_iter) or scale the data as shown in:\n",
            "    https://scikit-learn.org/stable/modules/preprocessing.html\n",
            "Please also refer to the documentation for alternative solver options:\n",
            "    https://scikit-learn.org/stable/modules/linear_model.html#logistic-regression\n",
            "  extra_warning_msg=_LOGISTIC_SOLVER_CONVERGENCE_MSG,\n"
          ]
        },
        {
          "output_type": "execute_result",
          "data": {
            "text/plain": [
              "LogisticRegression(penalty='none')"
            ]
          },
          "metadata": {},
          "execution_count": 13
        }
      ]
    },
    {
      "cell_type": "code",
      "source": [
        "#Remove the [-1] No Data class -> rescale the remaining points.\n",
        "y_probs = log_reg.predict_proba(X)[:,1:]\n",
        "y_pred = (y_probs/np.reshape(np.sum(y_probs, axis = 1), (-1,1)))[:,1] #scaling so it sums to 1"
      ],
      "metadata": {
        "id": "PWs9HMhA6XHP"
      },
      "execution_count": 14,
      "outputs": []
    },
    {
      "cell_type": "code",
      "source": [
        "pred = np.reshape(y_pred, (len(inputs),32,32))\n",
        "pred[:50]"
      ],
      "metadata": {
        "id": "fMGb66OeK2qi",
        "colab": {
          "base_uri": "https://localhost:8080/"
        },
        "outputId": "70403b87-5a2d-450b-d5e5-3a8e0a41b779"
      },
      "execution_count": 25,
      "outputs": [
        {
          "output_type": "execute_result",
          "data": {
            "text/plain": [
              "array([[[4.61298634e-02, 4.73902994e-02, 4.73672991e-02, ...,\n",
              "         5.07088045e-02, 4.75545445e-02, 4.28557579e-02],\n",
              "        [4.74808662e-02, 4.75190984e-02, 4.75042473e-02, ...,\n",
              "         4.88303901e-02, 4.88797408e-02, 4.94134002e-02],\n",
              "        [4.78462058e-02, 4.76280922e-02, 4.73523045e-02, ...,\n",
              "         4.33788604e-02, 4.50341540e-02, 4.98747662e-02],\n",
              "        ...,\n",
              "        [4.87995135e-02, 4.81291301e-02, 4.71097024e-02, ...,\n",
              "         5.47265918e-02, 5.64472380e-02, 5.66128838e-02],\n",
              "        [4.76538605e-02, 4.62362141e-02, 4.77098152e-02, ...,\n",
              "         5.53871209e-02, 5.62758698e-02, 5.55571856e-02],\n",
              "        [4.73778329e-02, 4.57999087e-02, 4.64192051e-02, ...,\n",
              "         5.63506028e-02, 5.68658916e-02, 5.64579906e-02]],\n",
              "\n",
              "       [[5.63343483e-02, 5.79716943e-02, 5.80725159e-02, ...,\n",
              "         5.30643981e-02, 5.32809097e-02, 5.33713543e-02],\n",
              "        [5.52268783e-02, 5.63508098e-02, 5.71393704e-02, ...,\n",
              "         5.25462425e-02, 5.28860787e-02, 5.36138246e-02],\n",
              "        [5.53225497e-02, 5.56991285e-02, 5.65454158e-02, ...,\n",
              "         5.31712191e-02, 5.33565752e-02, 5.32079983e-02],\n",
              "        ...,\n",
              "        [4.67326425e-02, 4.75102587e-02, 4.86090382e-02, ...,\n",
              "         4.86293822e-02, 4.81848522e-02, 4.85273941e-02],\n",
              "        [4.96857382e-02, 5.17577939e-02, 5.30079421e-02, ...,\n",
              "         4.83330433e-02, 4.77886081e-02, 4.82246467e-02],\n",
              "        [5.30843265e-02, 5.44177693e-02, 5.47496298e-02, ...,\n",
              "         4.85100717e-02, 4.80569054e-02, 4.79876919e-02]],\n",
              "\n",
              "       [[8.08403788e-02, 8.12947633e-02, 8.11751693e-02, ...,\n",
              "         7.63242331e-02, 7.62543526e-02, 7.58482420e-02],\n",
              "        [7.94948389e-02, 7.88478041e-02, 7.96296263e-02, ...,\n",
              "         7.71641653e-02, 7.63231818e-02, 7.54695228e-02],\n",
              "        [7.92304773e-02, 7.69831751e-02, 7.63970946e-02, ...,\n",
              "         7.65946585e-02, 7.69546113e-02, 7.69804890e-02],\n",
              "        ...,\n",
              "        [6.83245804e-02, 6.76489700e-02, 7.12820116e-02, ...,\n",
              "         7.20523544e-02, 7.14600201e-02, 7.18769232e-02],\n",
              "        [6.71536987e-02, 6.94654558e-02, 7.28292774e-02, ...,\n",
              "         7.01546966e-02, 6.97657112e-02, 7.00641822e-02],\n",
              "        [6.69686884e-02, 6.76136282e-02, 7.08926675e-02, ...,\n",
              "         7.00485265e-02, 6.98115753e-02, 6.93404331e-02]],\n",
              "\n",
              "       ...,\n",
              "\n",
              "       [[6.74619771e-06, 6.17211334e-03, 2.34996830e-02, ...,\n",
              "         3.95825731e-02, 3.86390236e-02, 3.88101250e-02],\n",
              "        [2.96050889e-02, 2.98916190e-02, 3.23408147e-02, ...,\n",
              "         3.94088129e-02, 3.89466268e-02, 3.87405531e-02],\n",
              "        [3.47639923e-02, 3.42343271e-02, 3.60923946e-02, ...,\n",
              "         3.88998821e-02, 3.84698170e-02, 3.86205207e-02],\n",
              "        ...,\n",
              "        [3.66615920e-02, 3.71160687e-02, 3.73407773e-02, ...,\n",
              "         3.91663717e-02, 3.90635668e-02, 3.97220060e-02],\n",
              "        [3.65612360e-02, 3.65149468e-02, 3.63713465e-02, ...,\n",
              "         3.77041082e-02, 3.83712788e-02, 3.77534848e-02],\n",
              "        [3.69963610e-02, 3.68792524e-02, 3.74398562e-02, ...,\n",
              "         3.73228416e-02, 3.83629204e-02, 3.98147344e-02]],\n",
              "\n",
              "       [[1.03804436e-02, 1.21220761e-02, 1.19781734e-02, ...,\n",
              "         1.73027142e-02, 1.73916987e-02, 1.76037344e-02],\n",
              "        [2.68244365e-03, 1.01555322e-02, 1.04736482e-02, ...,\n",
              "         1.73102099e-02, 1.72509619e-02, 1.74338993e-02],\n",
              "        [2.67815504e-04, 9.43892382e-03, 1.00743665e-02, ...,\n",
              "         1.76039853e-02, 1.73964314e-02, 1.77260622e-02],\n",
              "        ...,\n",
              "        [1.75034814e-02, 1.71879330e-02, 1.63523942e-02, ...,\n",
              "         1.70844932e-02, 1.62028888e-02, 1.61177264e-02],\n",
              "        [1.70591576e-02, 1.67129042e-02, 1.60289514e-02, ...,\n",
              "         1.69173244e-02, 1.60545374e-02, 1.58436337e-02],\n",
              "        [1.72870114e-02, 1.72478801e-02, 1.62399148e-02, ...,\n",
              "         1.76982211e-02, 1.64253093e-02, 1.65728077e-02]],\n",
              "\n",
              "       [[5.94630092e-02, 5.98928992e-02, 6.22251439e-02, ...,\n",
              "         5.07942376e-02, 5.55002763e-02, 5.65910048e-02],\n",
              "        [6.11486205e-02, 6.11420286e-02, 5.93517707e-02, ...,\n",
              "         5.57919181e-02, 5.62132137e-02, 5.51684513e-02],\n",
              "        [5.71823928e-02, 5.87795199e-02, 6.06719727e-02, ...,\n",
              "         5.52868828e-02, 5.63000420e-02, 5.42042515e-02],\n",
              "        ...,\n",
              "        [5.20030438e-02, 5.25984763e-02, 5.28675529e-02, ...,\n",
              "         4.63248415e-02, 4.71094851e-02, 4.59135795e-02],\n",
              "        [5.14020706e-02, 5.09929440e-02, 5.16950575e-02, ...,\n",
              "         4.40198541e-02, 4.43532769e-02, 4.36397945e-02],\n",
              "        [4.81596699e-02, 5.08750385e-02, 5.18277223e-02, ...,\n",
              "         4.48838170e-02, 4.61378776e-02, 4.46290363e-02]]])"
            ]
          },
          "metadata": {},
          "execution_count": 25
        }
      ]
    },
    {
      "cell_type": "code",
      "source": [
        "y_pred"
      ],
      "metadata": {
        "colab": {
          "base_uri": "https://localhost:8080/"
        },
        "id": "yDY4YwBN-tuT",
        "outputId": "8f461ea7-6fb7-4939-d620-ea27c55fe306"
      },
      "execution_count": 24,
      "outputs": [
        {
          "output_type": "execute_result",
          "data": {
            "text/plain": [
              "array([0.04612986, 0.0473903 , 0.0473673 , ..., 0.01045361, 0.01038987,\n",
              "       0.01034818])"
            ]
          },
          "metadata": {},
          "execution_count": 24
        }
      ]
    },
    {
      "cell_type": "code",
      "source": [
        "plt.imshow(pred[0], cmap='plasma', norm=NORM) "
      ],
      "metadata": {
        "colab": {
          "base_uri": "https://localhost:8080/",
          "height": 283
        },
        "id": "TfTUT4UWMLVS",
        "outputId": "936a86f1-af1f-46a8-a9e9-43680879173d"
      },
      "execution_count": 27,
      "outputs": [
        {
          "output_type": "execute_result",
          "data": {
            "text/plain": [
              "<matplotlib.image.AxesImage at 0x7f19a63dcf10>"
            ]
          },
          "metadata": {},
          "execution_count": 27
        },
        {
          "output_type": "display_data",
          "data": {
            "text/plain": [
              "<Figure size 432x288 with 1 Axes>"
            ],
            "image/png": "[encoded data removed]"
          },
          "metadata": {
            "needs_background": "light"
          }
        }
      ]
    },
    {
      "cell_type": "code",
      "source": [
        "fig = plt.figure(figsize=(6,120))\n",
        "n_rows = 100\n",
        "\n",
        "for i in range(n_rows):\n",
        "  plt.subplot(n_rows,2, 2*i + 1)\n",
        "  if i == 0:\n",
        "    plt.title(i, fontsize=13)\n",
        "  plt.imshow(pred[i], cmap=CMAP, norm=NORM) \n",
        "  plt.axis('off')\n",
        "  plt.subplot(n_rows,2, 2*i + 2)\n",
        "  if i == 0:\n",
        "    plt.title(\"Actual fire\", fontsize=13)\n",
        "  plt.imshow(labels[i, :, :, 0], cmap=CMAP, norm=NORM)\n",
        "  plt.axis('off')\n",
        "plt.tight_layout()"
      ],
      "metadata": {
        "colab": {
          "base_uri": "https://localhost:8080/",
          "height": 1000
        },
        "id": "63MC_lvOMLYM",
        "outputId": "b20a4638-893c-4579-a05d-6624d3fccaab"
      },
      "execution_count": 20,
      "outputs": [
        {
          "output_type": "display_data",
          "data": {
            "text/plain": [
              "<Figure size 432x8640 with 200 Axes>"
            ],
            "image/png": "[encoded data removed]"
          },
          "metadata": {
            "needs_background": "light"
          }
        }
      ]
    },
    {
      "cell_type": "code",
      "source": [
        "y_probs.shape"
      ],
      "metadata": {
        "colab": {
          "base_uri": "https://localhost:8080/"
        },
        "id": "UKSVSumQUx4b",
        "outputId": "827ca201-3721-408f-a5a3-187dda929ef0"
      },
      "execution_count": null,
      "outputs": [
        {
          "output_type": "execute_result",
          "data": {
            "text/plain": [
              "(15338496,)"
            ]
          },
          "metadata": {},
          "execution_count": 64
        }
      ]
    },
    {
      "cell_type": "code",
      "source": [
        "## now we can import the confusion matrix\n",
        "from sklearn.metrics import confusion_matrix"
      ],
      "metadata": {
        "id": "C5dL55Sbk2I8"
      },
      "execution_count": 12,
      "outputs": []
    },
    {
      "cell_type": "code",
      "source": [
        "#y_pred = tf.math.sigmoid(log_reg.predict_proba(X)[:,1])\n",
        "mask = tf.cast(tf.not_equal(y, -1), tf.float32)"
      ],
      "metadata": {
        "id": "ASUI0ab6liMY"
      },
      "execution_count": 35,
      "outputs": []
    },
    {
      "cell_type": "code",
      "source": [
        "y_count, idx, count = tf.unique_with_counts(y)\n",
        "print(y_count)\n",
        "print(count)"
      ],
      "metadata": {
        "colab": {
          "base_uri": "https://localhost:8080/"
        },
        "id": "z2wTa_7jliRL",
        "outputId": "77988226-434a-4ad2-c4d5-83ac216e9a91"
      },
      "execution_count": 27,
      "outputs": [
        {
          "output_type": "stream",
          "name": "stdout",
          "text": [
            "tf.Tensor([ 0.  1. -1.], shape=(3,), dtype=float32)\n",
            "tf.Tensor([14539215   478293   320988], shape=(3,), dtype=int32)\n"
          ]
        }
      ]
    },
    {
      "cell_type": "code",
      "source": [
        "y_count, idx, count = tf.unique_with_counts(mask)\n",
        "print(y_count)\n",
        "print(count)"
      ],
      "metadata": {
        "colab": {
          "base_uri": "https://localhost:8080/"
        },
        "id": "JSOUtSwdigbx",
        "outputId": "305452f0-9f44-4ba5-baaf-2ef109ce1fc8"
      },
      "execution_count": 28,
      "outputs": [
        {
          "output_type": "stream",
          "name": "stdout",
          "text": [
            "tf.Tensor([1. 0.], shape=(2,), dtype=float32)\n",
            "tf.Tensor([15017508   320988], shape=(2,), dtype=int32)\n"
          ]
        }
      ]
    },
    {
      "cell_type": "code",
      "source": [
        " ## Now plot how the accuracy (sensitivity/specificity) changes with the cutoff\n",
        "cutoffs = np.arange(0.001,.101,.001)\n",
        "accs = []\n",
        "\n",
        "for cutoff in cutoffs:\n",
        "    y_train_pred = 1*(y_pred >= cutoff)\n",
        "    accs.append(np.sum(y_train_pred == tf.reshape(y,[15338496]))/len(y))"
      ],
      "metadata": {
        "id": "p-_phSHKT_8E"
      },
      "execution_count": 68,
      "outputs": []
    },
    {
      "cell_type": "code",
      "source": [
        "plt.figure(figsize=(12,8))\n",
        "\n",
        "plt.scatter(cutoffs,accs)\n",
        "\n",
        "plt.xlabel(\"Cutoff\",fontsize=16)\n",
        "plt.ylabel(\"Training Accuracy\",fontsize=16)\n",
        "\n",
        "plt.show()"
      ],
      "metadata": {
        "colab": {
          "base_uri": "https://localhost:8080/",
          "height": 502
        },
        "id": "4AHxi1jOT_-7",
        "outputId": "1f30d46d-e013-4847-9b65-35db253b612d"
      },
      "execution_count": 69,
      "outputs": [
        {
          "output_type": "display_data",
          "data": {
            "text/plain": [
              "<Figure size 864x576 with 1 Axes>"
            ],
            "image/png": "[encoded data removed]"
          },
          "metadata": {
            "needs_background": "light"
          }
        }
      ]
    },
    {
      "cell_type": "code",
      "source": [
        "accs[:50]"
      ],
      "metadata": {
        "colab": {
          "base_uri": "https://localhost:8080/"
        },
        "id": "O2f848L2UAA8",
        "outputId": "18a29e0f-400f-49cf-cd44-a9df99014479"
      },
      "execution_count": 30,
      "outputs": [
        {
          "output_type": "execute_result",
          "data": {
            "text/plain": [
              "[0.03118252271930703,\n",
              " 0.03118252271930703,\n",
              " 0.03118252271930703,\n",
              " 0.03118252271930703,\n",
              " 0.03118252271930703,\n",
              " 0.03118252271930703,\n",
              " 0.03118252271930703,\n",
              " 0.03118252271930703,\n",
              " 0.03118252271930703,\n",
              " 0.03118252271930703,\n",
              " 0.03118252271930703,\n",
              " 0.03118252271930703,\n",
              " 0.03118252271930703,\n",
              " 0.03118252271930703,\n",
              " 0.03118252271930703,\n",
              " 0.03118252271930703,\n",
              " 0.03118252271930703,\n",
              " 0.03118252271930703,\n",
              " 0.031182587914747314,\n",
              " 0.031182587914747314,\n",
              " 0.031182587914747314,\n",
              " 0.031182587914747314,\n",
              " 0.031182587914747314,\n",
              " 0.031182587914747314,\n",
              " 0.031182587914747314,\n",
              " 0.031182587914747314,\n",
              " 0.031182587914747314,\n",
              " 0.031182587914747314,\n",
              " 0.031182587914747314,\n",
              " 0.031182587914747314,\n",
              " 0.031182587914747314,\n",
              " 0.031182587914747314,\n",
              " 0.031182587914747314,\n",
              " 0.031182587914747314,\n",
              " 0.031182587914747314,\n",
              " 0.031182587914747314,\n",
              " 0.031182587914747314,\n",
              " 0.031182653110187596,\n",
              " 0.031183565846351558,\n",
              " 0.031183891823552974,\n",
              " 0.031185847686761466,\n",
              " 0.03118786874541024,\n",
              " 0.031188846677014485,\n",
              " 0.031191389299185527,\n",
              " 0.031194518680319114,\n",
              " 0.03120886167718139,\n",
              " 0.03123487465785433,\n",
              " 0.03127184047249482,\n",
              " 0.03131832482141665,\n",
              " 0.03136735179250951]"
            ]
          },
          "metadata": {},
          "execution_count": 30
        }
      ]
    },
    {
      "cell_type": "code",
      "source": [
        "## now we can import the confusion matrix\n",
        "## function from sklearn\n",
        "from sklearn.metrics import confusion_matrix"
      ],
      "metadata": {
        "id": "z0RzNzTqPjP4"
      },
      "execution_count": 33,
      "outputs": []
    },
    {
      "cell_type": "code",
      "source": [
        "## just like mse, actual then prediction\n",
        "cum = confusion_matrix(y, np.round(y_pred), sample_weight = mask)\n",
        "cum"
      ],
      "metadata": {
        "colab": {
          "base_uri": "https://localhost:8080/"
        },
        "id": "s-_00VLPPjW7",
        "outputId": "ec6644da-5528-47d5-805e-0fe8f94d5843"
      },
      "execution_count": 70,
      "outputs": [
        {
          "output_type": "execute_result",
          "data": {
            "text/plain": [
              "array([[0.000000e+00, 0.000000e+00, 0.000000e+00],\n",
              "       [0.000000e+00, 1.453638e+07, 2.835000e+03],\n",
              "       [0.000000e+00, 4.782930e+05, 0.000000e+00]])"
            ]
          },
          "metadata": {},
          "execution_count": 70
        }
      ]
    },
    {
      "cell_type": "code",
      "source": [
        "## Calculate the confusion matrix here\n",
        "\n",
        "TN = cum[1,1] #these are nomally 0's and ones\n",
        "FP = cum[1,2] #+ cum[0,2] # acounting for incorrectly predicting [-1]\n",
        "FN = cum[2,1] #+ cum[2,0] # accounting for incorrectly predicitng [-1]\n",
        "TP = cum[2,2]"
      ],
      "metadata": {
        "id": "SVaeaEl1PjSV"
      },
      "execution_count": 72,
      "outputs": []
    },
    {
      "cell_type": "code",
      "source": [
        "FP + TP"
      ],
      "metadata": {
        "colab": {
          "base_uri": "https://localhost:8080/"
        },
        "id": "yVEYA5l_BQnv",
        "outputId": "c8366aa9-191d-4c9e-ab57-0e63c46523b0"
      },
      "execution_count": 119,
      "outputs": [
        {
          "output_type": "execute_result",
          "data": {
            "text/plain": [
              "2893.0"
            ]
          },
          "metadata": {},
          "execution_count": 119
        }
      ]
    },
    {
      "cell_type": "code",
      "source": [
        "## calculate recall and precision here\n",
        "print(\"The baseline precision is\", \n",
        "         np.round(TP/(FP + TP), 4))\n",
        "\n",
        "print(\"The baseline recall is\", \n",
        "         np.round(TP/(FN + TP), 4))"
      ],
      "metadata": {
        "id": "OrhTO9_WPjUo",
        "colab": {
          "base_uri": "https://localhost:8080/"
        },
        "outputId": "a1a90d6d-4e9f-4335-ee4e-39eb2b0abcce"
      },
      "execution_count": 73,
      "outputs": [
        {
          "output_type": "stream",
          "name": "stdout",
          "text": [
            "The baseline precision is 0.0\n",
            "The baseline recall is 0.0\n"
          ]
        }
      ]
    },
    {
      "cell_type": "code",
      "source": [
        "(1*(y_pred >= 0.51) & y.numpy().astype(int)).sum() #true positives"
      ],
      "metadata": {
        "colab": {
          "base_uri": "https://localhost:8080/"
        },
        "id": "UWU-epHP8vke",
        "outputId": "8974db74-9b08-4586-8144-b973286c663c"
      },
      "execution_count": 103,
      "outputs": [
        {
          "output_type": "execute_result",
          "data": {
            "text/plain": [
              "51"
            ]
          },
          "metadata": {},
          "execution_count": 103
        }
      ]
    },
    {
      "cell_type": "code",
      "source": [
        "1*(y_pred >= 0.03)[:50]"
      ],
      "metadata": {
        "colab": {
          "base_uri": "https://localhost:8080/"
        },
        "id": "6yKbzCKsPJyk",
        "outputId": "ad6df5c1-38a4-4c18-ce9a-05deb581b067"
      },
      "execution_count": 92,
      "outputs": [
        {
          "output_type": "execute_result",
          "data": {
            "text/plain": [
              "array([0, 0, 0, 1, 1, 1, 1, 1, 1, 1, 1, 1, 1, 1, 1, 1, 1, 1, 0, 0, 0, 1,\n",
              "       1, 1, 1, 1, 1, 1, 1, 1, 1, 0, 0, 0, 0, 0, 1, 1, 1, 1, 1, 1, 1, 1,\n",
              "       1, 1, 1, 1, 1, 1])"
            ]
          },
          "metadata": {},
          "execution_count": 92
        }
      ]
    },
    {
      "cell_type": "code",
      "source": [
        "recs"
      ],
      "metadata": {
        "colab": {
          "base_uri": "https://localhost:8080/"
        },
        "id": "cWX5dlRfQeDZ",
        "outputId": "4542f574-2a1c-4b35-dc71-f887c91f50d4"
      },
      "execution_count": 174,
      "outputs": [
        {
          "output_type": "execute_result",
          "data": {
            "text/plain": [
              "[0.9995630293564823,\n",
              " 0.9993016832778234,\n",
              " 0.9990821525717499,\n",
              " 0.9988856203205985,\n",
              " 0.9985803681007249,\n",
              " 0.997833963700075,\n",
              " 0.9949215229995003,\n",
              " 0.9881976110877642,\n",
              " 0.9768050128268655,\n",
              " 0.9633927320700909,\n",
              " 0.9483182902530457,\n",
              " 0.9321629210546674,\n",
              " 0.9188050002822538,\n",
              " 0.9071280574877743,\n",
              " 0.8954364793128898,\n",
              " 0.8852544360883392,\n",
              " 0.8742779007846655,\n",
              " 0.8644721959133836,\n",
              " 0.8562052967532454,\n",
              " 0.8476164192241994,\n",
              " 0.8405475304886335,\n",
              " 0.8321760928970318,\n",
              " 0.8239510091094789,\n",
              " 0.8156025699727991,\n",
              " 0.8056567836033561,\n",
              " 0.7951903958452246,\n",
              " 0.7854913201740356,\n",
              " 0.7752214646670555,\n",
              " 0.7651962290897002,\n",
              " 0.7537429985385528,\n",
              " 0.7419343373204291,\n",
              " 0.7319362817352544,\n",
              " 0.7212231832788688,\n",
              " 0.7100898403279998,\n",
              " 0.6983397206314957,\n",
              " 0.6849065321884285,\n",
              " 0.6703108763874863,\n",
              " 0.6560309266495642,\n",
              " 0.6413600031779683,\n",
              " 0.6271302318871487,\n",
              " 0.6131638974436172,\n",
              " 0.5980476402539866,\n",
              " 0.5833537183274687,\n",
              " 0.566763469254202,\n",
              " 0.5499265094826811,\n",
              " 0.5322866945575202,\n",
              " 0.5129115416700641,\n",
              " 0.4944333285245655,\n",
              " 0.47690850587401445,\n",
              " 0.45979765541205914,\n",
              " 0.4428561572090748,\n",
              " 0.4250302638759087,\n",
              " 0.4062426169732779,\n",
              " 0.3867921964151681,\n",
              " 0.3675613065631318,\n",
              " 0.35086024675251365,\n",
              " 0.3341131900320515,\n",
              " 0.3189718436188696,\n",
              " 0.3052793998657726,\n",
              " 0.2932261187180243,\n",
              " 0.28169552972759376,\n",
              " 0.27104097279282785,\n",
              " 0.26140671094914625,\n",
              " 0.2528345595691344,\n",
              " 0.2454269663156266,\n",
              " 0.23763258086570366,\n",
              " 0.23037134141624485,\n",
              " 0.22279021436650756,\n",
              " 0.21437696140232035,\n",
              " 0.20549746703380564,\n",
              " 0.1980647845567466,\n",
              " 0.19143495723332768,\n",
              " 0.18439952079583016,\n",
              " 0.17826520563754852,\n",
              " 0.17183818287116892,\n",
              " 0.1652397170771891,\n",
              " 0.15885660045202418,\n",
              " 0.15307562519208937,\n",
              " 0.14715665920262266,\n",
              " 0.14161612233505402,\n",
              " 0.13583932861237777,\n",
              " 0.1304179655566776,\n",
              " 0.12441327805341078,\n",
              " 0.11833541364811946,\n",
              " 0.11197111394061798,\n",
              " 0.10614205100220994,\n",
              " 0.09988856203205984,\n",
              " 0.09354935154810963,\n",
              " 0.08805481159038497,\n",
              " 0.08201667178904981,\n",
              " 0.07699046400428189,\n",
              " 0.072041614658797,\n",
              " 0.06774717589427401,\n",
              " 0.063475735584673,\n",
              " 0.059273290639837925,\n",
              " 0.05542418559334968,\n",
              " 0.051913785064803375,\n",
              " 0.04866473061491596,\n",
              " 0.04554530382004336,\n",
              " 0.04270394925286383,\n",
              " 0.03939635328135682,\n",
              " 0.03635428492576726,\n",
              " 0.03369482722933432,\n",
              " 0.031152452576140566,\n",
              " 0.02848254103656127,\n",
              " 0.026341593960187582,\n",
              " 0.024342819150604336,\n",
              " 0.02241722124304558,\n",
              " 0.020719517116077384,\n",
              " 0.019076172973470237,\n",
              " 0.017508096501516853,\n",
              " 0.016075919990466096,\n",
              " 0.014817277275644846,\n",
              " 0.013477094584282019,\n",
              " 0.01230835492051943,\n",
              " 0.011388416723640112,\n",
              " 0.010608560024921962,\n",
              " 0.009975057130252795,\n",
              " 0.0092202896550859,\n",
              " 0.008363074517084715,\n",
              " 0.007618760885064176,\n",
              " 0.00688071955893145,\n",
              " 0.005987961354232656,\n",
              " 0.005412999981183083,\n",
              " 0.004827584764987152,\n",
              " 0.004240078780161951,\n",
              " 0.0038491050464882406,\n",
              " 0.003608666654122055,\n",
              " 0.0033013236656191914,\n",
              " 0.0030399775869602943,\n",
              " 0.0027493607474916005,\n",
              " 0.0025381931159352113,\n",
              " 0.0023688408569642458,\n",
              " 0.002197397829364009,\n",
              " 0.002048953256685755,\n",
              " 0.0018733286918269764,\n",
              " 0.0016726149034169433,\n",
              " 0.001591074926875367,\n",
              " 0.001553441091548486,\n",
              " 0.0014656288091190964,\n",
              " 0.001402905750240961,\n",
              " 0.0012670057893383344,\n",
              " 0.0011478319774698772,\n",
              " 0.0010892904558502843,\n",
              " 0.0010328397028599623,\n",
              " 0.0009659351067232846,\n",
              " 0.0009408458831720306,\n",
              " 0.0008906674360695222,\n",
              " 0.0008070366908986751,\n",
              " 0.0007422228633912685,\n",
              " 0.0007129521025814721,\n",
              " 0.0006690459613667773,\n",
              " 0.0005937782907130149,\n",
              " 0.000560325992644676,\n",
              " 0.0004976029337665406,\n",
              " 0.000432789106259134,\n",
              " 0.00040142757682006637,\n",
              " 0.0003867921964151681,\n",
              " 0.0003115245257614057,\n",
              " 0.00029479837672723624,\n",
              " 0.00023625685510764323,\n",
              " 0.00021953070607347378,\n",
              " 0.000198623019780762,\n",
              " 0.00017144302760023668,\n",
              " 0.00017144302760023668,\n",
              " 0.00012126458049772837,\n",
              " 8.572151380011834e-05,\n",
              " 8.363074517084716e-05,\n",
              " 6.690459613667772e-05,\n",
              " 4.181537258542358e-05,\n",
              " 4.181537258542358e-05,\n",
              " 4.181537258542358e-05,\n",
              " 1.672614903416943e-05,\n",
              " 1.672614903416943e-05,\n",
              " 0.0,\n",
              " 0.0,\n",
              " 0.0,\n",
              " 0.0,\n",
              " 0.0,\n",
              " 0.0,\n",
              " 0.0,\n",
              " 0.0,\n",
              " 0.0,\n",
              " 0.0,\n",
              " 0.0,\n",
              " 0.0,\n",
              " 0.0,\n",
              " 0.0,\n",
              " 0.0,\n",
              " 0.0,\n",
              " 0.0,\n",
              " 0.0,\n",
              " 0.0,\n",
              " 0.0,\n",
              " 0.0,\n",
              " 0.0,\n",
              " 0.0,\n",
              " 0.0,\n",
              " 0.0,\n",
              " 0.0,\n",
              " 0.0,\n",
              " 0.0,\n",
              " 0.0,\n",
              " 0.0,\n",
              " 0.0,\n",
              " 0.0,\n",
              " 0.0,\n",
              " 0.0,\n",
              " 0.0,\n",
              " 0.0,\n",
              " 0.0,\n",
              " 0.0,\n",
              " 0.0,\n",
              " 0.0,\n",
              " 0.0,\n",
              " 0.0,\n",
              " 0.0,\n",
              " 0.0,\n",
              " 0.0,\n",
              " 0.0,\n",
              " 0.0,\n",
              " 0.0,\n",
              " 0.0,\n",
              " 0.0,\n",
              " 0.0,\n",
              " 0.0,\n",
              " 0.0,\n",
              " 0.0,\n",
              " 0.0,\n",
              " 0.0,\n",
              " 0.0,\n",
              " 0.0,\n",
              " 0.0,\n",
              " 0.0,\n",
              " 0.0,\n",
              " 0.0,\n",
              " 0.0,\n",
              " 0.0,\n",
              " 0.0,\n",
              " 0.0,\n",
              " 0.0,\n",
              " 0.0,\n",
              " 0.0,\n",
              " 0.0,\n",
              " 0.0,\n",
              " 0.0,\n",
              " 0.0,\n",
              " 0.0,\n",
              " 0.0,\n",
              " 0.0,\n",
              " 0.0,\n",
              " 0.0,\n",
              " 0.0,\n",
              " 0.0,\n",
              " 0.0,\n",
              " 0.0,\n",
              " 0.0,\n",
              " 0.0,\n",
              " 0.0,\n",
              " 0.0,\n",
              " 0.0,\n",
              " 0.0,\n",
              " 0.0,\n",
              " 0.0,\n",
              " 0.0,\n",
              " 0.0,\n",
              " 0.0,\n",
              " 0.0,\n",
              " 0.0,\n",
              " 0.0,\n",
              " 0.0,\n",
              " 0.0,\n",
              " 0.0,\n",
              " 0.0,\n",
              " 0.0,\n",
              " 0.0,\n",
              " 0.0,\n",
              " 0.0,\n",
              " 0.0,\n",
              " 0.0,\n",
              " 0.0,\n",
              " 0.0,\n",
              " 0.0,\n",
              " 0.0,\n",
              " 0.0,\n",
              " 0.0,\n",
              " 0.0,\n",
              " 0.0,\n",
              " 0.0,\n",
              " 0.0,\n",
              " 0.0,\n",
              " 0.0,\n",
              " 0.0,\n",
              " 0.0,\n",
              " 0.0,\n",
              " 0.0,\n",
              " 0.0,\n",
              " 0.0,\n",
              " 0.0,\n",
              " 0.0,\n",
              " 0.0,\n",
              " 0.0,\n",
              " 0.0,\n",
              " 0.0,\n",
              " 0.0,\n",
              " 0.0,\n",
              " 0.0,\n",
              " 0.0,\n",
              " 0.0,\n",
              " 0.0,\n",
              " 0.0,\n",
              " 0.0,\n",
              " 0.0,\n",
              " 0.0,\n",
              " 0.0,\n",
              " 0.0,\n",
              " 0.0,\n",
              " 0.0,\n",
              " 0.0,\n",
              " 0.0,\n",
              " 0.0,\n",
              " 0.0,\n",
              " 0.0,\n",
              " 0.0,\n",
              " 0.0,\n",
              " 0.0,\n",
              " 0.0,\n",
              " 0.0,\n",
              " 0.0,\n",
              " 0.0,\n",
              " 0.0,\n",
              " 0.0,\n",
              " 0.0,\n",
              " 0.0,\n",
              " 0.0,\n",
              " 0.0,\n",
              " 0.0,\n",
              " 0.0,\n",
              " 0.0,\n",
              " 0.0,\n",
              " 0.0,\n",
              " 0.0,\n",
              " 0.0,\n",
              " 0.0,\n",
              " 0.0,\n",
              " 0.0,\n",
              " 0.0,\n",
              " 0.0,\n",
              " 0.0,\n",
              " 0.0,\n",
              " 0.0,\n",
              " 0.0,\n",
              " 0.0,\n",
              " 0.0,\n",
              " 0.0,\n",
              " 0.0,\n",
              " 0.0,\n",
              " 0.0,\n",
              " 0.0,\n",
              " 0.0,\n",
              " 0.0,\n",
              " 0.0,\n",
              " 0.0,\n",
              " 0.0,\n",
              " 0.0,\n",
              " 0.0,\n",
              " 0.0,\n",
              " 0.0,\n",
              " 0.0,\n",
              " 0.0,\n",
              " 0.0,\n",
              " 0.0,\n",
              " 0.0,\n",
              " 0.0,\n",
              " 0.0,\n",
              " 0.0,\n",
              " 0.0,\n",
              " 0.0,\n",
              " 0.0,\n",
              " 0.0,\n",
              " 0.0,\n",
              " 0.0,\n",
              " 0.0,\n",
              " 0.0,\n",
              " 0.0,\n",
              " 0.0,\n",
              " 0.0,\n",
              " 0.0,\n",
              " 0.0,\n",
              " 0.0,\n",
              " 0.0,\n",
              " 0.0,\n",
              " 0.0,\n",
              " 0.0,\n",
              " 0.0,\n",
              " 0.0,\n",
              " 0.0,\n",
              " 0.0,\n",
              " 0.0,\n",
              " 0.0,\n",
              " 0.0,\n",
              " 0.0,\n",
              " 0.0,\n",
              " 0.0,\n",
              " 0.0,\n",
              " 0.0,\n",
              " 0.0,\n",
              " 0.0,\n",
              " 0.0,\n",
              " 0.0,\n",
              " 0.0,\n",
              " 0.0,\n",
              " 0.0,\n",
              " 0.0,\n",
              " 0.0,\n",
              " 0.0,\n",
              " 0.0,\n",
              " 0.0,\n",
              " 0.0,\n",
              " 0.0,\n",
              " 0.0,\n",
              " 0.0,\n",
              " 0.0,\n",
              " 0.0,\n",
              " 0.0,\n",
              " 0.0,\n",
              " 0.0,\n",
              " 0.0,\n",
              " 0.0,\n",
              " 0.0,\n",
              " 0.0,\n",
              " 0.0,\n",
              " 0.0,\n",
              " 0.0,\n",
              " 0.0,\n",
              " 0.0,\n",
              " 0.0,\n",
              " 0.0,\n",
              " 0.0,\n",
              " 0.0,\n",
              " 0.0,\n",
              " 0.0,\n",
              " 0.0,\n",
              " 0.0,\n",
              " 0.0,\n",
              " 0.0,\n",
              " 0.0,\n",
              " 0.0,\n",
              " 0.0,\n",
              " 0.0,\n",
              " 0.0,\n",
              " 0.0,\n",
              " 0.0,\n",
              " 0.0,\n",
              " 0.0,\n",
              " 0.0,\n",
              " 0.0,\n",
              " 0.0,\n",
              " 0.0,\n",
              " 0.0,\n",
              " 0.0,\n",
              " 0.0,\n",
              " 0.0,\n",
              " 0.0,\n",
              " 0.0,\n",
              " 0.0,\n",
              " 0.0,\n",
              " 0.0,\n",
              " 0.0,\n",
              " 0.0,\n",
              " 0.0,\n",
              " 0.0,\n",
              " 0.0,\n",
              " 0.0,\n",
              " 0.0,\n",
              " 0.0,\n",
              " 0.0,\n",
              " 0.0,\n",
              " 0.0,\n",
              " 0.0,\n",
              " 0.0,\n",
              " 0.0,\n",
              " 0.0,\n",
              " 0.0,\n",
              " 0.0,\n",
              " 0.0,\n",
              " 0.0,\n",
              " 0.0,\n",
              " 0.0,\n",
              " 0.0,\n",
              " 0.0,\n",
              " 0.0,\n",
              " 0.0,\n",
              " 0.0,\n",
              " 0.0,\n",
              " 0.0,\n",
              " 0.0,\n",
              " 0.0,\n",
              " 0.0,\n",
              " 0.0,\n",
              " 0.0,\n",
              " 0.0,\n",
              " 0.0,\n",
              " 0.0,\n",
              " 0.0,\n",
              " 0.0,\n",
              " 0.0,\n",
              " 0.0,\n",
              " 0.0,\n",
              " 0.0,\n",
              " 0.0,\n",
              " 0.0,\n",
              " 0.0,\n",
              " 0.0,\n",
              " 0.0,\n",
              " 0.0,\n",
              " 0.0,\n",
              " 0.0,\n",
              " 0.0,\n",
              " 0.0,\n",
              " 0.0,\n",
              " 0.0,\n",
              " 0.0,\n",
              " 0.0,\n",
              " 0.0,\n",
              " 0.0,\n",
              " 0.0,\n",
              " 0.0,\n",
              " 0.0,\n",
              " 0.0,\n",
              " 0.0,\n",
              " 0.0,\n",
              " 0.0,\n",
              " 0.0,\n",
              " 0.0,\n",
              " 0.0,\n",
              " 0.0,\n",
              " 0.0,\n",
              " 0.0,\n",
              " 0.0,\n",
              " 0.0,\n",
              " 0.0,\n",
              " 0.0,\n",
              " 0.0,\n",
              " 0.0,\n",
              " 0.0,\n",
              " 0.0,\n",
              " 0.0,\n",
              " 0.0,\n",
              " 0.0,\n",
              " 0.0,\n",
              " 0.0,\n",
              " 0.0,\n",
              " 0.0,\n",
              " 0.0,\n",
              " 0.0,\n",
              " 0.0,\n",
              " 0.0,\n",
              " 0.0,\n",
              " 0.0,\n",
              " 0.0,\n",
              " 0.0,\n",
              " 0.0,\n",
              " 0.0,\n",
              " 0.0,\n",
              " 0.0,\n",
              " 0.0,\n",
              " 0.0,\n",
              " 0.0,\n",
              " 0.0,\n",
              " 0.0,\n",
              " 0.0,\n",
              " 0.0,\n",
              " 0.0,\n",
              " 0.0,\n",
              " 0.0,\n",
              " 0.0,\n",
              " 0.0,\n",
              " 0.0,\n",
              " 0.0,\n",
              " 0.0,\n",
              " 0.0,\n",
              " 0.0,\n",
              " 0.0,\n",
              " 0.0,\n",
              " 0.0,\n",
              " 0.0,\n",
              " 0.0,\n",
              " 0.0,\n",
              " 0.0,\n",
              " 0.0,\n",
              " 0.0,\n",
              " 0.0,\n",
              " 0.0,\n",
              " 0.0,\n",
              " 0.0,\n",
              " 0.0,\n",
              " 0.0,\n",
              " 0.0,\n",
              " 0.0,\n",
              " 0.0,\n",
              " 0.0,\n",
              " 0.0,\n",
              " 0.0,\n",
              " 0.0,\n",
              " 0.0,\n",
              " 0.0,\n",
              " 0.0,\n",
              " 0.0,\n",
              " 0.0,\n",
              " 0.0,\n",
              " 0.0,\n",
              " 0.0,\n",
              " 0.0,\n",
              " 0.0,\n",
              " 0.0,\n",
              " 0.0,\n",
              " 0.0,\n",
              " 0.0,\n",
              " 0.0,\n",
              " 0.0,\n",
              " 0.0,\n",
              " 0.0,\n",
              " 0.0,\n",
              " 0.0,\n",
              " 0.0,\n",
              " 0.0,\n",
              " 0.0,\n",
              " 0.0,\n",
              " 0.0,\n",
              " 0.0,\n",
              " 0.0,\n",
              " 0.0,\n",
              " 0.0,\n",
              " 0.0,\n",
              " 0.0,\n",
              " 0.0,\n",
              " 0.0,\n",
              " 0.0,\n",
              " 0.0,\n",
              " 0.0,\n",
              " 0.0,\n",
              " 0.0,\n",
              " 0.0,\n",
              " 0.0,\n",
              " 0.0,\n",
              " 0.0,\n",
              " 0.0,\n",
              " 0.0,\n",
              " 0.0,\n",
              " 0.0,\n",
              " 0.0,\n",
              " 0.0,\n",
              " 0.0,\n",
              " 0.0,\n",
              " 0.0,\n",
              " 0.0,\n",
              " 0.0,\n",
              " 0.0,\n",
              " 0.0,\n",
              " 0.0,\n",
              " 0.0,\n",
              " 0.0,\n",
              " 0.0,\n",
              " 0.0,\n",
              " 0.0,\n",
              " 0.0,\n",
              " 0.0,\n",
              " 0.0,\n",
              " 0.0,\n",
              " 0.0,\n",
              " 0.0,\n",
              " 0.0,\n",
              " 0.0,\n",
              " 0.0,\n",
              " 0.0,\n",
              " 0.0,\n",
              " 0.0,\n",
              " 0.0,\n",
              " 0.0,\n",
              " 0.0,\n",
              " 0.0,\n",
              " 0.0,\n",
              " 0.0,\n",
              " 0.0,\n",
              " 0.0,\n",
              " 0.0,\n",
              " 0.0,\n",
              " 0.0,\n",
              " 0.0,\n",
              " 0.0,\n",
              " 0.0,\n",
              " 0.0,\n",
              " 0.0,\n",
              " 0.0,\n",
              " 0.0,\n",
              " 0.0,\n",
              " 0.0,\n",
              " 0.0,\n",
              " 0.0,\n",
              " 0.0,\n",
              " 0.0,\n",
              " 0.0,\n",
              " 0.0,\n",
              " 0.0,\n",
              " 0.0,\n",
              " 0.0,\n",
              " 0.0,\n",
              " 0.0,\n",
              " 0.0,\n",
              " 0.0,\n",
              " 0.0,\n",
              " 0.0,\n",
              " 0.0,\n",
              " 0.0,\n",
              " 0.0,\n",
              " 0.0,\n",
              " 0.0,\n",
              " 0.0,\n",
              " 0.0,\n",
              " 0.0,\n",
              " 0.0,\n",
              " 0.0,\n",
              " 0.0,\n",
              " 0.0,\n",
              " 0.0,\n",
              " 0.0,\n",
              " 0.0,\n",
              " 0.0,\n",
              " 0.0,\n",
              " 0.0,\n",
              " 0.0,\n",
              " 0.0,\n",
              " 0.0,\n",
              " 0.0,\n",
              " 0.0,\n",
              " 0.0,\n",
              " 0.0,\n",
              " 0.0,\n",
              " 0.0,\n",
              " 0.0,\n",
              " 0.0,\n",
              " 0.0,\n",
              " 0.0,\n",
              " 0.0,\n",
              " 0.0,\n",
              " 0.0,\n",
              " 0.0,\n",
              " 0.0,\n",
              " 0.0,\n",
              " 0.0,\n",
              " 0.0,\n",
              " 0.0,\n",
              " 0.0,\n",
              " 0.0,\n",
              " 0.0,\n",
              " 0.0,\n",
              " 0.0,\n",
              " 0.0,\n",
              " 0.0,\n",
              " 0.0,\n",
              " 0.0,\n",
              " 0.0,\n",
              " 0.0,\n",
              " 0.0,\n",
              " 0.0,\n",
              " 0.0,\n",
              " 0.0,\n",
              " 0.0,\n",
              " 0.0,\n",
              " 0.0,\n",
              " 0.0,\n",
              " 0.0,\n",
              " 0.0,\n",
              " 0.0,\n",
              " 0.0,\n",
              " 0.0,\n",
              " 0.0,\n",
              " 0.0,\n",
              " 0.0,\n",
              " 0.0,\n",
              " 0.0,\n",
              " 0.0,\n",
              " 0.0,\n",
              " 0.0,\n",
              " 0.0,\n",
              " 0.0,\n",
              " 0.0,\n",
              " 0.0,\n",
              " 0.0,\n",
              " 0.0,\n",
              " 0.0,\n",
              " 0.0,\n",
              " 0.0,\n",
              " 0.0,\n",
              " 0.0,\n",
              " 0.0,\n",
              " 0.0,\n",
              " 0.0,\n",
              " 0.0,\n",
              " 0.0,\n",
              " 0.0,\n",
              " 0.0,\n",
              " 0.0,\n",
              " 0.0,\n",
              " 0.0,\n",
              " 0.0,\n",
              " 0.0,\n",
              " 0.0,\n",
              " 0.0,\n",
              " 0.0,\n",
              " 0.0,\n",
              " 0.0,\n",
              " 0.0,\n",
              " 0.0,\n",
              " 0.0,\n",
              " 0.0,\n",
              " 0.0,\n",
              " 0.0,\n",
              " 0.0,\n",
              " 0.0,\n",
              " 0.0,\n",
              " 0.0,\n",
              " 0.0,\n",
              " 0.0,\n",
              " 0.0,\n",
              " 0.0,\n",
              " 0.0,\n",
              " 0.0,\n",
              " 0.0,\n",
              " 0.0,\n",
              " 0.0,\n",
              " 0.0,\n",
              " 0.0,\n",
              " 0.0,\n",
              " 0.0,\n",
              " 0.0,\n",
              " 0.0,\n",
              " 0.0,\n",
              " 0.0,\n",
              " 0.0,\n",
              " 0.0,\n",
              " 0.0,\n",
              " 0.0,\n",
              " 0.0,\n",
              " 0.0,\n",
              " 0.0,\n",
              " 0.0,\n",
              " 0.0,\n",
              " 0.0,\n",
              " 0.0,\n",
              " 0.0,\n",
              " 0.0,\n",
              " 0.0,\n",
              " 0.0,\n",
              " 0.0,\n",
              " 0.0,\n",
              " 0.0,\n",
              " 0.0,\n",
              " 0.0,\n",
              " 0.0,\n",
              " 0.0,\n",
              " 0.0,\n",
              " 0.0,\n",
              " 0.0,\n",
              " 0.0,\n",
              " 0.0,\n",
              " 0.0,\n",
              " 0.0,\n",
              " 0.0,\n",
              " 0.0,\n",
              " 0.0,\n",
              " 0.0,\n",
              " 0.0,\n",
              " 0.0,\n",
              " 0.0,\n",
              " 0.0,\n",
              " 0.0,\n",
              " 0.0,\n",
              " 0.0,\n",
              " 0.0,\n",
              " 0.0,\n",
              " 0.0,\n",
              " 0.0,\n",
              " 0.0,\n",
              " 0.0,\n",
              " 0.0,\n",
              " 0.0,\n",
              " 0.0,\n",
              " 0.0,\n",
              " 0.0,\n",
              " 0.0,\n",
              " 0.0,\n",
              " 0.0,\n",
              " 0.0,\n",
              " 0.0,\n",
              " 0.0,\n",
              " 0.0,\n",
              " 0.0,\n",
              " 0.0,\n",
              " 0.0,\n",
              " 0.0,\n",
              " 0.0,\n",
              " 0.0,\n",
              " 0.0,\n",
              " 0.0,\n",
              " 0.0,\n",
              " 0.0,\n",
              " 0.0,\n",
              " 0.0,\n",
              " 0.0,\n",
              " 0.0,\n",
              " 0.0,\n",
              " 0.0,\n",
              " 0.0,\n",
              " 0.0,\n",
              " 0.0,\n",
              " 0.0,\n",
              " 0.0,\n",
              " 0.0,\n",
              " 0.0,\n",
              " 0.0,\n",
              " 0.0,\n",
              " 0.0,\n",
              " 0.0,\n",
              " 0.0,\n",
              " 0.0,\n",
              " 0.0,\n",
              " 0.0,\n",
              " 0.0,\n",
              " 0.0,\n",
              " 0.0,\n",
              " 0.0,\n",
              " 0.0,\n",
              " 0.0,\n",
              " 0.0,\n",
              " 0.0,\n",
              " 0.0,\n",
              " 0.0,\n",
              " 0.0,\n",
              " 0.0,\n",
              " 0.0,\n",
              " 0.0,\n",
              " 0.0,\n",
              " 0.0,\n",
              " 0.0,\n",
              " 0.0,\n",
              " 0.0,\n",
              " 0.0,\n",
              " 0.0,\n",
              " 0.0,\n",
              " 0.0,\n",
              " 0.0,\n",
              " 0.0,\n",
              " 0.0,\n",
              " 0.0,\n",
              " 0.0,\n",
              " 0.0,\n",
              " 0.0,\n",
              " 0.0,\n",
              " 0.0,\n",
              " 0.0,\n",
              " 0.0,\n",
              " 0.0,\n",
              " 0.0,\n",
              " 0.0,\n",
              " 0.0,\n",
              " 0.0,\n",
              " 0.0,\n",
              " 0.0,\n",
              " 0.0,\n",
              " 0.0,\n",
              " 0.0,\n",
              " 0.0]"
            ]
          },
          "metadata": {},
          "execution_count": 174
        }
      ]
    },
    {
      "cell_type": "code",
      "source": [
        " ## Now plot how the accuracy (sensitivity/specificity) changes with the cutoff\n",
        "#cutoffs = np.arange(0.001,0.201,.01)\n",
        "cutoffs = np.arange(0.001,.975,.001)\n",
        "precs = []\n",
        "recs = []\n",
        "y = (y*mask).numpy().astype(int)\n",
        "\n",
        "for cutoff in cutoffs:\n",
        "    TP = (1*(y_pred >= cutoff) & y).sum()\n",
        "    PP = 1*(y_pred >= cutoff).sum() #predicted positives = # Denominator for precision\n",
        "    AP = y.sum() #Actual positives # Denominator for recall\n",
        "    precs.append(TP/PP)\n",
        "    recs.append(TP/AP)"
      ],
      "metadata": {
        "colab": {
          "base_uri": "https://localhost:8080/"
        },
        "id": "yeLkD0ao8Ktf",
        "outputId": "bedbd04f-39fe-43bc-90ce-031c0ade5c2f"
      },
      "execution_count": 167,
      "outputs": [
        {
          "output_type": "stream",
          "name": "stderr",
          "text": [
            "/usr/local/lib/python3.7/dist-packages/ipykernel_launcher.py:12: RuntimeWarning: invalid value encountered in long_scalars\n",
            "  if sys.path[0] == '':\n"
          ]
        }
      ]
    },
    {
      "cell_type": "code",
      "source": [
        "plt.figure(figsize=(12,8))\n",
        "\n",
        "plt.scatter(cutoffs,precs)\n",
        "\n",
        "plt.xlabel(\"Cutoff\",fontsize=16)\n",
        "plt.ylabel(\"Training Precision\",fontsize=16)\n",
        "\n",
        "plt.show()"
      ],
      "metadata": {
        "colab": {
          "base_uri": "https://localhost:8080/",
          "height": 502
        },
        "id": "XIl-u9qmS78d",
        "outputId": "86608cf0-cc64-44c1-b516-eff4aaeb8463"
      },
      "execution_count": 147,
      "outputs": [
        {
          "output_type": "display_data",
          "data": {
            "text/plain": [
              "<Figure size 864x576 with 1 Axes>"
            ],
            "image/png": "[encoded data removed]"
          },
          "metadata": {
            "needs_background": "light"
          }
        }
      ]
    },
    {
      "cell_type": "code",
      "source": [
        "plt.figure(figsize=(12,8))\n",
        "\n",
        "plt.scatter(cutoffs,recs)\n",
        "\n",
        "plt.xlabel(\"Cutoff\",fontsize=16)\n",
        "plt.ylabel(\"Training Recall\",fontsize=16)\n",
        "\n",
        "plt.show()"
      ],
      "metadata": {
        "colab": {
          "base_uri": "https://localhost:8080/",
          "height": 502
        },
        "id": "rwc2sIJTS7-3",
        "outputId": "d16f68b6-b55a-40b8-efdd-efe22f373579"
      },
      "execution_count": 148,
      "outputs": [
        {
          "output_type": "display_data",
          "data": {
            "text/plain": [
              "<Figure size 864x576 with 1 Axes>"
            ],
            "image/png": "[encoded data removed]"
          },
          "metadata": {
            "needs_background": "light"
          }
        }
      ]
    },
    {
      "cell_type": "code",
      "source": [
        "from sklearn.metrics import precision_score, recall_score\n",
        "## print the precision and recall here\n",
        "print(\"The training precision is\",\n",
        "         np.round(precision_score(tf.reshape(labels,[len(inputs)*32*32]), log_reg.predict(X), sample_weight=mask, average = None),4))\n",
        "\n",
        "print(\"The training recall is\",\n",
        "         np.round(recall_score(tf.reshape(labels,[len(inputs)*32*32]), log_reg.predict(X), sample_weight=mask, average = None),4))"
      ],
      "metadata": {
        "colab": {
          "base_uri": "https://localhost:8080/"
        },
        "id": "6rrFqeGTPjZa",
        "outputId": "f45aa250-078d-4362-c753-ff516b4c2dec"
      },
      "execution_count": 149,
      "outputs": [
        {
          "output_type": "stream",
          "name": "stdout",
          "text": [
            "The training precision is [0.     0.9681 0.    ]\n",
            "The training recall is [0.     0.9996 0.    ]\n"
          ]
        },
        {
          "output_type": "stream",
          "name": "stderr",
          "text": [
            "/usr/local/lib/python3.7/dist-packages/sklearn/metrics/_classification.py:1318: UndefinedMetricWarning: Recall is ill-defined and being set to 0.0 in labels with no true samples. Use `zero_division` parameter to control this behavior.\n",
            "  _warn_prf(average, modifier, msg_start, len(result))\n"
          ]
        }
      ]
    },
    {
      "cell_type": "code",
      "source": [
        "plt.figure(figsize=(10,8))\n",
        "\n",
        "plt.plot(recs, precs)\n",
        "\n",
        "plt.xlabel(\"Recall\", fontsize=16)\n",
        "plt.ylabel(\"Precision\", fontsize=16)\n",
        "\n",
        "plt.xticks(fontsize=14)\n",
        "plt.yticks(fontsize=14)\n",
        "\n",
        "plt.show()"
      ],
      "metadata": {
        "colab": {
          "base_uri": "https://localhost:8080/",
          "height": 506
        },
        "id": "ATyN2L0YMLaZ",
        "outputId": "98ec45dd-b2a8-4cfd-af48-d9f5a21a4d6e"
      },
      "execution_count": 168,
      "outputs": [
        {
          "output_type": "display_data",
          "data": {
            "text/plain": [
              "<Figure size 720x576 with 1 Axes>"
            ],
            "image/png": "[encoded data removed]"
          },
          "metadata": {
            "needs_background": "light"
          }
        }
      ]
    },
    {
      "cell_type": "code",
      "source": [
        "#metrics.auc(precs, recs) #Not working\n",
        "auc = tf.keras.metrics.AUC(curve = 'PR')\n",
        "auc.update_state(y, y_pred)\n",
        "auc.result()"
      ],
      "metadata": {
        "colab": {
          "base_uri": "https://localhost:8080/"
        },
        "id": "7WhPKRhucCeJ",
        "outputId": "8784f0bc-5ba6-4f8a-9613-8ad9a0084df4"
      },
      "execution_count": 194,
      "outputs": [
        {
          "output_type": "execute_result",
          "data": {
            "text/plain": [
              "<tf.Tensor: shape=(), dtype=float32, numpy=0.06265991>"
            ]
          },
          "metadata": {},
          "execution_count": 194
        }
      ]
    },
    {
      "cell_type": "code",
      "source": [
        "from sklearn.metrics import roc_auc_score, roc_curve\n",
        "roc_auc_score(y, y_pred)"
      ],
      "metadata": {
        "colab": {
          "base_uri": "https://localhost:8080/"
        },
        "id": "GrB93Apre-E4",
        "outputId": "96120642-b34e-4a6e-f634-c7cb4514663a"
      },
      "execution_count": 181,
      "outputs": [
        {
          "output_type": "execute_result",
          "data": {
            "text/plain": [
              "0.7143334190444613"
            ]
          },
          "metadata": {},
          "execution_count": 181
        }
      ]
    },
    {
      "cell_type": "code",
      "source": [
        "y_pred"
      ],
      "metadata": {
        "colab": {
          "base_uri": "https://localhost:8080/"
        },
        "id": "OKqHcRbkfXrJ",
        "outputId": "41ede8c7-fd84-487f-b233-e1d7d65bc31c"
      },
      "execution_count": 180,
      "outputs": [
        {
          "output_type": "execute_result",
          "data": {
            "text/plain": [
              "array([0.02800882, 0.02863296, 0.02943854, ..., 0.03887186, 0.03930538,\n",
              "       0.03947924])"
            ]
          },
          "metadata": {},
          "execution_count": 180
        }
      ]
    },
    {
      "cell_type": "code",
      "source": [
        "fprs, tprs, curoffs = roc_curve(y, y_pred)"
      ],
      "metadata": {
        "id": "xquR9h3zcZiN"
      },
      "execution_count": 182,
      "outputs": []
    },
    {
      "cell_type": "code",
      "source": [
        "plt.figure(figsize=(10,8))\n",
        "\n",
        "plt.plot(fprs, tprs, label=\"ROC Curve\")\n",
        "plt.plot([0,1], [0,1], 'k--', label=\"Random Guess Curve\")\n",
        "\n",
        "\n",
        "plt.xlabel(\"False Positive Rate\", fontsize=16)\n",
        "plt.ylabel(\"True Positive Rate\", fontsize=16)\n",
        "plt.xticks(fontsize=14)\n",
        "plt.yticks(fontsize=14)\n",
        "plt.legend(fontsize=14)\n",
        "\n",
        "plt.show()"
      ],
      "metadata": {
        "colab": {
          "base_uri": "https://localhost:8080/",
          "height": 506
        },
        "id": "-0XRjqogfgOb",
        "outputId": "820dedc6-c7fc-4cdf-bebc-7999635364f9"
      },
      "execution_count": 183,
      "outputs": [
        {
          "output_type": "display_data",
          "data": {
            "text/plain": [
              "<Figure size 720x576 with 1 Axes>"
            ],
            "image/png": "[encoded data removed]"
          },
          "metadata": {
            "needs_background": "light"
          }
        }
      ]
    },
    {
      "cell_type": "markdown",
      "source": [
        "try l1 or l2 penalty - see if that changes prec/recall\n",
        "\n",
        "calculate coefficients for each feature - what is most important?\n",
        "\n",
        "remove each feature one at a time - what affects precision most?\n",
        "\n",
        "Try convolution to create a new feature that includes spatial data (see Kaggle)\n"
      ],
      "metadata": {
        "id": "ImcE5KoS8OnJ"
      }
    },
    {
      "cell_type": "markdown",
      "metadata": {
        "id": "bzCgCoxtgP-f"
      },
      "source": [
        "# Plotting function"
      ]
    },
    {
      "cell_type": "code",
      "execution_count": 17,
      "metadata": {
        "execution": {
          "iopub.execute_input": "2021-12-04T23:22:02.409458Z",
          "iopub.status.busy": "2021-12-04T23:22:02.4082Z",
          "iopub.status.idle": "2021-12-04T23:22:02.41446Z",
          "shell.execute_reply": "2021-12-04T23:22:02.413495Z",
          "shell.execute_reply.started": "2021-12-04T23:22:02.409372Z"
        },
        "id": "bnG0_l_ChjUt",
        "trusted": true
      },
      "outputs": [],
      "source": [
        "TITLES = [\n",
        "  'Elevation',\n",
        "  'Wind\\ndirection',\n",
        "  'Wind\\nvelocity',\n",
        "  'Min\\ntemp',\n",
        "  'Max\\ntemp',\n",
        "  'Humidity',\n",
        "  'Precip',\n",
        "  'Drought',\n",
        "  'Vegetation',\n",
        "  'Population\\ndensity',\n",
        "  'Energy\\nrelease\\ncomponent',\n",
        "  'Previous\\nfire\\nmask',\n",
        "  'Fire\\nmask'\n",
        "]"
      ]
    },
    {
      "cell_type": "code",
      "execution_count": 18,
      "metadata": {
        "execution": {
          "iopub.execute_input": "2021-12-04T23:22:03.029066Z",
          "iopub.status.busy": "2021-12-04T23:22:03.028554Z",
          "iopub.status.idle": "2021-12-04T23:22:03.037678Z",
          "shell.execute_reply": "2021-12-04T23:22:03.036364Z",
          "shell.execute_reply.started": "2021-12-04T23:22:03.02903Z"
        },
        "id": "G0E6lWR9beD0",
        "trusted": true
      },
      "outputs": [],
      "source": [
        "n_rows = 10\n",
        "n_features = inputs.shape[3]\n",
        "CMAP = colors.ListedColormap(['black', 'silver', 'orangered'])\n",
        "BOUNDS = [-1, -0.1, 0.001, 1]\n",
        "NORM = colors.BoundaryNorm(BOUNDS, CMAP.N)\n",
        "keys = INPUT_FEATURES"
      ]
    },
    {
      "cell_type": "code",
      "source": [
        "n_features"
      ],
      "metadata": {
        "id": "H1sfWlBpp5QQ",
        "colab": {
          "base_uri": "https://localhost:8080/"
        },
        "outputId": "92e29a94-9c0a-4d7e-ffb6-4ffa1c846bea"
      },
      "execution_count": null,
      "outputs": [
        {
          "output_type": "execute_result",
          "data": {
            "text/plain": [
              "12"
            ]
          },
          "metadata": {},
          "execution_count": 13
        }
      ]
    },
    {
      "cell_type": "code",
      "execution_count": null,
      "metadata": {
        "execution": {
          "iopub.execute_input": "2021-12-04T23:22:03.73577Z",
          "iopub.status.busy": "2021-12-04T23:22:03.734649Z",
          "iopub.status.idle": "2021-12-04T23:22:07.29126Z",
          "shell.execute_reply": "2021-12-04T23:22:07.290443Z",
          "shell.execute_reply.started": "2021-12-04T23:22:03.735694Z"
        },
        "id": "sPtKQzQv71J_",
        "trusted": true,
        "colab": {
          "base_uri": "https://localhost:8080/",
          "height": 477
        },
        "outputId": "59f7a40e-a0bd-4941-dc29-17b6f457d8a2"
      },
      "outputs": [
        {
          "output_type": "display_data",
          "data": {
            "text/plain": [
              "<Figure size 1080x468 with 130 Axes>"
            ],
            "image/png": "[encoded data removed]"
          },
          "metadata": {
            "needs_background": "light"
          }
        }
      ],
      "source": [
        "fig = plt.figure(figsize=(15,6.5))\n",
        "\n",
        "for i in range(n_rows):\n",
        "  for j in range(n_features + 1):\n",
        "    plt.subplot(n_rows, n_features + 1, i * (n_features + 1) + j + 1)\n",
        "    if i == 0:\n",
        "      plt.title(TITLES[j], fontsize=13)\n",
        "    if j < n_features - 1:\n",
        "      plt.imshow(inputs[i, :, :, j], cmap='viridis')\n",
        "    if j == n_features - 1:\n",
        "      plt.imshow(inputs[i, :, :, -1], cmap=CMAP, norm=NORM)\n",
        "    if j == n_features:\n",
        "      plt.imshow(labels[i, :, :, 0], cmap=CMAP, norm=NORM) \n",
        "    plt.axis('off')\n",
        "plt.tight_layout()"
      ]
    },
    {
      "cell_type": "code",
      "source": [],
      "metadata": {
        "id": "bySc6e0-jvAy"
      },
      "execution_count": null,
      "outputs": []
    }
  ],
  "metadata": {
    "colab": {
      "provenance": [],
      "collapsed_sections": [],
      "toc_visible": true,
      "include_colab_link": true
    },
    "kernelspec": {
      "display_name": "Python 3",
      "language": "python",
      "name": "python3"
    },
    "language_info": {
      "codemirror_mode": {
        "name": "ipython",
        "version": 3
      },
      "file_extension": ".py",
      "mimetype": "text/x-python",
      "name": "python",
      "nbconvert_exporter": "python",
      "pygments_lexer": "ipython3",
      "version": "3.6.4"
    },
    "gpuClass": "standard"
  },
  "nbformat": 4,
  "nbformat_minor": 0
}